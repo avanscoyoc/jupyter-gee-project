{
 "cells": [
  {
   "cell_type": "code",
   "execution_count": null,
   "id": "68c8d872",
   "metadata": {},
   "outputs": [],
   "source": [
    "# Load protected areas dataset\n",
    "protected_areas = ee.FeatureCollection(\"WCMC/WDPA/202106/polygons\")\n",
    "\n",
    "# Define filters\n",
    "marine_filter = ee.Filter.eq(\"MARINE\", \"0\")\n",
    "not_mpa_filter = ee.Filter.neq(\"DESIG_ENG\", \"Marine Protected Area\")\n",
    "status_filter = ee.Filter.inList(\"STATUS\", [\"Designated\", \"Established\", \"Inscribed\"])\n",
    "designation_filter = ee.Filter.neq(\"DESIG_ENG\", \"UNESCO-MAB Biosphere Reserve\")\n",
    "excluded_pids = [\"555655917\", \"555656005\", \"555656013\", \"555665477\", \"555656021\",\n",
    "                 \"555665485\", \"555556142\", \"187\", \"555703455\", \"555563456\", \"15894\"]\n",
    "area_filter = ee.Filter.gte(\"GIS_AREA\", 200)\n",
    "\n",
    "# Filter to exclude specific WDPA_PID values\n",
    "pids_filter = ee.Filter.inList(\"WDPA_PID\", excluded_pids).Not()\n",
    "\n",
    "# Combine all filters\n",
    "combined_filter = ee.Filter.And(\n",
    "    marine_filter,\n",
    "    not_mpa_filter,\n",
    "    status_filter,\n",
    "    designation_filter,\n",
    "    pids_filter,\n",
    "    area_filter\n",
    ")\n",
    "\n",
    "# Apply filters\n",
    "data = protected_areas.filter(combined_filter)\n",
    "\n",
    "# Get WDPA_PIDs\n",
    "wdpa_pids = data.aggregate_array(\"WDPA_PID\").getInfo()\n",
    "print(f\"Number of protected areas: {len(wdpa_pids)}\")"
   ]
  }
 ],
 "metadata": {
  "language_info": {
   "name": "python"
  }
 },
 "nbformat": 4,
 "nbformat_minor": 5
}
