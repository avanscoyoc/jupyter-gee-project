{
 "cells": [
  {
   "cell_type": "code",
   "execution_count": 1,
   "id": "09763b1a",
   "metadata": {},
   "outputs": [
    {
     "name": "stdout",
     "output_type": "stream",
     "text": [
      "Hello from the Earth Engine servers!\n"
     ]
    }
   ],
   "source": [
    "import ee\n",
    "import os\n",
    "\n",
    "service_account = 'jupyter-gee-project@ee-avs-dse.iam.gserviceaccount.com'\n",
    "key_path = '../service_account_key.json'\n",
    "\n",
    "credentials = ee.ServiceAccountCredentials(service_account, key_path)\n",
    "ee.Initialize(credentials)\n",
    "\n",
    "print(ee.String('Hello from the Earth Engine servers!').getInfo())"
   ]
  },
  {
   "cell_type": "code",
   "execution_count": null,
   "id": "68c8d872",
   "metadata": {},
   "outputs": [],
   "source": [
    "def remove_high_perimeter_area_ratio(features):\n",
    "    \"\"\"Calculate perimeter to area ratio and filter out narrow features in top 25%\"\"\"\n",
    "    features_with_ratio = features.map(lambda f: f.set({\n",
    "        'perimeter_area_ratio': f.geometry().perimeter().divide(f.get('GIS_AREA'))\n",
    "    }))\n",
    "    ratio_stats = features_with_ratio.aggregate_stats('perimeter_area_ratio')\n",
    "    ratio_threshold = ratio_stats.get('p75')\n",
    "    narrow_filter = ee.Filter.lt('perimeter_area_ratio', ratio_threshold)\n",
    "    \n",
    "    return features_with_ratio, narrow_filter\n",
    "\n",
    "# Load protected areas dataset\n",
    "protected_areas = ee.FeatureCollection(\"WCMC/WDPA/202106/polygons\")\n",
    "\n",
    "# Define filters\n",
    "marine_filter = ee.Filter.eq(\"MARINE\", \"0\")\n",
    "not_mpa_filter = ee.Filter.neq(\"DESIG_ENG\", \"Marine Protected Area\")\n",
    "status_filter = ee.Filter.inList(\"STATUS\", [\"Designated\", \"Established\", \"Inscribed\"])\n",
    "designation_filter = ee.Filter.neq(\"DESIG_ENG\", \"UNESCO-MAB Biosphere Reserve\")\n",
    "excluded_pids = [\"555655917\", \"555656005\", \"555656013\", \"555665477\", \"555656021\",\n",
    "                 \"555665485\", \"555556142\", \"187\", \"555703455\", \"555563456\", \"15894\"]\n",
    "area_filter = ee.Filter.gte(\"GIS_AREA\", 200)\n",
    "\n",
    "# Filter to exclude specific WDPA_PID values\n",
    "pids_filter = ee.Filter.inList(\"WDPA_PID\", excluded_pids).Not()\n",
    "\n",
    "# Combine all filters\n",
    "combined_filter = ee.Filter.And(\n",
    "    marine_filter,\n",
    "    not_mpa_filter,\n",
    "    status_filter,\n",
    "    designation_filter,\n",
    "    pids_filter,\n",
    "    area_filter\n",
    ")\n",
    "\n",
    "# Apply filters\n",
    "data = protected_areas.filter(combined_filter)\n",
    "\n",
    "# Get WDPA_PIDs\n",
    "wdpa_pids = data.aggregate_array(\"WDPA_PID\").getInfo()\n",
    "print(f\"Number of protected areas: {len(wdpa_pids)}\")"
   ]
  },
  {
   "cell_type": "code",
   "execution_count": 2,
   "id": "dd600eea",
   "metadata": {},
   "outputs": [
    {
     "name": "stdout",
     "output_type": "stream",
     "text": [
      "Processing 9272 protected areas in 19 batches...\n",
      "Processed batch 1/19\n",
      "Processed batch 2/19\n",
      "Processed batch 3/19\n",
      "Processed batch 4/19\n",
      "Processed batch 5/19\n",
      "Processed batch 6/19\n",
      "Processed batch 7/19\n",
      "Processed batch 8/19\n",
      "Processed batch 9/19\n",
      "Processed batch 10/19\n",
      "Processed batch 11/19\n"
     ]
    },
    {
     "ename": "EEException",
     "evalue": "Response size exceeds limit",
     "output_type": "error",
     "traceback": [
      "\u001b[0;31m---------------------------------------------------------------------------\u001b[0m",
      "\u001b[0;31mHttpError\u001b[0m                                 Traceback (most recent call last)",
      "File \u001b[0;32m/usr/local/lib/python3.10/dist-packages/ee/data.py:408\u001b[0m, in \u001b[0;36m_execute_cloud_call\u001b[0;34m(call, num_retries)\u001b[0m\n\u001b[1;32m    407\u001b[0m \u001b[38;5;28;01mtry\u001b[39;00m:\n\u001b[0;32m--> 408\u001b[0m   \u001b[38;5;28;01mreturn\u001b[39;00m \u001b[43mcall\u001b[49m\u001b[38;5;241;43m.\u001b[39;49m\u001b[43mexecute\u001b[49m\u001b[43m(\u001b[49m\u001b[43mnum_retries\u001b[49m\u001b[38;5;241;43m=\u001b[39;49m\u001b[43mnum_retries\u001b[49m\u001b[43m)\u001b[49m\n\u001b[1;32m    409\u001b[0m \u001b[38;5;28;01mexcept\u001b[39;00m googleapiclient\u001b[38;5;241m.\u001b[39merrors\u001b[38;5;241m.\u001b[39mHttpError \u001b[38;5;28;01mas\u001b[39;00m e:\n",
      "File \u001b[0;32m/usr/local/lib/python3.10/dist-packages/googleapiclient/_helpers.py:130\u001b[0m, in \u001b[0;36mpositional.<locals>.positional_decorator.<locals>.positional_wrapper\u001b[0;34m(*args, **kwargs)\u001b[0m\n\u001b[1;32m    129\u001b[0m         logger\u001b[38;5;241m.\u001b[39mwarning(message)\n\u001b[0;32m--> 130\u001b[0m \u001b[38;5;28;01mreturn\u001b[39;00m \u001b[43mwrapped\u001b[49m\u001b[43m(\u001b[49m\u001b[38;5;241;43m*\u001b[39;49m\u001b[43margs\u001b[49m\u001b[43m,\u001b[49m\u001b[43m \u001b[49m\u001b[38;5;241;43m*\u001b[39;49m\u001b[38;5;241;43m*\u001b[39;49m\u001b[43mkwargs\u001b[49m\u001b[43m)\u001b[49m\n",
      "File \u001b[0;32m/usr/local/lib/python3.10/dist-packages/googleapiclient/http.py:938\u001b[0m, in \u001b[0;36mHttpRequest.execute\u001b[0;34m(self, http, num_retries)\u001b[0m\n\u001b[1;32m    937\u001b[0m \u001b[38;5;28;01mif\u001b[39;00m resp\u001b[38;5;241m.\u001b[39mstatus \u001b[38;5;241m>\u001b[39m\u001b[38;5;241m=\u001b[39m \u001b[38;5;241m300\u001b[39m:\n\u001b[0;32m--> 938\u001b[0m     \u001b[38;5;28;01mraise\u001b[39;00m HttpError(resp, content, uri\u001b[38;5;241m=\u001b[39m\u001b[38;5;28mself\u001b[39m\u001b[38;5;241m.\u001b[39muri)\n\u001b[1;32m    939\u001b[0m \u001b[38;5;28;01mreturn\u001b[39;00m \u001b[38;5;28mself\u001b[39m\u001b[38;5;241m.\u001b[39mpostproc(resp, content)\n",
      "\u001b[0;31mHttpError\u001b[0m: <HttpError 400 when requesting https://earthengine.googleapis.com/v1/projects/earthengine-legacy/value:compute?prettyPrint=false&alt=json returned \"Response size exceeds limit\". Details: \"Response size exceeds limit\">",
      "\nDuring handling of the above exception, another exception occurred:\n",
      "\u001b[0;31mEEException\u001b[0m                               Traceback (most recent call last)",
      "Cell \u001b[0;32mIn[2], line 48\u001b[0m\n\u001b[1;32m     45\u001b[0m     \u001b[38;5;28;01mreturn\u001b[39;00m narrow_ids\n\u001b[1;32m     47\u001b[0m \u001b[38;5;66;03m# Get IDs of narrow protected areas\u001b[39;00m\n\u001b[0;32m---> 48\u001b[0m narrow_protected_area_ids \u001b[38;5;241m=\u001b[39m \u001b[43mget_narrow_protected_area_ids\u001b[49m\u001b[43m(\u001b[49m\u001b[43m)\u001b[49m\n\u001b[1;32m     50\u001b[0m \u001b[38;5;66;03m# Save IDs to file for future use\u001b[39;00m\n\u001b[1;32m     51\u001b[0m \u001b[38;5;28;01mwith\u001b[39;00m \u001b[38;5;28mopen\u001b[39m(\u001b[38;5;124m'\u001b[39m\u001b[38;5;124mfiltered_pas.txt\u001b[39m\u001b[38;5;124m'\u001b[39m, \u001b[38;5;124m'\u001b[39m\u001b[38;5;124mw\u001b[39m\u001b[38;5;124m'\u001b[39m) \u001b[38;5;28;01mas\u001b[39;00m f:\n",
      "Cell \u001b[0;32mIn[2], line 33\u001b[0m, in \u001b[0;36mget_narrow_protected_area_ids\u001b[0;34m(batch_size)\u001b[0m\n\u001b[1;32m     31\u001b[0m batch \u001b[38;5;241m=\u001b[39m filtered_pas\u001b[38;5;241m.\u001b[39mtoList(batch_size, start)\n\u001b[1;32m     32\u001b[0m batch_fc \u001b[38;5;241m=\u001b[39m ee\u001b[38;5;241m.\u001b[39mFeatureCollection(batch)\n\u001b[0;32m---> 33\u001b[0m features \u001b[38;5;241m=\u001b[39m \u001b[43mbatch_fc\u001b[49m\u001b[38;5;241;43m.\u001b[39;49m\u001b[43mgetInfo\u001b[49m\u001b[43m(\u001b[49m\u001b[43m)\u001b[49m[\u001b[38;5;124m'\u001b[39m\u001b[38;5;124mfeatures\u001b[39m\u001b[38;5;124m'\u001b[39m]\n\u001b[1;32m     34\u001b[0m all_features\u001b[38;5;241m.\u001b[39mextend(features)\n\u001b[1;32m     35\u001b[0m \u001b[38;5;28mprint\u001b[39m(\u001b[38;5;124mf\u001b[39m\u001b[38;5;124m\"\u001b[39m\u001b[38;5;124mProcessed batch \u001b[39m\u001b[38;5;132;01m{\u001b[39;00mi\u001b[38;5;241m+\u001b[39m\u001b[38;5;241m1\u001b[39m\u001b[38;5;132;01m}\u001b[39;00m\u001b[38;5;124m/\u001b[39m\u001b[38;5;132;01m{\u001b[39;00mbatches\u001b[38;5;132;01m}\u001b[39;00m\u001b[38;5;124m\"\u001b[39m)\n",
      "File \u001b[0;32m/usr/local/lib/python3.10/dist-packages/ee/collection.py:579\u001b[0m, in \u001b[0;36mCollection.getInfo\u001b[0;34m(self)\u001b[0m\n\u001b[1;32m    566\u001b[0m \u001b[38;5;28;01mdef\u001b[39;00m\u001b[38;5;250m \u001b[39m\u001b[38;5;21mgetInfo\u001b[39m(\u001b[38;5;28mself\u001b[39m) \u001b[38;5;241m-\u001b[39m\u001b[38;5;241m>\u001b[39m Optional[Any]:\n\u001b[1;32m    567\u001b[0m \u001b[38;5;250m  \u001b[39m\u001b[38;5;124;03m\"\"\"Returns all the known information about this collection.\u001b[39;00m\n\u001b[1;32m    568\u001b[0m \n\u001b[1;32m    569\u001b[0m \u001b[38;5;124;03m  This function makes a REST call to to retrieve all the known information\u001b[39;00m\n\u001b[0;32m   (...)\u001b[0m\n\u001b[1;32m    577\u001b[0m \u001b[38;5;124;03m         properties.\u001b[39;00m\n\u001b[1;32m    578\u001b[0m \u001b[38;5;124;03m  \"\"\"\u001b[39;00m\n\u001b[0;32m--> 579\u001b[0m   \u001b[38;5;28;01mreturn\u001b[39;00m \u001b[38;5;28;43msuper\u001b[39;49m\u001b[43m(\u001b[49m\u001b[43m)\u001b[49m\u001b[38;5;241;43m.\u001b[39;49m\u001b[43mgetInfo\u001b[49m\u001b[43m(\u001b[49m\u001b[43m)\u001b[49m\n",
      "File \u001b[0;32m/usr/local/lib/python3.10/dist-packages/ee/computedobject.py:107\u001b[0m, in \u001b[0;36mComputedObject.getInfo\u001b[0;34m(self)\u001b[0m\n\u001b[1;32m    101\u001b[0m \u001b[38;5;28;01mdef\u001b[39;00m\u001b[38;5;250m \u001b[39m\u001b[38;5;21mgetInfo\u001b[39m(\u001b[38;5;28mself\u001b[39m) \u001b[38;5;241m-\u001b[39m\u001b[38;5;241m>\u001b[39m Optional[Any]:\n\u001b[1;32m    102\u001b[0m \u001b[38;5;250m  \u001b[39m\u001b[38;5;124;03m\"\"\"Fetch and return information about this object.\u001b[39;00m\n\u001b[1;32m    103\u001b[0m \n\u001b[1;32m    104\u001b[0m \u001b[38;5;124;03m  Returns:\u001b[39;00m\n\u001b[1;32m    105\u001b[0m \u001b[38;5;124;03m    The object can evaluate to anything.\u001b[39;00m\n\u001b[1;32m    106\u001b[0m \u001b[38;5;124;03m  \"\"\"\u001b[39;00m\n\u001b[0;32m--> 107\u001b[0m   \u001b[38;5;28;01mreturn\u001b[39;00m \u001b[43mdata\u001b[49m\u001b[38;5;241;43m.\u001b[39;49m\u001b[43mcomputeValue\u001b[49m\u001b[43m(\u001b[49m\u001b[38;5;28;43mself\u001b[39;49m\u001b[43m)\u001b[49m\n",
      "File \u001b[0;32m/usr/local/lib/python3.10/dist-packages/ee/data.py:1128\u001b[0m, in \u001b[0;36mcomputeValue\u001b[0;34m(obj)\u001b[0m\n\u001b[1;32m   1125\u001b[0m body \u001b[38;5;241m=\u001b[39m {\u001b[38;5;124m'\u001b[39m\u001b[38;5;124mexpression\u001b[39m\u001b[38;5;124m'\u001b[39m: serializer\u001b[38;5;241m.\u001b[39mencode(obj, for_cloud_api\u001b[38;5;241m=\u001b[39m\u001b[38;5;28;01mTrue\u001b[39;00m)}\n\u001b[1;32m   1126\u001b[0m _maybe_populate_workload_tag(body)\n\u001b[0;32m-> 1128\u001b[0m \u001b[38;5;28;01mreturn\u001b[39;00m \u001b[43m_execute_cloud_call\u001b[49m\u001b[43m(\u001b[49m\n\u001b[1;32m   1129\u001b[0m \u001b[43m    \u001b[49m\u001b[43m_get_cloud_projects\u001b[49m\u001b[43m(\u001b[49m\u001b[43m)\u001b[49m\n\u001b[1;32m   1130\u001b[0m \u001b[43m    \u001b[49m\u001b[38;5;241;43m.\u001b[39;49m\u001b[43mvalue\u001b[49m\u001b[43m(\u001b[49m\u001b[43m)\u001b[49m\n\u001b[1;32m   1131\u001b[0m \u001b[43m    \u001b[49m\u001b[38;5;241;43m.\u001b[39;49m\u001b[43mcompute\u001b[49m\u001b[43m(\u001b[49m\u001b[43mbody\u001b[49m\u001b[38;5;241;43m=\u001b[39;49m\u001b[43mbody\u001b[49m\u001b[43m,\u001b[49m\u001b[43m \u001b[49m\u001b[43mproject\u001b[49m\u001b[38;5;241;43m=\u001b[39;49m\u001b[43m_get_projects_path\u001b[49m\u001b[43m(\u001b[49m\u001b[43m)\u001b[49m\u001b[43m,\u001b[49m\u001b[43m \u001b[49m\u001b[43mprettyPrint\u001b[49m\u001b[38;5;241;43m=\u001b[39;49m\u001b[38;5;28;43;01mFalse\u001b[39;49;00m\u001b[43m)\u001b[49m\n\u001b[1;32m   1132\u001b[0m \u001b[43m\u001b[49m\u001b[43m)\u001b[49m[\u001b[38;5;124m'\u001b[39m\u001b[38;5;124mresult\u001b[39m\u001b[38;5;124m'\u001b[39m]\n",
      "File \u001b[0;32m/usr/local/lib/python3.10/dist-packages/ee/data.py:410\u001b[0m, in \u001b[0;36m_execute_cloud_call\u001b[0;34m(call, num_retries)\u001b[0m\n\u001b[1;32m    408\u001b[0m   \u001b[38;5;28;01mreturn\u001b[39;00m call\u001b[38;5;241m.\u001b[39mexecute(num_retries\u001b[38;5;241m=\u001b[39mnum_retries)\n\u001b[1;32m    409\u001b[0m \u001b[38;5;28;01mexcept\u001b[39;00m googleapiclient\u001b[38;5;241m.\u001b[39merrors\u001b[38;5;241m.\u001b[39mHttpError \u001b[38;5;28;01mas\u001b[39;00m e:\n\u001b[0;32m--> 410\u001b[0m   \u001b[38;5;28;01mraise\u001b[39;00m _translate_cloud_exception(e)\n",
      "\u001b[0;31mEEException\u001b[0m: Response size exceeds limit"
     ]
    }
   ],
   "source": [
    "import ee\n",
    "import geopandas as gpd\n",
    "from math import ceil\n",
    "import time\n",
    "\n",
    "def get_narrow_protected_area_ids(batch_size=500):\n",
    "    \"\"\"Get WDPA IDs of narrow protected areas (top 25% perimeter-area ratio)\"\"\"\n",
    "    \n",
    "    # Load and filter protected areas\n",
    "    protected_areas = ee.FeatureCollection(\"WCMC/WDPA/202106/polygons\")\n",
    "    filtered_pas = protected_areas.filter(ee.Filter.And(\n",
    "        ee.Filter.eq(\"MARINE\", \"0\"),\n",
    "        ee.Filter.neq(\"DESIG_ENG\", \"Marine Protected Area\"),\n",
    "        ee.Filter.inList(\"STATUS\", [\"Designated\", \"Established\", \"Inscribed\"]),\n",
    "        ee.Filter.neq(\"DESIG_ENG\", \"UNESCO-MAB Biosphere Reserve\"),\n",
    "        ee.Filter.gte(\"GIS_AREA\", 200), \n",
    "        ee.Filter.inList(\"WDPA_PID\", [\n",
    "            \"555655917\", \"555656005\", \"555656013\", \"555665477\", \"555656021\",\n",
    "            \"555665485\", \"555556142\", \"187\", \"555703455\", \"555563456\", \"15894\"\n",
    "        ]).Not()\n",
    "    ))\n",
    "    \n",
    "    # Process in batches to handle size limits\n",
    "    total = filtered_pas.size().getInfo()\n",
    "    batches = ceil(total / batch_size)\n",
    "    print(f\"Processing {total} protected areas in {batches} batches...\")\n",
    "    \n",
    "    all_features = []\n",
    "    for i in range(batches):\n",
    "        start = i * batch_size\n",
    "        batch = filtered_pas.toList(batch_size, start)\n",
    "        batch_fc = ee.FeatureCollection(batch)\n",
    "        features = batch_fc.getInfo()['features']\n",
    "        all_features.extend(features)\n",
    "        print(f\"Processed batch {i+1}/{batches}\")\n",
    "        time.sleep(1)  # Pause to avoid rate limits\n",
    "    \n",
    "    # Calculate ratios and get IDs of narrow areas\n",
    "    gdf = gpd.GeoDataFrame.from_features(all_features)\n",
    "    gdf['perimeter_area_ratio'] = gdf.geometry.length / gdf.GIS_AREA\n",
    "    threshold = gdf.perimeter_area_ratio.quantile(0.75)\n",
    "    narrow_ids = gdf[gdf.perimeter_area_ratio >= threshold].WDPA_PID.tolist()\n",
    "    \n",
    "    print(f\"Found {len(narrow_ids)} narrow protected areas\")\n",
    "    return narrow_ids\n",
    "\n",
    "# Get IDs of narrow protected areas\n",
    "narrow_protected_area_ids = get_narrow_protected_area_ids()\n",
    "\n",
    "# Save IDs to file for future use\n",
    "with open('filtered_pas.txt', 'w') as f:\n",
    "    f.write('\\n'.join(map(str, narrow_protected_area_ids)))\n",
    "\n",
    "print(\"Narrow protected area IDs saved to narrow_protected_area_ids.txt\")"
   ]
  },
  {
   "cell_type": "code",
   "execution_count": null,
   "id": "e0c3830c",
   "metadata": {},
   "outputs": [],
   "source": [
    "import geopandas as gpd\n",
    "from shapely.ops import unary_union\n",
    "\n",
    "def get_outermost_polygon(gdf, target_crs=\"ESRI:54009\"):\n",
    "    \"\"\"\n",
    "    Returns a GeoDataFrame with the outer boundary of all input geometries.\n",
    "\n",
    "    Args:\n",
    "        gdf (GeoDataFrame): Input polygons.\n",
    "        target_crs (str): Target CRS for equal-area measurements.\n",
    "\n",
    "    Returns:\n",
    "        GeoDataFrame: Single outermost polygon as a GeoDataFrame.\n",
    "    \"\"\"\n",
    "    gdf_proj = gdf.to_crs(target_crs)\n",
    "    merged = unary_union(gdf_proj.geometry)\n",
    "    \n",
    "    # If multiple disjoint pieces remain, wrap them in MultiPolygon\n",
    "    return gpd.GeoDataFrame(geometry=[merged], crs=target_crs)\n"
   ]
  },
  {
   "cell_type": "code",
   "execution_count": null,
   "id": "63e43d7e",
   "metadata": {},
   "outputs": [],
   "source": [
    "# Merge all polygons into a single geometry\n",
    "merged_geom = unary_union(cleaned.geometry)\n",
    "\n",
    "# Optional: buffer inward to remove dilation effect\n",
    "shrink_dist = -((hole_pix * resolution) / 2)\n",
    "merged_geom = merged_geom.buffer(shrink_dist)\n",
    "\n",
    "# Wrap in GeoDataFrame\n",
    "outer = gpd.GeoDataFrame(geometry=[merged_geom], crs=target_crs)\n"
   ]
  },
  {
   "cell_type": "markdown",
   "id": "cd1a909b",
   "metadata": {},
   "source": [
    "First, install PostgreSQL and PostGIS:\n",
    "Start PostgreSQL service:\n",
    "Create a new database and enable PostGIS:\n",
    "Import WDPA data from GeoJSON (assuming you have downloaded it from Earth Engine):\n",
    "Once you have the GeoJSON file, import it to PostGIS:\n",
    "Calculate perimeter-area ratios:\n",
    "Use the results in your Earth Engine code:\n",
    "narrow_filter = ee.Filter.inList('WDPA_PID', filtered_ids['wdpa_pid'].tolist())\n"
   ]
  }
 ],
 "metadata": {
  "kernelspec": {
   "display_name": "Python 3",
   "language": "python",
   "name": "python3"
  },
  "language_info": {
   "codemirror_mode": {
    "name": "ipython",
    "version": 3
   },
   "file_extension": ".py",
   "mimetype": "text/x-python",
   "name": "python",
   "nbconvert_exporter": "python",
   "pygments_lexer": "ipython3",
   "version": "3.10.12"
  }
 },
 "nbformat": 4,
 "nbformat_minor": 5
}
