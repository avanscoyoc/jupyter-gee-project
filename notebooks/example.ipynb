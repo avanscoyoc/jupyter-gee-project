{
 "cells": [
  {
   "cell_type": "markdown",
   "id": "fd477d9f",
   "metadata": {},
   "source": [
    "## Islandization of Terrestrial Protected Areas\n",
    "\n",
    "by Amy Van Scoyoc, Wenjing Xu, Thomas Mueller, Carl Boettiger, Justin Brashares"
   ]
  },
  {
   "cell_type": "markdown",
   "id": "faf7f331",
   "metadata": {},
   "source": [
    "### Background\n",
    "\n",
    "Conservation focuses on reversing the loss of habitat surrounding protected areas (PAs) to preserve ecological processes. While several studies have quantified changes in forest cover to highlight the potential isolation of PAs (16–20), there remain no general assessments of PA 'islandization' across biomes.\n",
    "\n",
    "\n",
    "In this example, we measure the change in habitat continuity around PA boundaries over a period of 25 years. We use the same method to compare rates of change between two parks in distinct biomes. "
   ]
  },
  {
   "cell_type": "markdown",
   "id": "233d3d91",
   "metadata": {},
   "source": [
    "### Import libraries\n",
    "\n",
    "First, we initialize Earth Engine and the necessary functions and packages."
   ]
  },
  {
   "cell_type": "code",
   "execution_count": 1,
   "id": "8436eb6e",
   "metadata": {},
   "outputs": [
    {
     "name": "stdout",
     "output_type": "stream",
     "text": [
      "Hello from the Earth Engine servers!\n"
     ]
    }
   ],
   "source": [
    "import ee\n",
    "ee.Authenticate()\n",
    "ee.Initialize(project='dse-staff')\n",
    "print(ee.String('Hello from the Earth Engine servers!').getInfo())"
   ]
  },
  {
   "cell_type": "code",
   "execution_count": 2,
   "id": "fb03cbcb",
   "metadata": {},
   "outputs": [],
   "source": [
    "import pandas as pd\n",
    "from datetime import datetime\n",
    "import sys\n",
    "\n",
    "sys.path.append('../src')\n",
    "from utils import *\n",
    "from config import *\n",
    "from analysis import *"
   ]
  },
  {
   "cell_type": "code",
   "execution_count": 3,
   "id": "4a0931f0",
   "metadata": {},
   "outputs": [
    {
     "data": {
      "text/html": [
       "\n",
       "            <style>\n",
       "                .geemap-dark {\n",
       "                    --jp-widgets-color: white;\n",
       "                    --jp-widgets-label-color: white;\n",
       "                    --jp-ui-font-color1: white;\n",
       "                    --jp-layout-color2: #454545;\n",
       "                    background-color: #383838;\n",
       "                }\n",
       "\n",
       "                .geemap-dark .jupyter-button {\n",
       "                    --jp-layout-color3: #383838;\n",
       "                }\n",
       "\n",
       "                .geemap-colab {\n",
       "                    background-color: var(--colab-primary-surface-color, white);\n",
       "                }\n",
       "\n",
       "                .geemap-colab .jupyter-button {\n",
       "                    --jp-layout-color3: var(--colab-primary-surface-color, white);\n",
       "                }\n",
       "            </style>\n",
       "            "
      ],
      "text/plain": [
       "<IPython.core.display.HTML object>"
      ]
     },
     "metadata": {},
     "output_type": "display_data"
    },
    {
     "name": "stderr",
     "output_type": "stream",
     "text": [
      "/usr/local/lib/python3.10/dist-packages/ee/deprecation.py:207: DeprecationWarning: \n",
      "\n",
      "Attention required for JRC/GSW1_0/GlobalSurfaceWater! You are using a deprecated asset.\n",
      "To make sure your code keeps working, please update it.\n",
      "Learn more: https://developers.google.com/earth-engine/datasets/catalog/JRC_GSW1_0_GlobalSurfaceWater\n",
      "\n",
      "  warnings.warn(warning, category=DeprecationWarning)\n",
      "/usr/local/lib/python3.10/dist-packages/ee/deprecation.py:207: DeprecationWarning: \n",
      "\n",
      "Attention required for MODIS/006/MOD09A1! You are using a deprecated asset.\n",
      "To make sure your code keeps working, please update it.\n",
      "Learn more: https://developers.google.com/earth-engine/datasets/catalog/MODIS_006_MOD09A1\n",
      "\n",
      "  warnings.warn(warning, category=DeprecationWarning)\n"
     ]
    }
   ],
   "source": [
    "# initialize classes\n",
    "geo_ops = GeometryOperations()\n",
    "img_ops = ImageOperations()\n",
    "stats_ops = StatsOperations()\n",
    "viz = Visualization()\n",
    "feature_processor = FeatureProcessor(geo_ops, img_ops, stats_ops)\n",
    "exp_res = ExportResults()"
   ]
  },
  {
   "cell_type": "markdown",
   "id": "672d4238",
   "metadata": {},
   "source": [
    "### Get protected area geometries\n",
    "\n",
    "Next, we select a protected area to analyze. We obtained data for protected area geometries using the June 2021 World Database on Protected Areas (58). \n",
    "\n",
    "For our analysis we chose terrestrial PAs with a valid geometry (not a point), PAs with status of “designated”, “established”, or “inscribed”, and PAs without a “UNESCO-MAB Biosphere Reserve” designation. We also only selected protected areas larger than 200 km2 to ensure that the PA was wide enough to prevent the buffers from overlapping each other."
   ]
  },
  {
   "cell_type": "code",
   "execution_count": 12,
   "id": "9bdc2c88",
   "metadata": {},
   "outputs": [
    {
     "data": {
      "text/html": [
       "\n",
       "            <style>\n",
       "                .geemap-dark {\n",
       "                    --jp-widgets-color: white;\n",
       "                    --jp-widgets-label-color: white;\n",
       "                    --jp-ui-font-color1: white;\n",
       "                    --jp-layout-color2: #454545;\n",
       "                    background-color: #383838;\n",
       "                }\n",
       "\n",
       "                .geemap-dark .jupyter-button {\n",
       "                    --jp-layout-color3: #383838;\n",
       "                }\n",
       "\n",
       "                .geemap-colab {\n",
       "                    background-color: var(--colab-primary-surface-color, white);\n",
       "                }\n",
       "\n",
       "                .geemap-colab .jupyter-button {\n",
       "                    --jp-layout-color3: var(--colab-primary-surface-color, white);\n",
       "                }\n",
       "            </style>\n",
       "            "
      ],
      "text/plain": [
       "<IPython.core.display.HTML object>"
      ]
     },
     "metadata": {},
     "output_type": "display_data"
    },
    {
     "data": {
      "application/vnd.jupyter.widget-view+json": {
       "model_id": "61e936bfc00149a09eb26c6ec3019b8e",
       "version_major": 2,
       "version_minor": 0
      },
      "text/plain": [
       "Map(center=[-2.3332666874595325, 34.78445430188864], controls=(WidgetControl(options=['position', 'transparent…"
      ]
     },
     "execution_count": 12,
     "metadata": {},
     "output_type": "execute_result"
    }
   ],
   "source": [
    "yosemite = load_protected_area('916').geometry()\n",
    "\n",
    "Map = geemap.Map()\n",
    "Map.add_basemap('HYBRID')\n",
    "Map.centerObject(yosemite, 9)\n",
    "Map.addLayer(yosemite, {'color': 'red'}, 'Yosemite National Park')\n",
    "Map"
   ]
  },
  {
   "cell_type": "markdown",
   "id": "79dc7a20",
   "metadata": {},
   "source": [
    "### Geometry operations\n",
    "\n",
    "Now that we have our two protected areas, we will create a 10-km width buffer across their boundaries. We removed any part of the boundary that has intersected with the maximum extent of water by using the map of the global extent of surface water for 1984 to 2021 (62) `ee.Image(\"JRC/GSW1_0/GlobalSurfaceWater\")`. Finally, we assigned biomes to each PA using the global ecoregion layer (61). When multiple biomes were present we retained the biome label with the largest area."
   ]
  },
  {
   "cell_type": "code",
   "execution_count": 13,
   "id": "a8d6b7c7",
   "metadata": {},
   "outputs": [
    {
     "data": {
      "text/html": [
       "\n",
       "            <style>\n",
       "                .geemap-dark {\n",
       "                    --jp-widgets-color: white;\n",
       "                    --jp-widgets-label-color: white;\n",
       "                    --jp-ui-font-color1: white;\n",
       "                    --jp-layout-color2: #454545;\n",
       "                    background-color: #383838;\n",
       "                }\n",
       "\n",
       "                .geemap-dark .jupyter-button {\n",
       "                    --jp-layout-color3: #383838;\n",
       "                }\n",
       "\n",
       "                .geemap-colab {\n",
       "                    background-color: var(--colab-primary-surface-color, white);\n",
       "                }\n",
       "\n",
       "                .geemap-colab .jupyter-button {\n",
       "                    --jp-layout-color3: var(--colab-primary-surface-color, white);\n",
       "                }\n",
       "            </style>\n",
       "            "
      ],
      "text/plain": [
       "<IPython.core.display.HTML object>"
      ]
     },
     "metadata": {},
     "output_type": "display_data"
    },
    {
     "data": {
      "application/vnd.jupyter.widget-view+json": {
       "model_id": "e4fe42b30c164ccb9299ef900de653c8",
       "version_major": 2,
       "version_minor": 0
      },
      "text/plain": [
       "Map(center=[-2.3332666874595325, 34.78445430188864], controls=(WidgetControl(options=['position', 'transparent…"
      ]
     },
     "execution_count": 13,
     "metadata": {},
     "output_type": "execute_result"
    }
   ],
   "source": [
    "yosemite_buffer_10km = geo_ops.buffer_polygon(yosemite, 10000)\n",
    "yosemite_masked_10km = geo_ops.mask_water(yosemite_buffer_10km)\n",
    "\n",
    "Map2 = geemap.Map()\n",
    "Map2.add_basemap('HYBRID')\n",
    "Map2.centerObject(yosemite, 9)\n",
    "Map2.addLayer(yosemite, {'color': 'red'}, 'Yosemite National Park')\n",
    "Map2.addLayer(yosemite_masked_10km, {'color': 'orange'}, 'Yosemite National Park')\n",
    "Map2"
   ]
  },
  {
   "cell_type": "markdown",
   "id": "5198079c",
   "metadata": {},
   "source": [
    "### Image operations\n",
    "\n",
    "We will use `MODIS/Terra Surface Reflectance 8-Day L3 Global 500-m SIN Grid (MOD09A1)` imagery to assess habitat discontinuity. \n",
    "\n",
    "The 500 m MODIS imagery has the most consistent data quality and coverage for our 25-year analysis compared to Landsat, which suffered the ETM+ Scan line Corrector failure that introduced data gaps (68). The 500 m MODIS imagery is also more adept than 30 m Landsat imagery at capturing the broad landcover patterns while reducing noise from fine-scale spectral heterogeneity, such as individual trees or grazing paddocks (fig. S2)."
   ]
  },
  {
   "cell_type": "markdown",
   "id": "1edefd04",
   "metadata": {},
   "source": [
    "Here we take the annual median composite image, since this is the best representation of how a landscape looked throughout the year. "
   ]
  },
  {
   "cell_type": "markdown",
   "id": "3c478ed0",
   "metadata": {},
   "source": [
    "![satellite resolutions](images/resolutions.png)"
   ]
  },
  {
   "cell_type": "code",
   "execution_count": 6,
   "id": "3fe6c3b0",
   "metadata": {},
   "outputs": [
    {
     "data": {
      "text/html": [
       "\n",
       "            <style>\n",
       "                .geemap-dark {\n",
       "                    --jp-widgets-color: white;\n",
       "                    --jp-widgets-label-color: white;\n",
       "                    --jp-ui-font-color1: white;\n",
       "                    --jp-layout-color2: #454545;\n",
       "                    background-color: #383838;\n",
       "                }\n",
       "\n",
       "                .geemap-dark .jupyter-button {\n",
       "                    --jp-layout-color3: #383838;\n",
       "                }\n",
       "\n",
       "                .geemap-colab {\n",
       "                    background-color: var(--colab-primary-surface-color, white);\n",
       "                }\n",
       "\n",
       "                .geemap-colab .jupyter-button {\n",
       "                    --jp-layout-color3: var(--colab-primary-surface-color, white);\n",
       "                }\n",
       "            </style>\n",
       "            "
      ],
      "text/plain": [
       "<IPython.core.display.HTML object>"
      ]
     },
     "metadata": {},
     "output_type": "display_data"
    },
    {
     "data": {
      "application/vnd.jupyter.widget-view+json": {
       "model_id": "fa5c1931442f4df59adf8f0d8924c761",
       "version_major": 2,
       "version_minor": 0
      },
      "text/plain": [
       "Map(center=[-2.3079726109183865, 34.739854110316216], controls=(WidgetControl(options=['position', 'transparen…"
      ]
     },
     "execution_count": 6,
     "metadata": {},
     "output_type": "execute_result"
    }
   ],
   "source": [
    "modis_ic = img_ops.modis.filter(img_ops.filter_for_year(yosemite_masked_10km, 2010))\n",
    "band_names = modis_ic.first().bandNames()\n",
    "composite = modis_ic.reduce(ee.Reducer.median()).rename(band_names).clip(yosemite_masked_10km)\n",
    "\n",
    "Map3 = geemap.Map()\n",
    "Map3.add_basemap('HYBRID')\n",
    "Map3.centerObject(yosemite_masked_10km, 9)\n",
    "Map3.addLayer(yosemite_masked_10km, {'color': 'orange'}, 'Yosemite National Park')\n",
    "Map3.addLayer(composite, {'bands': ['sur_refl_b01', 'sur_refl_b04', 'sur_refl_b03'], 'min': 0, 'max': 3000}, 'MODIS Composite')\n",
    "Map3"
   ]
  },
  {
   "cell_type": "markdown",
   "id": "65fd5a63",
   "metadata": {},
   "source": [
    "We then calculated two additional bands from the annual median composie to use to assess habitat continuity.  NDVI which stands for the Normalized Difference Vegetation Index and measures the amount of greeness in vegetation and BSI or the Bare Soil Index which measures the reflectance of bare soil without vegetation. These indicies are particularly important in identifying habitat change. "
   ]
  },
  {
   "cell_type": "markdown",
   "id": "8dbce7bb",
   "metadata": {},
   "source": [
    "$$\n",
    "\\mathrm{NDVI} = \\frac{\\mathrm{NIR} - \\mathrm{RED}}{\\mathrm{NIR} + \\mathrm{RED}}\n",
    "$$"
   ]
  },
  {
   "cell_type": "markdown",
   "id": "88d5ab5e",
   "metadata": {},
   "source": [
    "$$\n",
    "\\mathrm{BSI} = \\frac{(\\mathrm{SWIR2} + \\mathrm{RED}) - (\\mathrm{NIR} + \\mathrm{BLUE})}{(\\mathrm{SWIR2} + \\mathrm{RED}) + (\\mathrm{NIR} + \\mathrm{BLUE})}\n",
    "$$"
   ]
  },
  {
   "cell_type": "code",
   "execution_count": 7,
   "id": "323225ce",
   "metadata": {},
   "outputs": [
    {
     "data": {
      "text/html": [
       "\n",
       "            <style>\n",
       "                .geemap-dark {\n",
       "                    --jp-widgets-color: white;\n",
       "                    --jp-widgets-label-color: white;\n",
       "                    --jp-ui-font-color1: white;\n",
       "                    --jp-layout-color2: #454545;\n",
       "                    background-color: #383838;\n",
       "                }\n",
       "\n",
       "                .geemap-dark .jupyter-button {\n",
       "                    --jp-layout-color3: #383838;\n",
       "                }\n",
       "\n",
       "                .geemap-colab {\n",
       "                    background-color: var(--colab-primary-surface-color, white);\n",
       "                }\n",
       "\n",
       "                .geemap-colab .jupyter-button {\n",
       "                    --jp-layout-color3: var(--colab-primary-surface-color, white);\n",
       "                }\n",
       "            </style>\n",
       "            "
      ],
      "text/plain": [
       "<IPython.core.display.HTML object>"
      ]
     },
     "metadata": {},
     "output_type": "display_data"
    }
   ],
   "source": [
    "# calculate and add NDVI and BSI indicies to the image composite \n",
    "image = img_ops.add_indices_to_image(composite)"
   ]
  },
  {
   "cell_type": "markdown",
   "id": "c54e7fdf",
   "metadata": {},
   "source": [
    "Much like finding the outline in this image of a cat, our approach highlights the difference or contrast in landscape pattern for a given band or index. The more different the spectral values are between adjacent pixels in a square 3x3 kernel, the higher the gradient value. "
   ]
  },
  {
   "cell_type": "markdown",
   "id": "cc46f5e5",
   "metadata": {},
   "source": [
    "![Cat gradient image](images/cat.png)"
   ]
  },
  {
   "cell_type": "markdown",
   "id": "8dc02484",
   "metadata": {},
   "source": [
    "We calculate the gradient magnitude of our image using the following equation: "
   ]
  },
  {
   "cell_type": "markdown",
   "id": "020b5a4e",
   "metadata": {},
   "source": [
    "$$\n",
    "\\text{Magnitude} = \\sqrt{(\\nabla_x I)^2 + (\\nabla_y I)^2}\n",
    "$$"
   ]
  },
  {
   "cell_type": "markdown",
   "id": "b2f52e1e",
   "metadata": {},
   "source": [
    "This results in the following image where white pixels indicate a higher gradient value (or more difference between neighboring pixels)."
   ]
  },
  {
   "cell_type": "code",
   "execution_count": 8,
   "id": "0c5164d6",
   "metadata": {},
   "outputs": [
    {
     "data": {
      "text/html": [
       "\n",
       "            <style>\n",
       "                .geemap-dark {\n",
       "                    --jp-widgets-color: white;\n",
       "                    --jp-widgets-label-color: white;\n",
       "                    --jp-ui-font-color1: white;\n",
       "                    --jp-layout-color2: #454545;\n",
       "                    background-color: #383838;\n",
       "                }\n",
       "\n",
       "                .geemap-dark .jupyter-button {\n",
       "                    --jp-layout-color3: #383838;\n",
       "                }\n",
       "\n",
       "                .geemap-colab {\n",
       "                    background-color: var(--colab-primary-surface-color, white);\n",
       "                }\n",
       "\n",
       "                .geemap-colab .jupyter-button {\n",
       "                    --jp-layout-color3: var(--colab-primary-surface-color, white);\n",
       "                }\n",
       "            </style>\n",
       "            "
      ],
      "text/plain": [
       "<IPython.core.display.HTML object>"
      ]
     },
     "metadata": {},
     "output_type": "display_data"
    },
    {
     "data": {
      "application/vnd.jupyter.widget-view+json": {
       "model_id": "643ef4c809c14166b071834dd1475e53",
       "version_major": 2,
       "version_minor": 0
      },
      "text/plain": [
       "Map(center=[-2.3079726109183865, 34.739854110316216], controls=(WidgetControl(options=['position', 'transparen…"
      ]
     },
     "execution_count": 8,
     "metadata": {},
     "output_type": "execute_result"
    }
   ],
   "source": [
    "single_band = image.select('BSI')\n",
    "buffer_img = img_ops.get_gradient_magnitude(single_band).clip(yosemite_masked_10km)\n",
    "viz_params = {\n",
    "            'min': 0,\n",
    "            'max': 0.0004,\n",
    "            'palette': ['black', 'gray', 'white']\n",
    "            }\n",
    "\n",
    "Map4 = geemap.Map()\n",
    "Map4.add_basemap('HYBRID')\n",
    "Map4.centerObject(yosemite_masked_10km, 9)\n",
    "Map4.addLayer(yosemite_masked_10km, {'color': 'orange'}, 'Yosemite National Park')\n",
    "Map4.addLayer(buffer_img, viz_params, '10 km -Gradient Magnitude')\n",
    "Map4"
   ]
  },
  {
   "cell_type": "markdown",
   "id": "7511c790",
   "metadata": {},
   "source": [
    "Of course, we want to be able to compare the gradient magnitude of the buffer to the boundary, to understand how the gradient changes across the boundary. We can do this by creating a smaller 1-km buffer around the boundary and then calculating the gradient magnitude of the boundary. "
   ]
  },
  {
   "cell_type": "code",
   "execution_count": 9,
   "id": "20dbb91e",
   "metadata": {},
   "outputs": [
    {
     "data": {
      "text/html": [
       "\n",
       "            <style>\n",
       "                .geemap-dark {\n",
       "                    --jp-widgets-color: white;\n",
       "                    --jp-widgets-label-color: white;\n",
       "                    --jp-ui-font-color1: white;\n",
       "                    --jp-layout-color2: #454545;\n",
       "                    background-color: #383838;\n",
       "                }\n",
       "\n",
       "                .geemap-dark .jupyter-button {\n",
       "                    --jp-layout-color3: #383838;\n",
       "                }\n",
       "\n",
       "                .geemap-colab {\n",
       "                    background-color: var(--colab-primary-surface-color, white);\n",
       "                }\n",
       "\n",
       "                .geemap-colab .jupyter-button {\n",
       "                    --jp-layout-color3: var(--colab-primary-surface-color, white);\n",
       "                }\n",
       "            </style>\n",
       "            "
      ],
      "text/plain": [
       "<IPython.core.display.HTML object>"
      ]
     },
     "metadata": {},
     "output_type": "display_data"
    },
    {
     "data": {
      "application/vnd.jupyter.widget-view+json": {
       "model_id": "ddda91c2d8704d5fa3124b380388a469",
       "version_major": 2,
       "version_minor": 0
      },
      "text/plain": [
       "Map(center=[-2.306780438483596, 34.73334733655345], controls=(WidgetControl(options=['position', 'transparent_…"
      ]
     },
     "execution_count": 9,
     "metadata": {},
     "output_type": "execute_result"
    }
   ],
   "source": [
    "boundary_buffer_1km = geo_ops.buffer_polygon(yosemite, 1000)\n",
    "boundary_img = buffer_img.clip(boundary_buffer_1km)\n",
    "\n",
    "Map5 = geemap.Map()\n",
    "Map5.add_basemap('HYBRID')\n",
    "Map5.centerObject(yosemite_buffer_10km, 9)\n",
    "Map5.addLayer(boundary_img, {'min': 0, 'max': 0.0004, 'palette': ['black', 'red']}, '1 km - Gradient Magnitude')\n",
    "Map5"
   ]
  },
  {
   "cell_type": "markdown",
   "id": "eb1d0c6a",
   "metadata": {},
   "source": [
    "### Edge Index\n",
    "\n",
    "Once we have the magnitude gradient image for the 1km and 10km boundaries, we are ready to calculate the `edge index`.  We calculate `edge index` as the proportion of the mean magnitude of the boundary to the buffer: "
   ]
  },
  {
   "cell_type": "markdown",
   "id": "4e1e6c49",
   "metadata": {},
   "source": [
    "$$\n",
    "\\text{Edge Index} = \\frac{\\overline{X}_{\\text{boundary}}}{\\overline{X}_{\\text{buffer}}}\n",
    "$$"
   ]
  },
  {
   "cell_type": "markdown",
   "id": "1d545242",
   "metadata": {},
   "source": [
    "In the year 2010, Serengeti National Park had an edge index of:"
   ]
  },
  {
   "cell_type": "code",
   "execution_count": 10,
   "id": "7093e851",
   "metadata": {},
   "outputs": [
    {
     "data": {
      "text/html": [
       "\n",
       "            <style>\n",
       "                .geemap-dark {\n",
       "                    --jp-widgets-color: white;\n",
       "                    --jp-widgets-label-color: white;\n",
       "                    --jp-ui-font-color1: white;\n",
       "                    --jp-layout-color2: #454545;\n",
       "                    background-color: #383838;\n",
       "                }\n",
       "\n",
       "                .geemap-dark .jupyter-button {\n",
       "                    --jp-layout-color3: #383838;\n",
       "                }\n",
       "\n",
       "                .geemap-colab {\n",
       "                    background-color: var(--colab-primary-surface-color, white);\n",
       "                }\n",
       "\n",
       "                .geemap-colab .jupyter-button {\n",
       "                    --jp-layout-color3: var(--colab-primary-surface-color, white);\n",
       "                }\n",
       "            </style>\n",
       "            "
      ],
      "text/plain": [
       "<IPython.core.display.HTML object>"
      ]
     },
     "metadata": {},
     "output_type": "display_data"
    },
    {
     "name": "stdout",
     "output_type": "stream",
     "text": [
      "Boundary Mean: 5.405779631607307e-05\n",
      "Buffer Mean: 4.727849614806104e-05\n",
      "Edge Index: 1.143390774249279\n"
     ]
    }
   ],
   "source": [
    "# Calculate mean gradient for boundary and buffer\n",
    "boundary_stats = boundary_img.reduceRegion(\n",
    "    reducer=ee.Reducer.mean(),\n",
    "    geometry=boundary_img.geometry(),\n",
    "    scale=500,\n",
    "    maxPixels=1e10\n",
    ").getInfo()\n",
    "\n",
    "buffer_stats = buffer_img.reduceRegion(\n",
    "    reducer=ee.Reducer.mean(),\n",
    "    geometry=buffer_img.geometry(),\n",
    "    scale=500,\n",
    "    maxPixels=1e10\n",
    ").getInfo()\n",
    "\n",
    "boundary_mean = boundary_stats.get('x')\n",
    "buffer_mean = buffer_stats.get('x')\n",
    "\n",
    "edge_index = boundary_mean / buffer_mean\n",
    "\n",
    "print(f'Boundary Mean: {boundary_mean}')\n",
    "print(f'Buffer Mean: {buffer_mean}')\n",
    "print(f'Edge Index: {edge_index}')"
   ]
  },
  {
   "cell_type": "code",
   "execution_count": 11,
   "id": "bbde88a3",
   "metadata": {},
   "outputs": [
    {
     "data": {
      "text/html": [
       "\n",
       "            <style>\n",
       "                .geemap-dark {\n",
       "                    --jp-widgets-color: white;\n",
       "                    --jp-widgets-label-color: white;\n",
       "                    --jp-ui-font-color1: white;\n",
       "                    --jp-layout-color2: #454545;\n",
       "                    background-color: #383838;\n",
       "                }\n",
       "\n",
       "                .geemap-dark .jupyter-button {\n",
       "                    --jp-layout-color3: #383838;\n",
       "                }\n",
       "\n",
       "                .geemap-colab {\n",
       "                    background-color: var(--colab-primary-surface-color, white);\n",
       "                }\n",
       "\n",
       "                .geemap-colab .jupyter-button {\n",
       "                    --jp-layout-color3: var(--colab-primary-surface-color, white);\n",
       "                }\n",
       "            </style>\n",
       "            "
      ],
      "text/plain": [
       "<IPython.core.display.HTML object>"
      ]
     },
     "metadata": {},
     "output_type": "display_data"
    }
   ],
   "source": [
    "#feature_info = feature_processor.collect_feature_info(pa, aoi_with_biome)\n",
    "#features = feature_processor.process_all_bands_ee(image, pa_geometry, aoi, feature_info, year)"
   ]
  },
  {
   "cell_type": "markdown",
   "id": "fcdf38e4",
   "metadata": {},
   "source": [
    "### Change overtime\n",
    "\n",
    "Whether a protected area has an edge at its boundary is not indicative of changes to habitat continuity. Many protected areas have pre-existing natural boundaries, such as mountain ranges or canyons along their borders. \n",
    "\n",
    "However, by using satellite imagery to track the spectral difference of PA boundaries relative to surrounding land over time, we can distinguish process of islandization from pre-existing natural boundaries at protected areas edges (e.g., mountain ranges, altitudinal zones). So next, we compare changes in edge index over a 25 year period.  "
   ]
  },
  {
   "cell_type": "code",
   "execution_count": 12,
   "id": "31d93f5e",
   "metadata": {},
   "outputs": [
    {
     "data": {
      "text/html": [
       "\n",
       "            <style>\n",
       "                .geemap-dark {\n",
       "                    --jp-widgets-color: white;\n",
       "                    --jp-widgets-label-color: white;\n",
       "                    --jp-ui-font-color1: white;\n",
       "                    --jp-layout-color2: #454545;\n",
       "                    background-color: #383838;\n",
       "                }\n",
       "\n",
       "                .geemap-dark .jupyter-button {\n",
       "                    --jp-layout-color3: #383838;\n",
       "                }\n",
       "\n",
       "                .geemap-colab {\n",
       "                    background-color: var(--colab-primary-surface-color, white);\n",
       "                }\n",
       "\n",
       "                .geemap-colab .jupyter-button {\n",
       "                    --jp-layout-color3: var(--colab-primary-surface-color, white);\n",
       "                }\n",
       "            </style>\n",
       "            "
      ],
      "text/plain": [
       "<IPython.core.display.HTML object>"
      ]
     },
     "metadata": {},
     "output_type": "display_data"
    }
   ],
   "source": [
    "# run full analysis for Serengeti and Yellowstone National Parks for 23 years\n",
    "\n",
    "#run_all(wdpaids = [\"916\", \"2013\"], start_year=2001, n_years=23, max_workers=10)"
   ]
  },
  {
   "cell_type": "code",
   "execution_count": 5,
   "id": "3d0815ff",
   "metadata": {},
   "outputs": [
    {
     "data": {
      "text/html": [
       "\n",
       "            <style>\n",
       "                .geemap-dark {\n",
       "                    --jp-widgets-color: white;\n",
       "                    --jp-widgets-label-color: white;\n",
       "                    --jp-ui-font-color1: white;\n",
       "                    --jp-layout-color2: #454545;\n",
       "                    background-color: #383838;\n",
       "                }\n",
       "\n",
       "                .geemap-dark .jupyter-button {\n",
       "                    --jp-layout-color3: #383838;\n",
       "                }\n",
       "\n",
       "                .geemap-colab {\n",
       "                    background-color: var(--colab-primary-surface-color, white);\n",
       "                }\n",
       "\n",
       "                .geemap-colab .jupyter-button {\n",
       "                    --jp-layout-color3: var(--colab-primary-surface-color, white);\n",
       "                }\n",
       "            </style>\n",
       "            "
      ],
      "text/plain": [
       "<IPython.core.display.HTML object>"
      ]
     },
     "metadata": {},
     "output_type": "display_data"
    }
   ],
   "source": [
    "#df = exp_res.combine_gcs_csvs(bucket_name='dse-staff',folder_path='protected_areas/tables')\n",
    "#df.to_csv('/workspace/output/serengeti_yellowstone.csv', index=False)\n",
    "df = pd.read_csv('/workspace/output/serengeti_yellowstone.csv')\n",
    "\n",
    "# calculate edge\n",
    "df['edge_index'] = df['boundary_x_mean'] / df['buffer_x_mean']\n",
    "\n",
    "# reformat columns for plot\n",
    "df['WDPA_PID'] = df['WDPA_PID'].astype(str)\n",
    "df['year'] = df['year'].astype(str)"
   ]
  },
  {
   "cell_type": "code",
   "execution_count": 6,
   "id": "b684f4e1",
   "metadata": {},
   "outputs": [
    {
     "data": {
      "text/html": [
       "\n",
       "            <style>\n",
       "                .geemap-dark {\n",
       "                    --jp-widgets-color: white;\n",
       "                    --jp-widgets-label-color: white;\n",
       "                    --jp-ui-font-color1: white;\n",
       "                    --jp-layout-color2: #454545;\n",
       "                    background-color: #383838;\n",
       "                }\n",
       "\n",
       "                .geemap-dark .jupyter-button {\n",
       "                    --jp-layout-color3: #383838;\n",
       "                }\n",
       "\n",
       "                .geemap-colab {\n",
       "                    background-color: var(--colab-primary-surface-color, white);\n",
       "                }\n",
       "\n",
       "                .geemap-colab .jupyter-button {\n",
       "                    --jp-layout-color3: var(--colab-primary-surface-color, white);\n",
       "                }\n",
       "            </style>\n",
       "            "
      ],
      "text/plain": [
       "<IPython.core.display.HTML object>"
      ]
     },
     "metadata": {},
     "output_type": "display_data"
    },
    {
     "data": {
      "image/png": "[encoded data removed]",
      "text/plain": [
       "<Figure size 1000x600 with 1 Axes>"
      ]
     },
     "metadata": {},
     "output_type": "display_data"
    }
   ],
   "source": [
    "viz.plot_edge_index(df)"
   ]
  },
  {
   "cell_type": "markdown",
   "id": "bfe34e15",
   "metadata": {},
   "source": [
    "Let's take this one step further and visualize the changes in the gradient of BSI overtime. "
   ]
  },
  {
   "cell_type": "code",
   "execution_count": 7,
   "id": "13647320",
   "metadata": {},
   "outputs": [
    {
     "data": {
      "text/html": [
       "\n",
       "            <style>\n",
       "                .geemap-dark {\n",
       "                    --jp-widgets-color: white;\n",
       "                    --jp-widgets-label-color: white;\n",
       "                    --jp-ui-font-color1: white;\n",
       "                    --jp-layout-color2: #454545;\n",
       "                    background-color: #383838;\n",
       "                }\n",
       "\n",
       "                .geemap-dark .jupyter-button {\n",
       "                    --jp-layout-color3: #383838;\n",
       "                }\n",
       "\n",
       "                .geemap-colab {\n",
       "                    background-color: var(--colab-primary-surface-color, white);\n",
       "                }\n",
       "\n",
       "                .geemap-colab .jupyter-button {\n",
       "                    --jp-layout-color3: var(--colab-primary-surface-color, white);\n",
       "                }\n",
       "            </style>\n",
       "            "
      ],
      "text/plain": [
       "<IPython.core.display.HTML object>"
      ]
     },
     "metadata": {},
     "output_type": "display_data"
    }
   ],
   "source": [
    "def image_analysis(wdpaid, year, band_name):\n",
    "    print(f\"Processing WDPA ID {wdpaid} for year {year}\")\n",
    "\n",
    "    pa_geometry = load_protected_area(wdpaid).geometry()\n",
    "    aoi = geo_ops.buffer_polygon(pa_geometry, 10000)\n",
    "    modis_ic = img_ops.modis.filter(img_ops.filter_for_year(aoi, year))\n",
    "    band_names = modis_ic.first().bandNames()\n",
    "    composite = modis_ic.reduce(ee.Reducer.median()).rename(band_names).clip(aoi)\n",
    "    image = img_ops.add_indices_to_image(composite)\n",
    "    \n",
    "    single_band = image.select(band_name)\n",
    "    buffer_img = img_ops.get_gradient_magnitude(single_band).clip(aoi)\n",
    "    boundary_buffer_1km = geo_ops.buffer_polygon(pa_geometry, 1000)\n",
    "    boundary_img = buffer_img.clip(boundary_buffer_1km)\n",
    "\n",
    "    exp_res.export_image_to_cloud(boundary_img, band_name, wdpaid, year)\n",
    "\n",
    "\n",
    "def analysis_to_image(wdpaids, start_year, n_years, band_name, max_workers=4):\n",
    "    years = [start_year + i for i in range(n_years)]\n",
    "    tasks = [(wdpaid, year) for wdpaid in wdpaids for year in years]\n",
    "    with concurrent.futures.ThreadPoolExecutor(max_workers=max_workers) as executor:\n",
    "        future_to_task = {\n",
    "            executor.submit(image_analysis, wdpaid, year, band_name): (wdpaid, year)\n",
    "            for wdpaid, year in tasks\n",
    "        }\n",
    "        for future in concurrent.futures.as_completed(future_to_task):\n",
    "            wdpaid, year = future_to_task[future]\n",
    "            try:\n",
    "                future.result()\n",
    "            except Exception as exc:\n",
    "                print(f\"WDPA ID {wdpaid}, Year {year} generated an exception: {exc}\")"
   ]
  },
  {
   "cell_type": "code",
   "execution_count": null,
   "id": "8b02be0d",
   "metadata": {},
   "outputs": [
    {
     "data": {
      "text/html": [
       "\n",
       "            <style>\n",
       "                .geemap-dark {\n",
       "                    --jp-widgets-color: white;\n",
       "                    --jp-widgets-label-color: white;\n",
       "                    --jp-ui-font-color1: white;\n",
       "                    --jp-layout-color2: #454545;\n",
       "                    background-color: #383838;\n",
       "                }\n",
       "\n",
       "                .geemap-dark .jupyter-button {\n",
       "                    --jp-layout-color3: #383838;\n",
       "                }\n",
       "\n",
       "                .geemap-colab {\n",
       "                    background-color: var(--colab-primary-surface-color, white);\n",
       "                }\n",
       "\n",
       "                .geemap-colab .jupyter-button {\n",
       "                    --jp-layout-color3: var(--colab-primary-surface-color, white);\n",
       "                }\n",
       "            </style>\n",
       "            "
      ],
      "text/plain": [
       "<IPython.core.display.HTML object>"
      ]
     },
     "metadata": {},
     "output_type": "display_data"
    },
    {
     "name": "stdout",
     "output_type": "stream",
     "text": [
      "Processing WDPA ID 916 for year 2002\n",
      "Processing WDPA ID 916 for year 2003\n",
      "Processing WDPA ID 916 for year 2004\n",
      "Processing WDPA ID 916 for year 2005\n",
      "Processing WDPA ID 916 for year 2006\n",
      "Processing WDPA ID 916 for year 2007\n",
      "Processing WDPA ID 916 for year 2008\n",
      "Processing WDPA ID 916 for year 2009\n",
      "Processing WDPA ID 916 for year 2010\n",
      "Processing WDPA ID 916 for year 2011\n",
      "Export task started for 916, 2002\n",
      "Processing WDPA ID 916 for year 2012\n",
      "Export task started for 916, 2003\n",
      "Processing WDPA ID 916 for year 2013\n",
      "Export task started for 916, 2008\n",
      "Processing WDPA ID 916 for year 2014\n",
      "Export task started for 916, 2006\n",
      "Processing WDPA ID 916 for year 2015\n",
      "Export task started for 916, 2010\n",
      "Processing WDPA ID 916 for year 2016\n",
      "Export task started for 916, 2009\n",
      "Processing WDPA ID 916 for year 2017\n",
      "Export task started for 916, 2005\n",
      "Processing WDPA ID 916 for year 2018\n",
      "Export task started for 916, 2011\n",
      "Processing WDPA ID 916 for year 2019\n",
      "Export task started for 916, 2013\n",
      "Processing WDPA ID 916 for year 2020\n",
      "Export task started for 916, 2007\n",
      "Processing WDPA ID 916 for year 2021\n",
      "Export task started for 916, 2012\n",
      "Processing WDPA ID 916 for year 2022\n",
      "Export task started for 916, 2004\n",
      "Processing WDPA ID 916 for year 2023\n",
      "Export task started for 916, 2015\n",
      "Processing WDPA ID 2013 for year 2002\n",
      "Export task started for 916, 2017\n",
      "Processing WDPA ID 2013 for year 2003\n",
      "Export task started for 916, 2019\n",
      "Processing WDPA ID 2013 for year 2004\n",
      "Export task started for 916, 2016\n",
      "Processing WDPA ID 2013 for year 2005\n",
      "Export task started for 916, 2022\n",
      "Processing WDPA ID 2013 for year 2006\n",
      "Export task started for 916, 2014\n",
      "Processing WDPA ID 2013 for year 2007\n",
      "Export task started for 916, 2018\n",
      "Processing WDPA ID 2013 for year 2008\n",
      "Export task started for 916, 2023\n",
      "Processing WDPA ID 2013 for year 2009\n",
      "Export task started for 916, 2020\n",
      "Processing WDPA ID 2013 for year 2010\n",
      "Export task started for 916, 2021\n",
      "Processing WDPA ID 2013 for year 2011\n",
      "Export task started for 2013, 2003\n",
      "Processing WDPA ID 2013 for year 2012\n",
      "Export task started for 2013, 2006\n",
      "Processing WDPA ID 2013 for year 2013\n",
      "Export task started for 2013, 2002\n",
      "Processing WDPA ID 2013 for year 2014\n",
      "Export task started for 2013, 2007\n",
      "Processing WDPA ID 2013 for year 2015\n",
      "Export task started for 2013, 2004\n",
      "Processing WDPA ID 2013 for year 2016\n",
      "Export task started for 2013, 2005\n",
      "Processing WDPA ID 2013 for year 2017\n",
      "Export task started for 2013, 2010\n",
      "Processing WDPA ID 2013 for year 2018\n",
      "Export task started for 2013, 2009\n",
      "Processing WDPA ID 2013 for year 2019\n",
      "Export task started for 2013, 2013\n",
      "Processing WDPA ID 2013 for year 2020\n",
      "Export task started for 2013, 2011\n",
      "Processing WDPA ID 2013 for year 2021\n",
      "Export task started for 2013, 2016\n",
      "Processing WDPA ID 2013 for year 2022\n",
      "Export task started for 2013, 2012\n",
      "Processing WDPA ID 2013 for year 2023\n",
      "Export task started for 2013, 2017\n",
      "Export task started for 2013, 2008\n",
      "Export task started for 2013, 2014\n",
      "Export task started for 2013, 2018\n",
      "Export task started for 2013, 2015Export task started for 2013, 2020\n",
      "\n",
      "Export task started for 2013, 2023\n",
      "Export task started for 2013, 2021\n",
      "Export task started for 2013, 2022\n",
      "Export task started for 2013, 2019\n"
     ]
    }
   ],
   "source": [
    "# run full image analysis for Serengeti and Yellowstone National Parks for 23 years\n",
    "#analysis_to_image(wdpaids = [\"916\", \"2013\"], start_year=2002, n_years=22, band_name = 'NDVI', max_workers=10)"
   ]
  },
  {
   "cell_type": "code",
   "execution_count": null,
   "id": "08dade1d",
   "metadata": {},
   "outputs": [],
   "source": [
    "#!cd output/cogs/serengeti\n",
    "#!gsutil -m cp \\\n",
    "#  \"gs://dse-staff/protected_areas/images/NDVI_916_2001.tif\" \\\n",
    "#  \"gs://dse-staff/protected_areas/images/NDVI_916_2002.tif\" \\\n",
    "#  \"gs://dse-staff/protected_areas/images/NDVI_916_2003.tif\" \\\n",
    "#  \"gs://dse-staff/protected_areas/images/NDVI_916_2004.tif\" \\\n",
    "#  \"gs://dse-staff/protected_areas/images/NDVI_916_2005.tif\" \\\n",
    "#  \"gs://dse-staff/protected_areas/images/NDVI_916_2006.tif\" \\\n",
    "#  \"gs://dse-staff/protected_areas/images/NDVI_916_2007.tif\" \\\n",
    "#  \"gs://dse-staff/protected_areas/images/NDVI_916_2008.tif\" \\\n",
    "#  \"gs://dse-staff/protected_areas/images/NDVI_916_2009.tif\" \\\n",
    "#  \"gs://dse-staff/protected_areas/images/NDVI_916_2010.tif\" \\\n",
    "#  \"gs://dse-staff/protected_areas/images/NDVI_916_2011.tif\" \\\n",
    "#  \"gs://dse-staff/protected_areas/images/NDVI_916_2012.tif\" \\\n",
    "#  \"gs://dse-staff/protected_areas/images/NDVI_916_2013.tif\" \\\n",
    "#  \"gs://dse-staff/protected_areas/images/NDVI_916_2014.tif\" \\\n",
    "#  \"gs://dse-staff/protected_areas/images/NDVI_916_2015.tif\" \\\n",
    "#  \"gs://dse-staff/protected_areas/images/NDVI_916_2016.tif\" \\\n",
    "#  \"gs://dse-staff/protected_areas/images/NDVI_916_2017.tif\" \\\n",
    "#  \"gs://dse-staff/protected_areas/images/NDVI_916_2018.tif\" \\\n",
    "#  \"gs://dse-staff/protected_areas/images/NDVI_916_2019.tif\" \\\n",
    "#  \"gs://dse-staff/protected_areas/images/NDVI_916_2020.tif\" \\\n",
    "#  \"gs://dse-staff/protected_areas/images/NDVI_916_2021.tif\" \\\n",
    "#  \"gs://dse-staff/protected_areas/images/NDVI_916_2022.tif\" \\\n",
    "#  \"gs://dse-staff/protected_areas/images/NDVI_916_2023.tif\" \\\n",
    "#  ."
   ]
  },
  {
   "cell_type": "code",
   "execution_count": null,
   "id": "89503260",
   "metadata": {
    "vscode": {
     "languageId": "powershell"
    }
   },
   "outputs": [
    {
     "data": {
      "text/html": [
       "\n",
       "            <style>\n",
       "                .geemap-dark {\n",
       "                    --jp-widgets-color: white;\n",
       "                    --jp-widgets-label-color: white;\n",
       "                    --jp-ui-font-color1: white;\n",
       "                    --jp-layout-color2: #454545;\n",
       "                    background-color: #383838;\n",
       "                }\n",
       "\n",
       "                .geemap-dark .jupyter-button {\n",
       "                    --jp-layout-color3: #383838;\n",
       "                }\n",
       "\n",
       "                .geemap-colab {\n",
       "                    background-color: var(--colab-primary-surface-color, white);\n",
       "                }\n",
       "\n",
       "                .geemap-colab .jupyter-button {\n",
       "                    --jp-layout-color3: var(--colab-primary-surface-color, white);\n",
       "                }\n",
       "            </style>\n",
       "            "
      ],
      "text/plain": [
       "<IPython.core.display.HTML object>"
      ]
     },
     "metadata": {},
     "output_type": "display_data"
    },
    {
     "name": "stdout",
     "output_type": "stream",
     "text": [
      "ffmpeg version 4.4.2-0ubuntu0.22.04.1 Copyright (c) 2000-2021 the FFmpeg developers\n",
      "  built with gcc 11 (Ubuntu 11.2.0-19ubuntu1)\n",
      "  configuration: --prefix=/usr --extra-version=0ubuntu0.22.04.1 --toolchain=hardened --libdir=/usr/lib/aarch64-linux-gnu --incdir=/usr/include/aarch64-linux-gnu --arch=arm64 --enable-gpl --disable-stripping --enable-gnutls --enable-ladspa --enable-libaom --enable-libass --enable-libbluray --enable-libbs2b --enable-libcaca --enable-libcdio --enable-libcodec2 --enable-libdav1d --enable-libflite --enable-libfontconfig --enable-libfreetype --enable-libfribidi --enable-libgme --enable-libgsm --enable-libjack --enable-libmp3lame --enable-libmysofa --enable-libopenjpeg --enable-libopenmpt --enable-libopus --enable-libpulse --enable-librabbitmq --enable-librubberband --enable-libshine --enable-libsnappy --enable-libsoxr --enable-libspeex --enable-libsrt --enable-libssh --enable-libtheora --enable-libtwolame --enable-libvidstab --enable-libvorbis --enable-libvpx --enable-libwebp --enable-libx265 --enable-libxml2 --enable-libxvid --enable-libzimg --enable-libzmq --enable-libzvbi --enable-lv2 --enable-omx --enable-openal --enable-opencl --enable-opengl --enable-sdl2 --enable-pocketsphinx --enable-librsvg --enable-libdc1394 --enable-libdrm --enable-libiec61883 --enable-chromaprint --enable-frei0r --enable-libx264 --enable-shared\n",
      "  libavutil      56. 70.100 / 56. 70.100\n",
      "  libavcodec     58.134.100 / 58.134.100\n",
      "  libavformat    58. 76.100 / 58. 76.100\n",
      "  libavdevice    58. 13.100 / 58. 13.100\n",
      "  libavfilter     7.110.100 /  7.110.100\n",
      "  libswscale      5.  9.100 /  5.  9.100\n",
      "  libswresample   3.  9.100 /  3.  9.100\n",
      "  libpostproc    55.  9.100 / 55.  9.100\n",
      "\u001b[0;36m[tiff @ 0xaaab06d5f070] \u001b[0m\u001b[1;31mInvalid TIFF header\n",
      "    Last message repeated 9 timesimes\n",
      "\u001b[0;35m[image2 @ 0xaaab06d5db40] \u001b[0mdecoding for stream 0 failed\n",
      "\u001b[0;35m[image2 @ 0xaaab06d5db40] \u001b[0m\u001b[0;33mCould not find codec parameters for stream 0 (Video: tiff, none): unspecified size\n",
      "Consider increasing the value for the 'analyzeduration' (0) and 'probesize' (5000000) options\n",
      "\u001b[0mInput #0, image2, from '/workspace/output/cogs/serengeti/*.tif':\n",
      "  Duration: 00:00:11.50, start: 0.000000, bitrate: N/A\n",
      "  Stream #0:0: Video: tiff, none, 2 fps, 2 tbr, 2 tbn, 2 tbc\n",
      "\u001b[1;32m[Parsed_drawtext_3 @ 0xaaab06d6dd80] \u001b[0mUsing \"/usr/share/fonts/truetype/dejavu/DejaVuSans.ttf\"\n",
      "\u001b[1;32m[Parsed_drawtext_4 @ 0xaaab06d6eab0] \u001b[0mUsing \"/usr/share/fonts/truetype/dejavu/DejaVuSans.ttf\"\n",
      "File 'serengeti_NDVI_timelapse.mp4' already exists. Overwrite? [y/N] ^C\n"
     ]
    }
   ],
   "source": [
    "!ffmpeg -framerate 2 -pattern_type glob -i '/workspace/output/cogs/serengeti/*.tif' \\\n",
    "-filter_complex \"[0]deflicker=mode=pm:size=7[s0];[s0]concat=n=1[s1];[s1]scale=force_original_aspect_ratio=increase:size=hd1080[s2];[s2]drawtext=fontcolor=white:fontfile=/usr/local/lib/python3.10/dist-packages/time_lapse/fonts/Jost-400-Book.ttf:fontsize=32:shadowcolor=black:text='Arne de Laat':x=main_w-text_w-line_h:y=main_h-3*line_h[s3];[s3]drawtext=fontcolor=white:fontfile=/usr/local/lib/python3.10/dist-packages/time_lapse/fonts/Jost-400-Book.ttf:fontsize=20:shadowcolor=black:text='153957 Photography':x=main_w-text_w-line_h:y=main_h-2*line_h[s4];[s4]split=2[s5][s6];[s6]scale=force_original_aspect_ratio=increase:size=qhd[s7]\" \\\n",
    "-map \"[s5]\" -crf 20 -movflags faststart -pix_fmt yuv420p -preset slower serengeti_NDVI_timelapse.mp4 \\\n",
    "-map \"[s7]\" -crf 20 -movflags faststart -pix_fmt yuv420p -preset slower serengeti_NDVI_timelapse_960.mp4"
   ]
  },
  {
   "cell_type": "code",
   "execution_count": 27,
   "id": "8f0d2196",
   "metadata": {
    "vscode": {
     "languageId": "powershell"
    }
   },
   "outputs": [
    {
     "data": {
      "text/html": [
       "\n",
       "            <style>\n",
       "                .geemap-dark {\n",
       "                    --jp-widgets-color: white;\n",
       "                    --jp-widgets-label-color: white;\n",
       "                    --jp-ui-font-color1: white;\n",
       "                    --jp-layout-color2: #454545;\n",
       "                    background-color: #383838;\n",
       "                }\n",
       "\n",
       "                .geemap-dark .jupyter-button {\n",
       "                    --jp-layout-color3: #383838;\n",
       "                }\n",
       "\n",
       "                .geemap-colab {\n",
       "                    background-color: var(--colab-primary-surface-color, white);\n",
       "                }\n",
       "\n",
       "                .geemap-colab .jupyter-button {\n",
       "                    --jp-layout-color3: var(--colab-primary-surface-color, white);\n",
       "                }\n",
       "            </style>\n",
       "            "
      ],
      "text/plain": [
       "<IPython.core.display.HTML object>"
      ]
     },
     "metadata": {},
     "output_type": "display_data"
    },
    {
     "data": {
      "text/html": [
       "<video controls  >\n",
       " <source src=\"data:video/mp4;base64,\" type=\"video/mp4\">\n",
       " Your browser does not support the video tag.\n",
       " </video>"
      ],
      "text/plain": [
       "<IPython.core.display.Video object>"
      ]
     },
     "execution_count": 27,
     "metadata": {},
     "output_type": "execute_result"
    }
   ],
   "source": [
    "from IPython.display import Video\n",
    "\n",
    "Video(\"serengeti_NDVI_timelapse.mp4\", embed=True)"
   ]
  }
 ],
 "metadata": {
  "kernelspec": {
   "display_name": "Python 3",
   "language": "python",
   "name": "python3"
  },
  "language_info": {
   "codemirror_mode": {
    "name": "ipython",
    "version": 3
   },
   "file_extension": ".py",
   "mimetype": "text/x-python",
   "name": "python",
   "nbconvert_exporter": "python",
   "pygments_lexer": "ipython3",
   "version": "3.10.12"
  }
 },
 "nbformat": 4,
 "nbformat_minor": 5
}
