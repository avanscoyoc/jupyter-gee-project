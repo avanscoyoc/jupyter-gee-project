{
 "cells": [
  {
   "cell_type": "code",
   "execution_count": 1,
   "id": "aa001e83",
   "metadata": {},
   "outputs": [
    {
     "name": "stdout",
     "output_type": "stream",
     "text": [
      "Hello from the Earth Engine servers!\n"
     ]
    }
   ],
   "source": [
    "import ee\n",
    "import os\n",
    "import geemap\n",
    "\n",
    "service_account = 'jupyter-gee-project@ee-avs-dse.iam.gserviceaccount.com'\n",
    "key_path = '../service_account_key.json'\n",
    "\n",
    "credentials = ee.ServiceAccountCredentials(service_account, key_path)\n",
    "ee.Initialize(credentials)\n",
    "\n",
    "print(ee.String('Hello from the Earth Engine servers!').getInfo())"
   ]
  },
  {
   "cell_type": "code",
   "execution_count": null,
   "id": "5191a120",
   "metadata": {},
   "outputs": [
    {
     "data": {
      "text/html": [
       "\n",
       "            <style>\n",
       "                .geemap-dark {\n",
       "                    --jp-widgets-color: white;\n",
       "                    --jp-widgets-label-color: white;\n",
       "                    --jp-ui-font-color1: white;\n",
       "                    --jp-layout-color2: #454545;\n",
       "                    background-color: #383838;\n",
       "                }\n",
       "\n",
       "                .geemap-dark .jupyter-button {\n",
       "                    --jp-layout-color3: #383838;\n",
       "                }\n",
       "\n",
       "                .geemap-colab {\n",
       "                    background-color: var(--colab-primary-surface-color, white);\n",
       "                }\n",
       "\n",
       "                .geemap-colab .jupyter-button {\n",
       "                    --jp-layout-color3: var(--colab-primary-surface-color, white);\n",
       "                }\n",
       "            </style>\n",
       "            "
      ],
      "text/plain": [
       "<IPython.core.display.HTML object>"
      ]
     },
     "metadata": {},
     "output_type": "display_data"
    }
   ],
   "source": [
    "protected_areas = ee.FeatureCollection(\"WCMC/WDPA/202106/polygons\")\n",
    "filtered = protected_areas.filter(ee.Filter.And(\n",
    "    ee.Filter.eq(\"MARINE\", \"0\"),\n",
    "    ee.Filter.neq(\"DESIG_ENG\", \"Marine Protected Area\"),\n",
    "    ee.Filter.inList(\"STATUS\", [\"Designated\", \"Established\", \"Inscribed\"]),\n",
    "    ee.Filter.neq(\"DESIG_ENG\", \"UNESCO-MAB Biosphere Reserve\"),\n",
    "    ee.Filter.gte(\"GIS_AREA\", 200), \n",
    "    ee.Filter.inList(\"WDPA_PID\", [\n",
    "        \"555655917\", \"555656005\", \"555656013\", \"555665477\", \"555656021\",\n",
    "        \"555665485\", \"555556142\", \"187\", \"555703455\", \"555563456\", \"15894\"\n",
    "    ]).Not()\n",
    "))\n",
    "\n"
   ]
  },
  {
   "cell_type": "code",
   "execution_count": null,
   "id": "f945639f",
   "metadata": {
    "vscode": {
     "languageId": "shellscript"
    }
   },
   "outputs": [],
   "source": [
    "ogr2ogr -f \"PostgreSQL\" \\\n",
    "  PG:\"host=host.docker.internal dbname=postgres user=postgres password=gispass\" \\\n",
    "  protected_areas_filtered.geojson \\\n",
    "  -nln protected_areas \\\n",
    "  -nlt MULTIPOLYGON \\\n",
    "  -lco GEOMETRY_NAME=geom \\\n",
    "  -lco FID=gid \\\n",
    "  -overwrite"
   ]
  },
  {
   "cell_type": "code",
   "execution_count": null,
   "id": "74590419",
   "metadata": {
    "vscode": {
     "languageId": "sql"
    }
   },
   "outputs": [],
   "source": [
    "-- Add a column for perimeter/area ratio\n",
    "ALTER TABLE protected_areas ADD COLUMN pa_ratio DOUBLE PRECISION;\n",
    "\n",
    "-- Compute area and perimeter using a projected CRS (Mollweide: ESRI:54009)\n",
    "UPDATE protected_areas\n",
    "SET pa_ratio = ST_Perimeter(ST_Transform(geom, 54009)) /\n",
    "               ST_Area(ST_Transform(geom, 54009));\n",
    "\n",
    "-- Remove top 25% by ratio\n",
    "DELETE FROM protected_areas\n",
    "WHERE pa_ratio > (\n",
    "  SELECT percentile_cont(0.75) WITHIN GROUP (ORDER BY pa_ratio)\n",
    "  FROM protected_areas\n",
    ");"
   ]
  }
 ],
 "metadata": {
  "kernelspec": {
   "display_name": "Python 3",
   "language": "python",
   "name": "python3"
  },
  "language_info": {
   "codemirror_mode": {
    "name": "ipython",
    "version": 3
   },
   "file_extension": ".py",
   "mimetype": "text/x-python",
   "name": "python",
   "nbconvert_exporter": "python",
   "pygments_lexer": "ipython3",
   "version": "3.10.12"
  }
 },
 "nbformat": 4,
 "nbformat_minor": 5
}
