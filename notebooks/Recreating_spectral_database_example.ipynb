{
 "cells": [
  {
   "cell_type": "markdown",
   "id": "02717733-0a29-469c-8680-ef0516f8e40f",
   "metadata": {},
   "source": [
    "### Landsat data methodology for post-fire recovery analysis in Lebanon\n",
    "\n",
    "This notebook outlines the methodology used to retrieve Landsat imagery via GEE. It is based on the Spectral Trend Database [repository](https://github.com/SchmidtDSE/spectral_trend_database), created by Brookie Guzder-Williams\n",
    "\n",
    "This notebook queries Landsat 5, 7, and 8 and returns monthly values of relevant bands as well as the vegetation indices *NDVI* and *EVI*. This code expected a monthly time span and returns a geoTIFF for each band for that months. This notebook is designed to test the code, which then is scaled to retrieve the full monthly timeseries. "
   ]
  },
  {
   "cell_type": "code",
   "execution_count": null,
   "id": "43c9c96a-65d1-47f2-9528-760ad4723ea0",
   "metadata": {},
   "outputs": [],
   "source": [
    "import ee\n",
    "ee.Authenticate()\n",
    "ee.Initialize(project='dse-staff')\n",
    "print(ee.String('Hello from the Earth Engine servers!').getInfo())"
   ]
  },
  {
   "cell_type": "code",
   "execution_count": 2,
   "id": "2c4f68e9-4316-48e1-8d26-5bfdd275bd95",
   "metadata": {},
   "outputs": [
    {
     "data": {
      "text/html": [
       "<p>To authorize access needed by Earth Engine, open the following\n",
       "        URL in a web browser and follow the instructions:</p>\n",
       "        <p><a href=https://code.earthengine.google.com/client-auth?scopes=https%3A//www.googleapis.com/auth/earthengine%20https%3A//www.googleapis.com/auth/cloud-platform%20https%3A//www.googleapis.com/auth/drive%20https%3A//www.googleapis.com/auth/devstorage.full_control&request_id=dFfxX0ECZSShdgi-utBnSGbdjueoT2RJnOSRmll7gvk&tc=xDU1OfjOViXG_fP-NGboaduobJcG-RfD0d3t3blSHzw&cc=TaO02CjrLRNgpWEcMRSDEX_cfYAQSgI3VSRz0hd8lQc>https://code.earthengine.google.com/client-auth?scopes=https%3A//www.googleapis.com/auth/earthengine%20https%3A//www.googleapis.com/auth/cloud-platform%20https%3A//www.googleapis.com/auth/drive%20https%3A//www.googleapis.com/auth/devstorage.full_control&request_id=dFfxX0ECZSShdgi-utBnSGbdjueoT2RJnOSRmll7gvk&tc=xDU1OfjOViXG_fP-NGboaduobJcG-RfD0d3t3blSHzw&cc=TaO02CjrLRNgpWEcMRSDEX_cfYAQSgI3VSRz0hd8lQc</a></p>\n",
       "        <p>The authorization workflow will generate a code, which you should paste in the box below.</p>\n",
       "        "
      ],
      "text/plain": [
       "<IPython.core.display.HTML object>"
      ]
     },
     "metadata": {},
     "output_type": "display_data"
    },
    {
     "ename": "EEException",
     "evalue": "Cannot authenticate: Invalid request.",
     "output_type": "error",
     "traceback": [
      "\u001b[0;31m---------------------------------------------------------------------------\u001b[0m",
      "\u001b[0;31mEEException\u001b[0m                               Traceback (most recent call last)",
      "Cell \u001b[0;32mIn[2], line 1\u001b[0m\n\u001b[0;32m----> 1\u001b[0m \u001b[43mee\u001b[49m\u001b[38;5;241;43m.\u001b[39;49m\u001b[43mAuthenticate\u001b[49m\u001b[43m(\u001b[49m\u001b[43m)\u001b[49m\n",
      "File \u001b[0;32m/usr/local/lib/python3.10/dist-packages/ee/__init__.py:158\u001b[0m, in \u001b[0;36mAuthenticate\u001b[0;34m(authorization_code, quiet, code_verifier, auth_mode, scopes, force)\u001b[0m\n\u001b[1;32m    127\u001b[0m \u001b[38;5;28;01mdef\u001b[39;00m\u001b[38;5;250m \u001b[39m\u001b[38;5;21mAuthenticate\u001b[39m(\n\u001b[1;32m    128\u001b[0m     authorization_code: Optional[\u001b[38;5;28mstr\u001b[39m] \u001b[38;5;241m=\u001b[39m \u001b[38;5;28;01mNone\u001b[39;00m,\n\u001b[1;32m    129\u001b[0m     quiet: Optional[\u001b[38;5;28mbool\u001b[39m] \u001b[38;5;241m=\u001b[39m \u001b[38;5;28;01mNone\u001b[39;00m,\n\u001b[0;32m   (...)\u001b[0m\n\u001b[1;32m    133\u001b[0m     force: \u001b[38;5;28mbool\u001b[39m \u001b[38;5;241m=\u001b[39m \u001b[38;5;28;01mFalse\u001b[39;00m,\n\u001b[1;32m    134\u001b[0m ) \u001b[38;5;241m-\u001b[39m\u001b[38;5;241m>\u001b[39m Optional[\u001b[38;5;28mbool\u001b[39m]:\n\u001b[1;32m    135\u001b[0m \u001b[38;5;250m  \u001b[39m\u001b[38;5;124;03m\"\"\"Prompts the user to authorize access to Earth Engine via OAuth2.\u001b[39;00m\n\u001b[1;32m    136\u001b[0m \n\u001b[1;32m    137\u001b[0m \u001b[38;5;124;03m  Args:\u001b[39;00m\n\u001b[0;32m   (...)\u001b[0m\n\u001b[1;32m    156\u001b[0m \u001b[38;5;124;03m    True if we found valid credentials and didn't run the auth flow.\u001b[39;00m\n\u001b[1;32m    157\u001b[0m \u001b[38;5;124;03m  \"\"\"\u001b[39;00m\n\u001b[0;32m--> 158\u001b[0m   \u001b[38;5;28;01mreturn\u001b[39;00m \u001b[43moauth\u001b[49m\u001b[38;5;241;43m.\u001b[39;49m\u001b[43mauthenticate\u001b[49m\u001b[43m(\u001b[49m\u001b[43mauthorization_code\u001b[49m\u001b[43m,\u001b[49m\u001b[43m \u001b[49m\u001b[43mquiet\u001b[49m\u001b[43m,\u001b[49m\u001b[43m \u001b[49m\u001b[43mcode_verifier\u001b[49m\u001b[43m,\u001b[49m\u001b[43m \u001b[49m\u001b[43mauth_mode\u001b[49m\u001b[43m,\u001b[49m\n\u001b[1;32m    159\u001b[0m \u001b[43m                            \u001b[49m\u001b[43mscopes\u001b[49m\u001b[43m,\u001b[49m\u001b[43m \u001b[49m\u001b[43mforce\u001b[49m\u001b[43m)\u001b[49m\n",
      "File \u001b[0;32m/usr/local/lib/python3.10/dist-packages/ee/oauth.py:547\u001b[0m, in \u001b[0;36mauthenticate\u001b[0;34m(cli_authorization_code, quiet, cli_code_verifier, auth_mode, scopes, force)\u001b[0m\n\u001b[1;32m    544\u001b[0m \u001b[38;5;28;01mif\u001b[39;00m flow\u001b[38;5;241m.\u001b[39mdisplay_instructions(quiet):\n\u001b[1;32m    545\u001b[0m   _open_new_browser(flow\u001b[38;5;241m.\u001b[39mauth_url)\n\u001b[0;32m--> 547\u001b[0m \u001b[43mflow\u001b[49m\u001b[38;5;241;43m.\u001b[39;49m\u001b[43msave_code\u001b[49m\u001b[43m(\u001b[49m\u001b[43m)\u001b[49m\n",
      "File \u001b[0;32m/usr/local/lib/python3.10/dist-packages/ee/oauth.py:597\u001b[0m, in \u001b[0;36mFlow.save_code\u001b[0;34m(self, code)\u001b[0m\n\u001b[1;32m    595\u001b[0m   redirect_uri \u001b[38;5;241m=\u001b[39m \u001b[38;5;28mself\u001b[39m\u001b[38;5;241m.\u001b[39mserver\u001b[38;5;241m.\u001b[39murl\n\u001b[1;32m    596\u001b[0m   code \u001b[38;5;241m=\u001b[39m \u001b[38;5;28mself\u001b[39m\u001b[38;5;241m.\u001b[39mserver\u001b[38;5;241m.\u001b[39mfetch_code()  \u001b[38;5;66;03m# Waits for oauth callback\u001b[39;00m\n\u001b[0;32m--> 597\u001b[0m \u001b[43m_obtain_and_write_token\u001b[49m\u001b[43m(\u001b[49m\u001b[43mcode\u001b[49m\u001b[43m,\u001b[49m\u001b[43m \u001b[49m\u001b[38;5;28;43mself\u001b[39;49m\u001b[38;5;241;43m.\u001b[39;49m\u001b[43mcode_verifier\u001b[49m\u001b[43m,\u001b[49m\u001b[43m \u001b[49m\u001b[38;5;28;43mself\u001b[39;49m\u001b[38;5;241;43m.\u001b[39;49m\u001b[43mscopes\u001b[49m\u001b[43m,\u001b[49m\u001b[43m \u001b[49m\u001b[43mredirect_uri\u001b[49m\u001b[43m)\u001b[49m\n",
      "File \u001b[0;32m/usr/local/lib/python3.10/dist-packages/ee/oauth.py:269\u001b[0m, in \u001b[0;36m_obtain_and_write_token\u001b[0;34m(auth_code, code_verifier, scopes, redirect_uri)\u001b[0m\n\u001b[1;32m    266\u001b[0m fetched_info \u001b[38;5;241m=\u001b[39m json\u001b[38;5;241m.\u001b[39mloads(\n\u001b[1;32m    267\u001b[0m     urllib\u001b[38;5;241m.\u001b[39mrequest\u001b[38;5;241m.\u001b[39murlopen(fetch_client)\u001b[38;5;241m.\u001b[39mread()\u001b[38;5;241m.\u001b[39mdecode())\n\u001b[1;32m    268\u001b[0m \u001b[38;5;28;01mif\u001b[39;00m \u001b[38;5;124m'\u001b[39m\u001b[38;5;124merror\u001b[39m\u001b[38;5;124m'\u001b[39m \u001b[38;5;129;01min\u001b[39;00m fetched_info:\n\u001b[0;32m--> 269\u001b[0m   \u001b[38;5;28;01mraise\u001b[39;00m ee_exception\u001b[38;5;241m.\u001b[39mEEException(\n\u001b[1;32m    270\u001b[0m       \u001b[38;5;124m'\u001b[39m\u001b[38;5;124mCannot authenticate: \u001b[39m\u001b[38;5;132;01m%s\u001b[39;00m\u001b[38;5;124m'\u001b[39m \u001b[38;5;241m%\u001b[39m fetched_info[\u001b[38;5;124m'\u001b[39m\u001b[38;5;124merror\u001b[39m\u001b[38;5;124m'\u001b[39m]\n\u001b[1;32m    271\u001b[0m   )\n\u001b[1;32m    272\u001b[0m client_info \u001b[38;5;241m=\u001b[39m {k: fetched_info[k] \u001b[38;5;28;01mfor\u001b[39;00m k \u001b[38;5;129;01min\u001b[39;00m [\u001b[38;5;124m'\u001b[39m\u001b[38;5;124mclient_id\u001b[39m\u001b[38;5;124m'\u001b[39m, \u001b[38;5;124m'\u001b[39m\u001b[38;5;124mclient_secret\u001b[39m\u001b[38;5;124m'\u001b[39m]}\n\u001b[1;32m    273\u001b[0m scopes \u001b[38;5;241m=\u001b[39m fetched_info\u001b[38;5;241m.\u001b[39mget(\u001b[38;5;124m'\u001b[39m\u001b[38;5;124mscopes\u001b[39m\u001b[38;5;124m'\u001b[39m) \u001b[38;5;129;01mor\u001b[39;00m scopes\n",
      "\u001b[0;31mEEException\u001b[0m: Cannot authenticate: Invalid request."
     ]
    }
   ],
   "source": [
    "ee.Authenticate()"
   ]
  },
  {
   "cell_type": "code",
   "execution_count": null,
   "id": "05cae166",
   "metadata": {},
   "outputs": [],
   "source": [
    "ee.Initialize(project='dse-staff')\n",
    "print(ee.String('Hello from the Earth Engine servers!').getInfo())"
   ]
  },
  {
   "cell_type": "markdown",
   "id": "5105bf6a-1ab0-46f2-86de-112dc5667316",
   "metadata": {},
   "source": [
    "$\\downarrow$ This code is basically taken from the spectral database repository [(`gee/landsat.py`)](https://github.com/SchmidtDSE/spectral_trend_database/blob/b200a3d0faf236cef8677a728ae693af94296192/spectral_trend_database/gee/landsat.py#L4) with only minor changes "
   ]
  },
  {
   "cell_type": "code",
   "execution_count": null,
   "id": "08ae2e8e-bb0f-408f-88f3-a08274da53b7",
   "metadata": {},
   "outputs": [],
   "source": [
    "#Global constants\n",
    "\n",
    "NOMINAL_SCALE = 30\n",
    "GRID_DEGREE_SIZE = 0.0439453125\n",
    "LSAT_SCALE_FACTOR = 0.0000275\n",
    "LSAT_OFFSET = -0.2\n",
    "TRANSFORM = [GRID_DEGREE_SIZE, 0, 0, 0, -GRID_DEGREE_SIZE, 0]\n",
    "MASK_VALUE = 2.1474836e9\n",
    "MAX_ERR = 1\n",
    "LANDSAT_BUFFER_RADIUS = 0\n",
    "EE_CRS = 'EPSG:3857'\n",
    "MASK_VALUES = [2.1474836e9, 0, 2**16 - 1]\n",
    "MASK_VALUE_BAND = 'blue'\n",
    "QA_BANDS = ['QA_PIXEL', 'QA_RADSAT']\n",
    "L8_SR_ID = 'LANDSAT/LC08/C02/T1_L2'\n",
    "L7_SR_ID = 'LANDSAT/LE07/C02/T1_L2'\n",
    "L5_SR_ID = 'LANDSAT/LT05/C02/T1_L2'\n",
    "L8_BANDS = [\n",
    "    'SR_B2',\n",
    "    'SR_B3',\n",
    "    'SR_B4',\n",
    "    'SR_B5',\n",
    "    'SR_B6',\n",
    "    'SR_B7'\n",
    "]\n",
    "L57_BANDS = [\n",
    "    'SR_B1',\n",
    "    'SR_B2',\n",
    "    'SR_B3',\n",
    "    'SR_B4',\n",
    "    'SR_B5',\n",
    "    'SR_B7'\n",
    "]\n",
    "HARMONIZED_BANDS = [\n",
    "    'blue',\n",
    "    'green',\n",
    "    'red',\n",
    "    'nir',\n",
    "    'swir1',\n",
    "    'swir2'\n",
    "]\n",
    "MISSIONS: dict[int, dict] = {\n",
    "    8: {\n",
    "        'id': L8_SR_ID,\n",
    "        'bands': L8_BANDS,\n",
    "        \"dates\": \"2013-03-18T15:58:14 -\"\n",
    "    },\n",
    "    7: {\n",
    "        'id': L7_SR_ID,\n",
    "        'bands': L57_BANDS,\n",
    "        \"dates\": \"1999-05-28T01:02:17 -\"\n",
    "    },\n",
    "    5: {\n",
    "        'id': L5_SR_ID,\n",
    "        'bands': L57_BANDS,\n",
    "        'dates': \"1984-03-16T16:18:01 - 2012-05-05T17:54:06\"\n",
    "    }\n",
    "}"
   ]
  },
  {
   "cell_type": "markdown",
   "id": "ed079cf6-e199-4d71-90b8-20e2fdff46e4",
   "metadata": {},
   "source": [
    "`qa_mask = _im.select('QA_PIXEL').bitwiseAnd(0b11111).eq(0)` checks if first 5 bits of qa_pixel are 0, if yes, set pixel to 1\n",
    "this creates a binary mask to mask for clouds. \n",
    "See page 13 on [Landsat 8 documentation](https://d9-wret.s3.us-west-2.amazonaws.com/assets/palladium/production/s3fs-public/media/files/LSDS-1619_Landsat8-9-Collection2-Level2-Science-Product-Guide-v6.pdf) and page 14 on [Landsat 5 documentation](https://d9-wret.s3.us-west-2.amazonaws.com/assets/palladium/production/s3fs-public/media/files/LSDS-1618_Landsat-4-7_C2-L2-ScienceProductGuide-v4.pdf)"
   ]
  },
  {
   "cell_type": "code",
   "execution_count": null,
   "id": "1bdaeb45-52c8-4d58-bd58-f219bab466fe",
   "metadata": {},
   "outputs": [],
   "source": [
    "def cloud_masked_rescaled_image(\n",
    "        im: ee.Image,\n",
    "        bands: list[str] = HARMONIZED_BANDS,\n",
    "        mission: Optional[int] = None) -> ee.Image:\n",
    "    \"\"\" cloud mask/rescaled landsat image\n",
    "    Args:\n",
    "        im (ee.Image): landsat image\n",
    "        bands (list[str]): optical bands to be kept\n",
    "        mission (Optional[int]):\n",
    "            one of 8, 7, 5 (see `MISSIONS` dict above)\n",
    "            if exists adds `mission` property to ee.image\n",
    "\n",
    "    Returns:\n",
    "         (ee.Image) cloud masked, scaled and offset, bands\n",
    "         maintaining im properties and timestamps.\n",
    "    \"\"\"\n",
    "    _im = ee.Image(im)\n",
    "    qa_mask = _im.select('QA_PIXEL').bitwiseAnd(0b11111).eq(0) \n",
    "    saturation_mask = _im.select('QA_RADSAT').eq(0)\n",
    "    _im = _im.updateMask(qa_mask).updateMask(saturation_mask)\n",
    "    _im = _im.select(bands).multiply(LSAT_SCALE_FACTOR).add(LSAT_OFFSET)\n",
    "    if mission:\n",
    "        _im = _im.set('mission', mission)\n",
    "    _im = _im.set('system:time_start', im.date().millis())\n",
    "\n",
    "    return ee.Image(_im)"
   ]
  },
  {
   "cell_type": "code",
   "execution_count": null,
   "id": "667dca44-99d8-48da-b8fc-170a7955cc51",
   "metadata": {},
   "outputs": [],
   "source": [
    "def cloud_masked_rescaled_ic_for_mission( #inputs native naming, outputs ic with harmonized naming\n",
    "        mission: int,\n",
    "        bands: list[str] = HARMONIZED_BANDS,\n",
    "        data_filter: Optional[ee.Filter] = None) -> ee.ImageCollection:\n",
    "    \"\"\" cloud masked rescaled landsat bands ic for mission\n",
    "    Args:\n",
    "        mission (int): one of 8, 7, 5 (see `MISSIONS` dict above)\n",
    "        data_filter (Optional[ee.Filter]): if exists, filter ic\n",
    "\n",
    "    Returns:\n",
    "         (ee.ImageCollection) of cloud masked, scaled and offset, landsat images\n",
    "    \"\"\"\n",
    "    info = MISSIONS[mission]\n",
    "    ic = ee.ImageCollection(info['id'])\n",
    "\n",
    "    if data_filter:\n",
    "        ic = ic.filter(data_filter)\n",
    "    if bands:\n",
    "        ic = ic.select(QA_BANDS + info['bands'], QA_BANDS + bands) #rename mission bands to harmonized bands\n",
    "        # suggestion: wrap this in a function called rename_bands()\n",
    "    else:\n",
    "        bands = info['bands']\n",
    "    ic = ic.map(lambda im: cloud_masked_rescaled_image(im, bands=bands, mission=mission))\n",
    "\n",
    "    return ic"
   ]
  },
  {
   "cell_type": "code",
   "execution_count": null,
   "id": "14f339bb-d29f-4434-aff5-37ac77dd9542",
   "metadata": {},
   "outputs": [],
   "source": [
    "def harmonized_cloud_masked_rescaled_ic(\n",
    "        missions: list[int] = [5, 7, 8],\n",
    "        data_filter: Optional[ee.Filter] = None) -> ee.ImageCollection:\n",
    "    \"\"\" cloud masked rescaled landsat bands ic for mission\n",
    "    Args:\n",
    "        mission (int): one of 8, 7, 5 (see `MISSIONS` dict above)\n",
    "        data_filter (Optional[ee.Filter]): if exists, filter ic\n",
    "\n",
    "    Returns:\n",
    "         (ee.ImageCollection) of cloud masked, scaled and offset, landsat images\n",
    "    \"\"\"\n",
    "    ic = cloud_masked_rescaled_ic_for_mission(missions[0], data_filter=data_filter)\n",
    "    for m in missions[1:]:\n",
    "        ic = ic.merge(cloud_masked_rescaled_ic_for_mission(m, data_filter=data_filter))\n",
    "\n",
    "    return ic"
   ]
  },
  {
   "cell_type": "markdown",
   "id": "6c669bc5-2a44-4b7c-9416-239906bf2ab0",
   "metadata": {},
   "source": [
    "In the spectral database repository, the following code is executed in script [export_landsat_data.py](https://github.com/SchmidtDSE/spectral_trend_database/blob/a4fe0df7822d71ffbf95f0ce1aa485cad7dfba93/scripts/step-2.export_landsat_data.py#L44) which imports the functions defined above. What it does it it grabs the whole Landsat archiv for a pixel, indicated by (lon, lat) and returns it as an xarray object. \n",
    "\n",
    "However, in our case we want to grad data for a polygon and return the monthly mean as a `.tiff` So from here on the code diverges more.\n",
    "\n",
    "$\\downarrow$ We want to calculate the indices in the cloud\n",
    "\n",
    "\n",
    "- `evi`: 2.5 *  (nir + (6 * red) - (7.5 * blue) + 1)\n",
    "\n",
    "- `ndvi`: (nir - red) / (nir + red)"
   ]
  },
  {
   "cell_type": "code",
   "execution_count": null,
   "id": "4b213488-3610-4d90-aca9-12b0294152bd",
   "metadata": {},
   "outputs": [],
   "source": [
    "def add_indices_to_image(image: ee.Image):\n",
    "    ''' calculates NDVI and EVI and adds them as bands to the image'''\n",
    "    \n",
    "    EVI = image.expression('2.5 * ((NIR - RED) / (NIR + 6 * RED - 7.5 * BLUE + 1))', {\n",
    "        'NIR' : image.select('nir'),\n",
    "        'RED' : image.select('red'),\n",
    "        'BLUE': image.select('blue')}).rename('EVI')\n",
    "    \n",
    "    NDVI = image.expression('(NIR - RED) / (NIR + RED)', {\n",
    "        'NIR' : image.select('nir'),\n",
    "        'RED' : image.select('red')}).rename('NDVI')\n",
    "\n",
    "    image = image.addBands([EVI, NDVI])\n",
    "\n",
    "    print('All band names:', image.bandNames().getInfo())\n",
    "\n",
    "    return image"
   ]
  },
  {
   "cell_type": "code",
   "execution_count": null,
   "id": "ba6f29ba-b6f7-4277-810e-804068ae2be1",
   "metadata": {},
   "outputs": [],
   "source": []
  },
  {
   "cell_type": "markdown",
   "id": "9b93067b-f80d-47b0-9138-813607ba953f",
   "metadata": {},
   "source": [
    "$\\downarrow$ We adapted Brookie's pixel-based function to take a polygon instead of a point as the spatial filter. "
   ]
  },
  {
   "cell_type": "code",
   "execution_count": null,
   "id": "7a166548-fb1e-4053-82df-1fcc74ca1e4b",
   "metadata": {},
   "outputs": [],
   "source": [
    "def get_polygon_monthly_mean_perpixel(\n",
    "        geom: ee.Geometry.Polygon,\n",
    "        start_date, end_date,\n",
    "        show_map = 0) -> ee.Image:\n",
    "\n",
    "    data_filter = ee.Filter.And(\n",
    "        ee.Filter.bounds(geom),\n",
    "        ee.Filter.date(start_date, end_date))\n",
    "    ic = harmonized_cloud_masked_rescaled_ic(data_filter=data_filter)\n",
    "\n",
    "    image = ic.mean().clip(geom)\n",
    "\n",
    "    image = add_indices_to_image(image)\n",
    "\n",
    "    image = image.set('system:time_start', ee.Date(start_date).millis()) \\\n",
    "                .set('system:time_end', ee.Date(end_date).millis())\n",
    "\n",
    "\n",
    "    if show_map:\n",
    "  \n",
    "        Map = geemap.Map()\n",
    "\n",
    "        # Define the visualization parameters.\n",
    "        vizParams = {\n",
    "          'bands': ['red', 'green', 'blue'],\n",
    "          'min': 0,\n",
    "          'max': 0.5,\n",
    "          'gamma': [0.95, 1.1, 1]\n",
    "        }\n",
    "    \n",
    "    \n",
    "        Map.addLayer(image, vizParams, \"False color composite\")\n",
    "        Map.addLayer(geom, {'color': 'red'}, \"Polygon\")\n",
    "        Map.centerObject(geom, 8)\n",
    "        display(Map)\n",
    "    \n",
    "    return image"
   ]
  },
  {
   "cell_type": "markdown",
   "id": "e7b4378a-a51d-473e-80e6-2e54f519aa91",
   "metadata": {},
   "source": [
    "We test it for a bounding box (scroll to the bottom on more info on where the bouding box is, but not that relevant)"
   ]
  },
  {
   "cell_type": "code",
   "execution_count": null,
   "id": "07e537e9-cb13-446e-87fc-b64da5c4960e",
   "metadata": {},
   "outputs": [],
   "source": [
    "# Define the coordinates of the rectangle\n",
    "lon_min = 35.75\n",
    "lon_max = 36\n",
    "lat_min = 33.75\n",
    "lat_max = 34\n",
    "\n",
    "# Create the rectangle as an Earth Engine Geometry\n",
    "rectangle = ee.Geometry.Rectangle([lon_min, lat_min, lon_max, lat_max])\n",
    "\n",
    "image = get_polygon_monthly_mean_perpixel(rectangle, start_date = '2000-01-01', end_date = '2000-01-31', show_map = 1)\n",
    "image"
   ]
  },
  {
   "cell_type": "markdown",
   "id": "1321e628-b36b-40d5-80b6-6c6d6a18d9a4",
   "metadata": {},
   "source": [
    "We next test for for the polygon of Mount Lebanon"
   ]
  },
  {
   "cell_type": "code",
   "execution_count": null,
   "id": "8c3ef461-1758-42a4-9879-4f1e92c8adda",
   "metadata": {},
   "outputs": [],
   "source": [
    "mount_lebanon = ee.FeatureCollection('projects/dse-staff/assets/mount_lebanon')\n",
    "type(mount_lebanon)\n",
    "\n",
    "mount_lebanon = mount_lebanon.first().geometry()\n",
    "\n",
    "image = get_polygon_monthly_mean_perpixel(mount_lebanon, start_date = '2000-01-01', end_date = '2000-01-31', show_map = 1)\n",
    "image"
   ]
  },
  {
   "cell_type": "code",
   "execution_count": null,
   "id": "0c1f4a26-d27b-4497-a42a-0a3615ff5fdb",
   "metadata": {
    "scrolled": true
   },
   "outputs": [],
   "source": [
    "def export_image_to_cloud(image: ee.Image, date: str):\n",
    "\n",
    "    path_file = 'landsat_lebanon/landsat_indices_' + date\n",
    "    print(path_file)\n",
    "    \n",
    "    export_task = ee.batch.Export.image.toCloudStorage(\n",
    "    image=image,\n",
    "    description='landsat_export_cog',\n",
    "    bucket='dse-staff', \n",
    "    fileNamePrefix=path_file,  \n",
    "    fileFormat='GeoTIFF', \n",
    "    formatOptions={\n",
    "        'cloudOptimized': True,  \n",
    "    },\n",
    "    maxPixels=1e8,  \n",
    "    scale=30  \n",
    "    )\n",
    "\n",
    "    export_task.start()\n",
    "\n",
    "    return print(f'{date} saved')\n",
    "    \n",
    "export_image_to_cloud(image, 'test_indices_ml')"
   ]
  },
  {
   "cell_type": "code",
   "execution_count": null,
   "id": "54d5eef4-4050-4785-a64a-a2ee7092093a",
   "metadata": {},
   "outputs": [],
   "source": [
    "import calendar\n",
    "\n",
    "def generate_year_month_strings(y1, y2):\n",
    "    result = []\n",
    "    \n",
    "    # Step 1: Generate year-month combinations\n",
    "    for year in range(y1, y2 + 1):\n",
    "        for month in range(1, 13):\n",
    "            year_month = f\"{year}-{month:02d}\"\n",
    "            result.append(year_month)\n",
    "    return result"
   ]
  },
  {
   "cell_type": "code",
   "execution_count": null,
   "id": "f6a72367-0068-49fa-8665-455bbecd38ac",
   "metadata": {
    "scrolled": true
   },
   "outputs": [],
   "source": [
    "def generate_first_last_date(year_month):\n",
    "    year, month = map(int, year_month.split('-'))  # Split the year-month string into year and month\n",
    "    _, last_day = calendar.monthrange(year, month)  # Get the number of days in the month\n",
    "    start_date = f\"{year}-{month:02d}-01\"\n",
    "    end_date = f\"{year}-{month:02d}-{last_day:02d}\"\n",
    "\n",
    "    return start_date, end_date\n",
    "\n",
    "# Example usage\n",
    "y1 = 1986\n",
    "y2 = 2024\n",
    "year_month_list = generate_year_month_strings(y1, y2)\n",
    "\n",
    "for m in year_month_list:\n",
    "    date = generate_first_last_date(m)\n",
    "    image = get_polygon_monthly_mean_perpixel(mount_lebanon, start_date = date[0], end_date = date[1])\n",
    "    export_image_to_cloud(image, m)"
   ]
  },
  {
   "cell_type": "markdown",
   "id": "091cd131-889b-452e-8178-d15da6d05ae8",
   "metadata": {},
   "source": [
    "Not use this list to map over the function and write data out for each month in the list:\n",
    "\n",
    "(see https://gis.stackexchange.com/questions/343871/filter-image-collection-with-a-month-range-for-each-year-in-google-earth-engine)"
   ]
  },
  {
   "cell_type": "code",
   "execution_count": null,
   "id": "d164f09a-bbde-4c97-aab6-d0852a713ce4",
   "metadata": {},
   "outputs": [],
   "source": [
    "year_month_list"
   ]
  },
  {
   "cell_type": "code",
   "execution_count": null,
   "id": "93a4bbc3-a8a1-4c53-add6-f4e18a479ce9",
   "metadata": {},
   "outputs": [],
   "source": [
    "write_monthly_file(rectangle, '2021-01')"
   ]
  },
  {
   "cell_type": "code",
   "execution_count": null,
   "id": "f1feb671-aa91-488d-8790-3476fa60ad6c",
   "metadata": {},
   "outputs": [],
   "source": [
    "\n"
   ]
  },
  {
   "cell_type": "code",
   "execution_count": null,
   "id": "2f4cb47c-fc8b-4f31-be53-bb4f5270ca14",
   "metadata": {},
   "outputs": [],
   "source": []
  },
  {
   "cell_type": "code",
   "execution_count": null,
   "id": "04ba92a4-f179-4e92-97cd-18f414ddcc0e",
   "metadata": {},
   "outputs": [],
   "source": []
  },
  {
   "cell_type": "markdown",
   "id": "9b273c32-63ac-43fe-b2cb-08833d96bb0c",
   "metadata": {},
   "source": [
    "$\\downarrow$ Plotting the rectangle I am subsetting: (todo: plot the xarray on top to make sure the selection is correct, can't get that to work as of now due to the different projection systems)"
   ]
  },
  {
   "cell_type": "code",
   "execution_count": null,
   "id": "4afbb671-db49-4a13-96fd-ed3685b70afa",
   "metadata": {},
   "outputs": [],
   "source": [
    "import cartopy.crs as ccrs\n",
    "import cartopy.feature as cfeature\n",
    "import geopandas as gpd\n",
    "from shapely.geometry import Polygon\n",
    "from shapely.geometry import Point\n",
    "\n",
    "# Initialize Earth Engine\n",
    "ee.Initialize()\n",
    "\n",
    "# Define the coordinates of the rectangle\n",
    "lon_min = 35.75\n",
    "lon_max = 36\n",
    "lat_min = 33.75\n",
    "lat_max = 34\n",
    "\n",
    "# Create the rectangle as an Earth Engine Geometry\n",
    "rectangle = ee.Geometry.Rectangle([lon_min, lat_min, lon_max, lat_max])\n",
    "\n",
    "# Convert the Earth Engine geometry to a GeoDataFrame for plotting\n",
    "polygon = Polygon([\n",
    "    (lon_min, lat_min),\n",
    "    (lon_max, lat_min),\n",
    "    (lon_max, lat_max),\n",
    "    (lon_min, lat_max),\n",
    "    (lon_min, lat_min)\n",
    "])\n",
    "\n",
    "# Create a GeoDataFrame\n",
    "gdf = gpd.GeoDataFrame({'geometry': [polygon]}, crs=\"EPSG:4326\")\n",
    "\n",
    "# Define a list of major cities with corrected coordinates\n",
    "cities = {\n",
    "    'Beirut': (35.495, 33.8886),  # Corrected: Beirut, Lebanon\n",
    "    'Damascus': (36.305, 33.513),  # Damascus, Syria\n",
    "}\n",
    "\n",
    "# Convert cities to Points for plotting\n",
    "city_points = [Point(lon, lat) for city, (lon, lat) in cities.items()]\n",
    "cities_gdf = gpd.GeoDataFrame({'city': list(cities.keys()), 'geometry': city_points}, crs=\"EPSG:4326\")\n",
    "\n",
    "# Plot the rectangle using Cartopy for basemap\n",
    "fig, ax = plt.subplots(figsize=(8, 8), subplot_kw={'projection': ccrs.PlateCarree()})\n",
    "\n",
    "# Add the natural world map using Cartopy\n",
    "ax.set_extent([lon_min - 1, lon_max + 1, lat_min - 1, lat_max + 1], crs=ccrs.PlateCarree())\n",
    "ax.coastlines(resolution='110m')\n",
    "ax.gridlines(draw_labels=True)\n",
    "\n",
    "# Add country borders\n",
    "ax.add_feature(cfeature.BORDERS, linestyle=':', edgecolor='black', linewidth=1)\n",
    "\n",
    "# Plot the rectangle on the map\n",
    "gdf.boundary.plot(ax=ax, color='blue', linewidth=2, label='Rectangle')\n",
    "\n",
    "# Plot cities on the map\n",
    "cities_gdf.plot(ax=ax, color='red', marker='o', markersize=50, label='Major Cities')\n",
    "\n",
    "# Add labels for Beirut and Damascus (in English only)\n",
    "for city, (lon, lat) in cities.items():\n",
    "    ax.text(lon + 0.05, lat + 0.05, f'{city}', transform=ccrs.PlateCarree(), fontsize=12, color='black', ha='left')\n",
    "\n",
    "# Set labels and title\n",
    "ax.set_xlabel('Longitude')\n",
    "ax.set_ylabel('Latitude')\n",
    "ax.set_title('Rectangle with Country Borders, Major Cities (English)')\n",
    "\n",
    "# Add a legend\n",
    "plt.legend()\n",
    "\n",
    "# Show the plot\n",
    "plt.show()\n"
   ]
  }
 ],
 "metadata": {
  "kernelspec": {
   "display_name": "Python 3",
   "language": "python",
   "name": "python3"
  },
  "language_info": {
   "codemirror_mode": {
    "name": "ipython",
    "version": 3
   },
   "file_extension": ".py",
   "mimetype": "text/x-python",
   "name": "python",
   "nbconvert_exporter": "python",
   "pygments_lexer": "ipython3",
   "version": "3.10.12"
  }
 },
 "nbformat": 4,
 "nbformat_minor": 5
}
