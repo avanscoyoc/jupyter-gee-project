{
 "cells": [
  {
   "cell_type": "code",
   "execution_count": null,
   "id": "af5cd8ea",
   "metadata": {},
   "outputs": [],
   "source": [
    "import sys\n",
    "sys.path.append('../src')\n",
    "from utils import ExportResults, Visualization\n",
    "\n",
    "exp_res = ExportResults()\n",
    "viz = Visualization()"
   ]
  },
  {
   "cell_type": "code",
   "execution_count": null,
   "id": "35f5f509",
   "metadata": {},
   "outputs": [],
   "source": [
    "import ee\n",
    "ee.Authenticate()\n",
    "ee.Initialize(project='dse-staff')\n",
    "print(ee.String('Hello from the Earth Engine servers!').getInfo())"
   ]
  },
  {
   "cell_type": "code",
   "execution_count": null,
   "id": "0485b5b9",
   "metadata": {},
   "outputs": [],
   "source": [
    "import pandas as pd\n",
    "df = pd.read_csv('../data/GLOBAL_sim_transects_landOnly.csv')\n",
    "df['WDPA_PI'].nunique()"
   ]
  },
  {
   "cell_type": "code",
   "execution_count": null,
   "id": "29f5cb94",
   "metadata": {},
   "outputs": [],
   "source": [
    "import geopandas as gpd\n",
    "gdf = gpd.read_file('../data/global_wdpa_June2021/Global_wdpa_footprint_June2021.shp')\n",
    "gdfwInfo = gpd.read_file('../data/global_wdpa_June2021/Global_wdpa_wInfo_June2021.shp')\n",
    "transects = gpd.read_file('../data/gee_transects_ext/gee_transects_ext.shp')\n",
    "print(gdf['FID'].nunique(), gdfwInfo['WDPA_PID'].nunique(), transects['WDPA_PI'].nunique())"
   ]
  },
  {
   "cell_type": "code",
   "execution_count": null,
   "id": "d5e184c4",
   "metadata": {},
   "outputs": [],
   "source": [
    "import pywdpa\n",
    "import geopandas as gpd\n",
    "from shapely.ops import unary_union\n",
    "\n",
    "def clean_wdpa(gdf, crs=None, snap_tol=1, geom_prec=1500, erase_overlaps=True):\n",
    "    if crs:\n",
    "        gdf = gdf.to_crs(crs)\n",
    "    grid = gdf.geometry.unary_union\n",
    "    gdf[\"geometry\"] = gdf.geometry.map(lambda g: snap(g, grid, snap_tol))\n",
    "    scale = geom_prec\n",
    "    gdf[\"geometry\"] = gdf.geometry.scale(scale, scale).buffer(0).scale(1/scale, 1/scale)\n",
    "    if erase_overlaps:\n",
    "        u = unary_union(gdf.geometry)\n",
    "        gdf = gpd.GeoDataFrame(geometry=[u], crs=gdf.crs)\n",
    "    return gdf\n",
    "\n",
    "cleaned = clean_wdpa(gdfwInfo)\n",
    "cleaned['WDPA_PID'].nunique()"
   ]
  },
  {
   "cell_type": "code",
   "execution_count": null,
   "id": "d3d0f93f",
   "metadata": {},
   "outputs": [],
   "source": [
    "# Combine results\n",
    "df = exp_res.combine_gcs_csvs(bucket_name='dse-staff',folder_path='protected_areas/tables')\n",
    "\n",
    "# Calculate edge and reformat columns\n",
    "df['edge_index'] = df['boundary_x_mean'] / df['buffer_x_mean']\n",
    "df['WDPA_PID'] = df['WDPA_PID'].astype(str)\n",
    "df['year'] = df['year'].astype(str)"
   ]
  },
  {
   "cell_type": "code",
   "execution_count": null,
   "id": "b05fc46d",
   "metadata": {},
   "outputs": [],
   "source": [
    "df"
   ]
  },
  {
   "cell_type": "code",
   "execution_count": null,
   "id": "1129a8c8",
   "metadata": {},
   "outputs": [],
   "source": [
    "#exp_res.save_df_to_gcs(df, bucket_name='dse-staff', wdpaid='combined', year=\"2001-2025\")"
   ]
  },
  {
   "cell_type": "code",
   "execution_count": null,
   "id": "3d9774b1",
   "metadata": {},
   "outputs": [],
   "source": [
    "viz.plot_edge_index(df)"
   ]
  },
  {
   "cell_type": "code",
   "execution_count": null,
   "id": "13a65f8f",
   "metadata": {},
   "outputs": [],
   "source": [
    "df.head()"
   ]
  },
  {
   "cell_type": "markdown",
   "id": "3fdf269f",
   "metadata": {},
   "source": [
    "Edge trend calculation"
   ]
  },
  {
   "cell_type": "code",
   "execution_count": null,
   "id": "974f8cc3",
   "metadata": {},
   "outputs": [],
   "source": [
    "import pandas as pd \n",
    "import statsmodels.api as sm\n",
    "\n",
    "#linear regression for each protected area and each band type\n",
    "\n",
    "def calc_trend(group):\n",
    "    result = {}\n",
    "    for col in [\"WDPA_PID\", \"band_name\"]: \n",
    "        result[col] = group[col].iloc[0] if col in group else None\n",
    "    if group[\"year\"].nunique() > 1:\n",
    "        X = sm.add_constant(group[\"year\"].astype(float))\n",
    "        y = group[\"edge_index\"]\n",
    "        model = sm.OLS(y, X).fit()\n",
    "        result.update({\n",
    "            \"estimate\": model.params.get(\"year\", None),\n",
    "            \"std_err\": model.bse.get(\"year\", None),\n",
    "            \"t_value\": model.tvalues.get(\"year\", None),\n",
    "            \"p_value\": model.pvalues.get(\"year\", None)\n",
    "        })\n",
    "    else:\n",
    "        result.update({\n",
    "            \"estimate\": None,\n",
    "            \"std_err\": None,\n",
    "            \"t_value\": None,\n",
    "            \"p_value\": None\n",
    "        })\n",
    "    return pd.Series(result)\n",
    "\n",
    "# Group by WDPA_PID and band_name, apply function, reset index\n",
    "trends = (\n",
    "    df.groupby([\"WDPA_PID\", \"band_name\"])\n",
    "      .apply(calc_trend)\n",
    "      .reset_index(drop=True)\n",
    ")\n",
    "\n",
    "# trends now contains trend stats and your chosen columns per group\n"
   ]
  },
  {
   "cell_type": "code",
   "execution_count": null,
   "id": "5d1bbdc7",
   "metadata": {},
   "outputs": [],
   "source": [
    "trends.head()"
   ]
  },
  {
   "cell_type": "code",
   "execution_count": null,
   "id": "a2c7618f",
   "metadata": {},
   "outputs": [],
   "source": [
    "from scipy import stats\n",
    "\n",
    "mean_estimate = trends[\"estimate\"].mean(skipna=True)\n",
    "print(f\"Mean estimate: {mean_estimate:.7f}\")\n",
    "\n",
    "t_stat, p_val = stats.ttest_1samp(trends[\"estimate\"].dropna(), 0)\n",
    "print(f\"T-test: t = {t_stat:.3f}, p = {p_val:.3e}\")\n"
   ]
  },
  {
   "cell_type": "markdown",
   "id": "4e68e111",
   "metadata": {},
   "source": [
    "Global analysis charts"
   ]
  },
  {
   "cell_type": "code",
   "execution_count": null,
   "id": "38318323",
   "metadata": {},
   "outputs": [],
   "source": [
    "import pandas as pd\n",
    "import numpy as np\n",
    "import matplotlib.pyplot as plt\n",
    "import seaborn as sns\n",
    "import statsmodels.api as sm\n",
    "from statsmodels.formula.api import ols\n"
   ]
  },
  {
   "cell_type": "code",
   "execution_count": null,
   "id": "31ae8421",
   "metadata": {},
   "outputs": [],
   "source": [
    "\n",
    "# Load and process df_info\n",
    "biome_map = {\n",
    "    \"Deserts & Xeric Shrublands\": \"Desert\",\n",
    "    \"Tropical & Subtropical Coniferous Forests\": \"Tropical-Forests\",\n",
    "    \"Tropical & Subtropical Moist Broadleaf Forests\": \"Tropical-Forests\",\n",
    "    \"Tropical & Subtropical Dry Broadleaf Forests\": \"Tropical-Forests\",\n",
    "    \"Mediterranean Forests, Woodlands & Scrub\": \"Temperate-Forests\",\n",
    "    \"Temperate Conifer Forests\": \"Temperate-Forests\",\n",
    "    \"Temperate Broadleaf & Mixed Forests\": \"Temperate-Forests\",\n",
    "    \"Boreal Forests/Taiga\": \"Boreal-Forests\",\n",
    "    \"Tropical & Subtropical Grasslands, Savannas & Shrublands\": \"Grassland & shrubland\",\n",
    "    \"Temperate Grasslands, Savannas & Shrublands\": \"Grassland & shrubland\",\n",
    "    \"Montane Grasslands & Shrublands\": \"Grassland & shrubland\",\n",
    "    \"Flooded Grasslands & Savannas\": \"Grassland & shrubland\",\n",
    "    \"N/A\": \"Rock & Ice\"\n",
    "}\n",
    "df[\"BIOME\"] = df[\"BIOME_NAME\"].replace(biome_map).fillna(\"Rock & Ice\")\n"
   ]
  },
  {
   "cell_type": "code",
   "execution_count": null,
   "id": "efa8321b",
   "metadata": {},
   "outputs": [],
   "source": [
    "def classify_edge(row):\n",
    "    if row[\"estimate\"] > 0 and row[\"p_value\"] < 0.05:\n",
    "        return \"Significantly Increase\"\n",
    "    elif row[\"estimate\"] > 0:\n",
    "        return \"Not significantly Increase\"\n",
    "    elif row[\"estimate\"] == 0:\n",
    "        return \"Stable\"\n",
    "    elif row[\"estimate\"] < 0 and row[\"p_value\"] < 0.05:\n",
    "        return \"Significantly Decrease\"\n",
    "    elif row[\"estimate\"] < 0:\n",
    "        return \"Not significantly Decrease\"\n",
    "    return \"unknown\"\n",
    "\n",
    "trends[\"edge_change\"] = trends.apply(classify_edge, axis=1)\n"
   ]
  },
  {
   "cell_type": "code",
   "execution_count": null,
   "id": "169eb195",
   "metadata": {},
   "outputs": [],
   "source": [
    "trends.head()"
   ]
  },
  {
   "cell_type": "code",
   "execution_count": null,
   "id": "eecdbc36",
   "metadata": {},
   "outputs": [],
   "source": [
    "# Only keep one row per WDPA_PID for the static columns\n",
    "static_cols = [\"BIOME\", \"GIS_AREA\", \"GOV_TYPE\", \"IUCN_CAT\", \"ORIG_NAME\", \"OWN_TYPE\", \"STATUS_YR\", \"WDPA_PID\"]\n",
    "df_static = df[static_cols].drop_duplicates(subset=[\"WDPA_PID\"])\n",
    "\n",
    "# Merge with trends (on WDPA_PID only)\n",
    "trends2 = trends.merge(df_static, on=\"WDPA_PID\", how=\"left\")\n",
    "trends2.head()"
   ]
  },
  {
   "cell_type": "code",
   "execution_count": null,
   "id": "394253ba",
   "metadata": {},
   "outputs": [],
   "source": [
    "\n",
    "# Stack bar setup\n",
    "stack_count = (\n",
    "    trends2\n",
    "    .groupby([\"BIOME\", \"edge_change\"])\n",
    "    .size()\n",
    "    .unstack(fill_value=0)\n",
    "    .reset_index()\n",
    ")\n",
    "stack_count[\"total\"] = stack_count.sum(axis=1, numeric_only=True)\n",
    "for col in [\"Significantly Increase\", \"Not significantly Increase\", \"Significantly Decrease\", \"Not significantly Decrease\"]:\n",
    "    stack_count[col] = stack_count[col] / stack_count[\"total\"]\n",
    "\n",
    "stack_perc = stack_count.drop(columns=\"total\").melt(id_vars=\"BIOME\", var_name=\"variable\", value_name=\"value\")\n",
    "stack_perc[\"BIOME\"] = pd.Categorical(\n",
    "    stack_perc[\"BIOME\"],\n",
    "    categories=[\"Mangroves\", \"Rock & Ice\", \"Tundra\", \"Desert\", \"Grassland & shrubland\", \n",
    "                \"Boreal-Forests\", \"Temperate-Forests\", \"Tropical-Forests\"],\n",
    "    ordered=True\n",
    ")\n",
    "\n",
    "stack_perc"
   ]
  },
  {
   "cell_type": "code",
   "execution_count": null,
   "id": "22c91e8a",
   "metadata": {},
   "outputs": [],
   "source": [
    "# ...existing code...\n",
    "from statsmodels.formula.api import ols\n",
    "\n",
    "models = {}\n",
    "results = []\n",
    "\n",
    "for band in df[\"band_name\"].unique():\n",
    "    df_band = df[df[\"band_name\"] == band]\n",
    "    # Global model for this band\n",
    "    model_global = ols(\"edge_index ~ year\", data=df_band).fit()\n",
    "    models[(band, \"Global\")] = model_global\n",
    "    results.append({\n",
    "        \"band_name\": band,\n",
    "        \"group\": \"Global\",\n",
    "        \"slope\": model_global.params.get(\"year\", None),\n",
    "        \"p_value\": model_global.pvalues.get(\"year\", None),\n",
    "        \"r_squared\": model_global.rsquared,\n",
    "        \"n\": len(df_band)\n",
    "    })\n",
    "    # Per-biome models for this band\n",
    "    for biome in df_band[\"BIOME\"].unique():\n",
    "        df_biome = df_band[df_band[\"BIOME\"] == biome]\n",
    "        if not df_biome.empty:\n",
    "            model_biome = ols(\"edge_index ~ year\", data=df_biome).fit()\n",
    "            models[(band, biome)] = model_biome\n",
    "            results.append({\n",
    "                \"band_name\": band,\n",
    "                \"group\": biome,\n",
    "                \"slope\": model_biome.params.get(\"year\", None),\n",
    "                \"p_value\": model_biome.pvalues.get(\"year\", None),\n",
    "                \"r_squared\": model_biome.rsquared,\n",
    "                \"n\": len(df_biome)\n",
    "            })\n",
    "\n",
    "# Convert results to DataFrame and save to CSV\n",
    "results_df = pd.DataFrame(results)\n",
    "results_df.to_csv(\"regression_results.csv\", index=False)\n",
    "results_df\n"
   ]
  },
  {
   "cell_type": "code",
   "execution_count": null,
   "id": "dd57bdc0",
   "metadata": {},
   "outputs": [],
   "source": [
    "import matplotlib.pyplot as plt\n",
    "import seaborn as sns\n",
    "\n",
    "# Filter out groups with NaN slopes if needed\n",
    "plot_df = results_df.dropna(subset=[\"slope\"])\n",
    "\n",
    "# Set up FacetGrid by band_name\n",
    "g = sns.FacetGrid(plot_df, col=\"band_name\", col_wrap=3, sharex=False, sharey=True, height=4)\n",
    "\n",
    "def facet_plot(data, color, **kwargs):\n",
    "    # Plot a horizontal line for each group\n",
    "    for i, row in data.iterrows():\n",
    "        plt.axhline(y=row[\"slope\"], color=color, lw=2, label=row[\"group\"])\n",
    "        # Annotate n above the line\n",
    "        plt.text(\n",
    "            x=0.5, y=row[\"slope\"], s=f'n={int(row[\"n\"])}',\n",
    "            va='bottom', ha='center', color=color, fontsize=10, transform=plt.gca().get_yaxis_transform()\n",
    "        )\n",
    "    # Add legend only once\n",
    "    handles, labels = plt.gca().get_legend_handles_labels()\n",
    "    if handles:\n",
    "        plt.legend(handles, labels, loc='best')\n",
    "\n",
    "g.map_dataframe(facet_plot)\n",
    "\n",
    "g.set_axis_labels(\"Group\", \"Slope (trend)\")\n",
    "g.set_titles(col_template=\"{col_name}\")\n",
    "plt.tight_layout()\n",
    "plt.show()"
   ]
  }
 ],
 "metadata": {
  "kernelspec": {
   "display_name": "Python 3",
   "language": "python",
   "name": "python3"
  },
  "language_info": {
   "codemirror_mode": {
    "name": "ipython",
    "version": 3
   },
   "file_extension": ".py",
   "mimetype": "text/x-python",
   "name": "python",
   "nbconvert_exporter": "python",
   "pygments_lexer": "ipython3",
   "version": "3.10.12"
  }
 },
 "nbformat": 4,
 "nbformat_minor": 5
}
