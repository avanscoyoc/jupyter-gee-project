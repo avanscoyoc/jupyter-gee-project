{
 "cells": [
  {
   "cell_type": "code",
   "execution_count": 1,
   "id": "50e3bfac",
   "metadata": {},
   "outputs": [
    {
     "name": "stdout",
     "output_type": "stream",
     "text": [
      "Hello from the Earth Engine servers!\n"
     ]
    }
   ],
   "source": [
    "import ee\n",
    "ee.Authenticate()\n",
    "ee.Initialize(project='dse-staff')\n",
    "print(ee.String('Hello from the Earth Engine servers!').getInfo())"
   ]
  },
  {
   "cell_type": "code",
   "execution_count": 2,
   "id": "026f4290",
   "metadata": {},
   "outputs": [],
   "source": [
    "import time\n",
    "import sys\n",
    "from utils2 import *\n",
    "sys.path.append('../src')\n",
    "from config import *"
   ]
  },
  {
   "cell_type": "code",
   "execution_count": null,
   "id": "8cc7851a",
   "metadata": {},
   "outputs": [
    {
     "data": {
      "text/html": [
       "\n",
       "            <style>\n",
       "                .geemap-dark {\n",
       "                    --jp-widgets-color: white;\n",
       "                    --jp-widgets-label-color: white;\n",
       "                    --jp-ui-font-color1: white;\n",
       "                    --jp-layout-color2: #454545;\n",
       "                    background-color: #383838;\n",
       "                }\n",
       "\n",
       "                .geemap-dark .jupyter-button {\n",
       "                    --jp-layout-color3: #383838;\n",
       "                }\n",
       "\n",
       "                .geemap-colab {\n",
       "                    background-color: var(--colab-primary-surface-color, white);\n",
       "                }\n",
       "\n",
       "                .geemap-colab .jupyter-button {\n",
       "                    --jp-layout-color3: var(--colab-primary-surface-color, white);\n",
       "                }\n",
       "            </style>\n",
       "            "
      ],
      "text/plain": [
       "<IPython.core.display.HTML object>"
      ]
     },
     "metadata": {},
     "output_type": "display_data"
    },
    {
     "ename": "AttributeError",
     "evalue": "'ImageCollection' object has no attribute 'mask_modis_clouds'",
     "output_type": "error",
     "traceback": [
      "\u001b[0;31m---------------------------------------------------------------------------\u001b[0m",
      "\u001b[0;31mAttributeError\u001b[0m                            Traceback (most recent call last)",
      "Cell \u001b[0;32mIn[4], line 9\u001b[0m\n\u001b[1;32m      5\u001b[0m water_masked_geom \u001b[38;5;241m=\u001b[39m nd\u001b[38;5;241m.\u001b[39mmask_water(buffered_geom)\n\u001b[1;32m      6\u001b[0m col \u001b[38;5;241m=\u001b[39m (ee\u001b[38;5;241m.\u001b[39mImageCollection(\u001b[38;5;124m'\u001b[39m\u001b[38;5;124mMODIS/061/MOD09A1\u001b[39m\u001b[38;5;124m'\u001b[39m)\n\u001b[1;32m      7\u001b[0m                \u001b[38;5;241m.\u001b[39mfilterDate(\u001b[38;5;124m'\u001b[39m\u001b[38;5;124m2001-01-01\u001b[39m\u001b[38;5;124m'\u001b[39m, \u001b[38;5;124m'\u001b[39m\u001b[38;5;124m2010-12-31\u001b[39m\u001b[38;5;124m'\u001b[39m)\u001b[38;5;241m.\u001b[39mfilterBounds(water_masked_geom))\n\u001b[0;32m----> 9\u001b[0m col1 \u001b[38;5;241m=\u001b[39m \u001b[38;5;28mmap\u001b[39m(\u001b[43mcol\u001b[49m\u001b[38;5;241;43m.\u001b[39;49m\u001b[43mmask_modis_clouds\u001b[49m)\n\u001b[1;32m     11\u001b[0m monthly \u001b[38;5;241m=\u001b[39m nd\u001b[38;5;241m.\u001b[39mmonthly_median(modis_col)\n\u001b[1;32m     12\u001b[0m monthly \u001b[38;5;241m=\u001b[39m nd\u001b[38;5;241m.\u001b[39mrolling_median(monthly, window\u001b[38;5;241m=\u001b[39m\u001b[38;5;241m3\u001b[39m)\n",
      "\u001b[0;31mAttributeError\u001b[0m: 'ImageCollection' object has no attribute 'mask_modis_clouds'"
     ]
    }
   ],
   "source": [
    "nd = NDVIPipeline()\n",
    "\n",
    "polygon = load_protected_area('916').geometry()\n",
    "buffered_geom = nd.buffer_polygon(polygon, 10000)\n",
    "water_masked_geom = nd.mask_water(buffered_geom)\n",
    "col = (ee.ImageCollection('MODIS/061/MOD09A1')\n",
    "               .filterDate('2001-01-01', '2010-12-31').filterBounds(water_masked_geom))\n",
    "\n",
    "col1 = map(col.np.mask_modis_clouds)\n",
    "\n",
    "monthly = nd.monthly_median(modis_col)\n",
    "monthly = nd.rolling_median(monthly, window=3)\n",
    "annual = nd.annual_median(monthly)\n",
    "       # harmonic_results = None\n",
    "       # if apply_harmonic:\n",
    "       #     harmonic_results = self.harmonic_modeling(monthly)\n",
    "\n",
    "        # 9. Extract NDVI time series for water-masked buffered polygon\n",
    "ndvi_ts = nd.extract_time_series(annual, water_masked_geom)\n",
    "\n",
    "ndvi_ts"
   ]
  },
  {
   "cell_type": "code",
   "execution_count": null,
   "id": "bf2094c4",
   "metadata": {},
   "outputs": [],
   "source": [
    "# ========== Example usage ===========\n",
    "\n",
    "# Load a single polygon geometry (example)\n",
    "# Replace this with your actual polygon feature or geometry\n",
    "\n",
    "start = time.time()\n",
    "\n",
    "polygon = load_protected_area('916').geometry()\n",
    "pipeline = NDVIPipeline()\n",
    "result = pipeline.run_pipeline(polygon, buffer_distance=10000,\n",
    "                               apply_smoothing=True, apply_harmonic=False)\n",
    "\n",
    "print(\"Biome:\", result['biome'])\n",
    "print(result['ndvi_timeseries'])\n",
    "\n",
    "end = time.time()\n",
    "print(f\"Total elapsed time: {end - start:.2f} seconds\")\n",
    "# You can now export, plot, or analyze result['ndvi_timeseries']\n"
   ]
  },
  {
   "cell_type": "code",
   "execution_count": null,
   "id": "a65a31ff",
   "metadata": {},
   "outputs": [],
   "source": [
    "import pandas as pd\n",
    "\n",
    "# Example time series DataFrame\n",
    "# Index is a datetime or a column named 'year'\n",
    "df = pd.DataFrame({\n",
    "    'year': range(1980, 2021),\n",
    "    'value': [i + (i % 5) for i in range(1980, 2021)]  # sample values\n",
    "})\n",
    "df = df.set_index('year')\n"
   ]
  },
  {
   "cell_type": "code",
   "execution_count": null,
   "id": "355fb4ec",
   "metadata": {},
   "outputs": [],
   "source": [
    "def rolling_mean(df, column='value', window=10):\n",
    "    \"\"\"\n",
    "    Computes rolling mean over a specified window.\n",
    "    \n",
    "    Args:\n",
    "        df (pd.DataFrame): Time series DataFrame with index as year or datetime.\n",
    "        column (str): Column to compute the rolling mean on.\n",
    "        window (int): Rolling window size in years.\n",
    "    \n",
    "    Returns:\n",
    "        pd.Series: Rolling mean.\n",
    "    \"\"\"\n",
    "    return df[column].rolling(window=window, min_periods=1).mean()\n"
   ]
  },
  {
   "cell_type": "code",
   "execution_count": null,
   "id": "d34d742f",
   "metadata": {},
   "outputs": [],
   "source": [
    "def rolling_std_mean(df, column='value', window=10):\n",
    "    \"\"\"\n",
    "    Computes rolling mean of the standard deviation over a specified window.\n",
    "    \n",
    "    Args:\n",
    "        df (pd.DataFrame): Time series DataFrame with index as year or datetime.\n",
    "        column (str): Column to compute the rolling std on.\n",
    "        window (int): Rolling window size in years.\n",
    "    \n",
    "    Returns:\n",
    "        pd.Series: Rolling mean of standard deviation.\n",
    "    \"\"\"\n",
    "    return df[column].rolling(window=window, min_periods=1).std().rolling(window=window, min_periods=1).mean()\n"
   ]
  }
 ],
 "metadata": {
  "kernelspec": {
   "display_name": "Python 3",
   "language": "python",
   "name": "python3"
  },
  "language_info": {
   "codemirror_mode": {
    "name": "ipython",
    "version": 3
   },
   "file_extension": ".py",
   "mimetype": "text/x-python",
   "name": "python",
   "nbconvert_exporter": "python",
   "pygments_lexer": "ipython3",
   "version": "3.10.12"
  }
 },
 "nbformat": 4,
 "nbformat_minor": 5
}
