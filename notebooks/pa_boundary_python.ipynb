{
 "cells": [
  {
   "cell_type": "markdown",
   "id": "35d0a6c0",
   "metadata": {},
   "source": [
    "# Protected Area Boundary Change\n",
    "\n",
    "This notebook outlines the methodology used to measure at protected area boundaries via GEE. \n",
    "\n",
    "The notebook queries MODIS imagery and returns the gradient values of relevant bands as well as the vegetation indices NDVI and EVI. This code expects an annual time span and returns a geoTIFF for each band in each park for that year."
   ]
  },
  {
   "cell_type": "code",
   "execution_count": 1,
   "id": "e9def359",
   "metadata": {},
   "outputs": [],
   "source": [
    "import sys\n",
    "sys.path.append('../src')\n",
    "from utils import *\n",
    "from config import *\n",
    "import pandas as pd\n",
    "from datetime import datetime"
   ]
  },
  {
   "cell_type": "code",
   "execution_count": 2,
   "id": "444f8a37",
   "metadata": {},
   "outputs": [
    {
     "data": {
      "text/html": [
       "\n",
       "            <style>\n",
       "                .geemap-dark {\n",
       "                    --jp-widgets-color: white;\n",
       "                    --jp-widgets-label-color: white;\n",
       "                    --jp-ui-font-color1: white;\n",
       "                    --jp-layout-color2: #454545;\n",
       "                    background-color: #383838;\n",
       "                }\n",
       "\n",
       "                .geemap-dark .jupyter-button {\n",
       "                    --jp-layout-color3: #383838;\n",
       "                }\n",
       "\n",
       "                .geemap-colab {\n",
       "                    background-color: var(--colab-primary-surface-color, white);\n",
       "                }\n",
       "\n",
       "                .geemap-colab .jupyter-button {\n",
       "                    --jp-layout-color3: var(--colab-primary-surface-color, white);\n",
       "                }\n",
       "            </style>\n",
       "            "
      ],
      "text/plain": [
       "<IPython.core.display.HTML object>"
      ]
     },
     "metadata": {},
     "output_type": "display_data"
    },
    {
     "name": "stdout",
     "output_type": "stream",
     "text": [
      "Hello from the Earth Engine servers!\n"
     ]
    }
   ],
   "source": [
    "import ee\n",
    "ee.Authenticate()\n",
    "ee.Initialize(project='dse-staff')\n",
    "print(ee.String('Hello from the Earth Engine servers!').getInfo())"
   ]
  },
  {
   "cell_type": "markdown",
   "id": "b27dcb55",
   "metadata": {},
   "source": [
    "## Class Definitions"
   ]
  },
  {
   "cell_type": "code",
   "execution_count": null,
   "id": "7c2c945c",
   "metadata": {},
   "outputs": [
    {
     "data": {
      "text/html": [
       "\n",
       "            <style>\n",
       "                .geemap-dark {\n",
       "                    --jp-widgets-color: white;\n",
       "                    --jp-widgets-label-color: white;\n",
       "                    --jp-ui-font-color1: white;\n",
       "                    --jp-layout-color2: #454545;\n",
       "                    background-color: #383838;\n",
       "                }\n",
       "\n",
       "                .geemap-dark .jupyter-button {\n",
       "                    --jp-layout-color3: #383838;\n",
       "                }\n",
       "\n",
       "                .geemap-colab {\n",
       "                    background-color: var(--colab-primary-surface-color, white);\n",
       "                }\n",
       "\n",
       "                .geemap-colab .jupyter-button {\n",
       "                    --jp-layout-color3: var(--colab-primary-surface-color, white);\n",
       "                }\n",
       "            </style>\n",
       "            "
      ],
      "text/plain": [
       "<IPython.core.display.HTML object>"
      ]
     },
     "metadata": {},
     "output_type": "display_data"
    }
   ],
   "source": [
    "def main(wdpaid, year): #, show_map=False, band_name=None):\n",
    "    \"\"\"Main function to process protected area boundary analysis\"\"\"\n",
    "    # Initialize classes\n",
    "    geo_ops = GeometryOperations()\n",
    "    img_ops = ImageOperations()\n",
    "    stats_ops = StatsOperations()\n",
    "    #viz = Visualization()\n",
    "    feature_processor = FeatureProcessor(geo_ops, img_ops, stats_ops)\n",
    "    #exporter = ExportResults()\n",
    "\n",
    "    # Load and process protected area geometry\n",
    "    pa = load_local_data(wdpaid)\n",
    "    pa_geometry = pa.geometry()\n",
    "    aoi = geo_ops.buffer_polygon(pa_geometry)\n",
    "    aoi = geo_ops.mask_water(aoi)\n",
    "    aoi_with_biome = geo_ops.get_biome(aoi)\n",
    "\n",
    "    # Process imagery and add indices\n",
    "    modis_ic = img_ops.modis.filter(img_ops.filter_for_year(aoi, year))\n",
    "    band_names = modis_ic.first().bandNames()\n",
    "    composite = modis_ic.reduce(ee.Reducer.median()).rename(band_names).clip(aoi)\n",
    "    image = img_ops.add_indices_to_image(composite)\n",
    "\n",
    "    # Process features and collect statistics\n",
    "    feature_info = feature_processor.collect_feature_info(pa, aoi_with_biome)\n",
    "    #computed_stats = feature_processor.process_all_bands(image, pa_geometry, aoi)\n",
    "    #all_stats = feature_processor.compile_statistics(feature_info, computed_stats, year)\n",
    "    \n",
    "    # Save results\n",
    "    #df = pd.DataFrame(all_stats)\n",
    "    #exporter.save_df_to_gcs(df, 'dse-staff', wdpaid, year)\n",
    "\n",
    "    # Visualization\n",
    "    #if show_map:\n",
    "    #    band_stats = next(cs for cs in computed_stats if cs[\"band_name\"] == band_name)\n",
    "    #    Map = viz.create_map(pa_geometry, band_stats['buffer_pixels'], band_stats['boundary_pixels'])\n",
    "    #    return Map\n",
    "    #return print(\"Analysis complete for WDPA ID:\", wdpaid, \"for the year:\", year)\n",
    "\n",
    "    # ... previous code ...\n",
    "    feature_info = feature_processor.collect_feature_info(pa, aoi_with_biome)\n",
    "    features = feature_processor.process_all_bands_ee(image, pa_geometry, aoi, feature_info, year)\n",
    "    stats_fc = ee.FeatureCollection(features)\n",
    "\n",
    "    task = ee.batch.Export.table.toCloudStorage(\n",
    "        collection=stats_fc,\n",
    "        description=f'gradient_stats_export_{wdpaid}_{year}',\n",
    "        bucket='dse-staff',\n",
    "        fileNamePrefix=f'protected_areas/tables/gradient_stats_{wdpaid}_{year}',\n",
    "        fileFormat='CSV'\n",
    "    )\n",
    "    task.start()\n",
    "    print(f\"Export task started for {wdpaid}, {year}\")\n",
    "\n",
    "    # Export each band as an image\n",
    "    for band_name in image.bandNames().getInfo():\n",
    "        band_image = image.select(band_name).clip(aoi)\n",
    "        img_task = ee.batch.Export.image.toCloudStorage(\n",
    "            image=band_image,\n",
    "            description=f'{band_name}_export_{wdpaid}_{year}',\n",
    "            bucket='dse-staff',\n",
    "            fileNamePrefix=f'protected_areas/images/{band_name}_{wdpaid}_{year}',\n",
    "            fileFormat='GeoTIFF',\n",
    "            scale=500,\n",
    "            maxPixels=1e10\n",
    "        )\n",
    "        img_task.start()\n",
    "        print(f\"Export image task started for {band_name}, {wdpaid}, {year}\")"
   ]
  },
  {
   "cell_type": "code",
   "execution_count": 4,
   "id": "a13805cb",
   "metadata": {},
   "outputs": [
    {
     "data": {
      "text/html": [
       "\n",
       "            <style>\n",
       "                .geemap-dark {\n",
       "                    --jp-widgets-color: white;\n",
       "                    --jp-widgets-label-color: white;\n",
       "                    --jp-ui-font-color1: white;\n",
       "                    --jp-layout-color2: #454545;\n",
       "                    background-color: #383838;\n",
       "                }\n",
       "\n",
       "                .geemap-dark .jupyter-button {\n",
       "                    --jp-layout-color3: #383838;\n",
       "                }\n",
       "\n",
       "                .geemap-colab {\n",
       "                    background-color: var(--colab-primary-surface-color, white);\n",
       "                }\n",
       "\n",
       "                .geemap-colab .jupyter-button {\n",
       "                    --jp-layout-color3: var(--colab-primary-surface-color, white);\n",
       "                }\n",
       "            </style>\n",
       "            "
      ],
      "text/plain": [
       "<IPython.core.display.HTML object>"
      ]
     },
     "metadata": {},
     "output_type": "display_data"
    },
    {
     "name": "stderr",
     "output_type": "stream",
     "text": [
      "/usr/local/lib/python3.10/dist-packages/ee/deprecation.py:207: DeprecationWarning: \n",
      "\n",
      "Attention required for JRC/GSW1_0/GlobalSurfaceWater! You are using a deprecated asset.\n",
      "To make sure your code keeps working, please update it.\n",
      "Learn more: https://developers.google.com/earth-engine/datasets/catalog/JRC_GSW1_0_GlobalSurfaceWater\n",
      "\n",
      "  warnings.warn(warning, category=DeprecationWarning)\n",
      "/usr/local/lib/python3.10/dist-packages/ee/deprecation.py:207: DeprecationWarning: \n",
      "\n",
      "Attention required for MODIS/006/MOD09A1! You are using a deprecated asset.\n",
      "To make sure your code keeps working, please update it.\n",
      "Learn more: https://developers.google.com/earth-engine/datasets/catalog/MODIS_006_MOD09A1\n",
      "\n",
      "  warnings.warn(warning, category=DeprecationWarning)\n"
     ]
    },
    {
     "name": "stdout",
     "output_type": "stream",
     "text": [
      "Export task started for 916, 2010\n",
      "Export image task started for sur_refl_b01, 916, 2010\n",
      "Export image task started for sur_refl_b02, 916, 2010\n",
      "Export image task started for sur_refl_b03, 916, 2010\n",
      "Export image task started for sur_refl_b04, 916, 2010\n",
      "Export image task started for sur_refl_b05, 916, 2010\n",
      "Export image task started for sur_refl_b06, 916, 2010\n",
      "Export image task started for sur_refl_b07, 916, 2010\n",
      "Export image task started for QA, 916, 2010\n",
      "Export image task started for SolarZenith, 916, 2010\n",
      "Export image task started for ViewZenith, 916, 2010\n",
      "Export image task started for RelativeAzimuth, 916, 2010\n",
      "Export image task started for StateQA, 916, 2010\n",
      "Export image task started for DayOfYear, 916, 2010\n",
      "Export image task started for EVI, 916, 2010\n",
      "Export image task started for NDVI, 916, 2010\n"
     ]
    }
   ],
   "source": [
    "main(\"916\", 2010) #, show_map=True, band_name=\"EVI\")"
   ]
  }
 ],
 "metadata": {
  "kernelspec": {
   "display_name": "Python 3",
   "language": "python",
   "name": "python3"
  },
  "language_info": {
   "codemirror_mode": {
    "name": "ipython",
    "version": 3
   },
   "file_extension": ".py",
   "mimetype": "text/x-python",
   "name": "python",
   "nbconvert_exporter": "python",
   "pygments_lexer": "ipython3",
   "version": "3.10.12"
  }
 },
 "nbformat": 4,
 "nbformat_minor": 5
}
