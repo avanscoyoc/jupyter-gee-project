{
 "cells": [
  {
   "cell_type": "markdown",
   "id": "35d0a6c0",
   "metadata": {},
   "source": [
    "# Protected Area Boundary Change\n",
    "\n",
    "This notebook outlines the methodology used to measure at protected area boundaries via GEE. \n",
    "\n",
    "The notebook queries MODIS imagery and returns the gradient values of relevant bands as well as the vegetation indices NDVI and EVI. This code expects an annual time span and returns a geoTIFF for each band in each park for that year."
   ]
  },
  {
   "cell_type": "code",
   "execution_count": null,
   "id": "e9def359",
   "metadata": {},
   "outputs": [],
   "source": [
    "import ee\n",
    "import geemap\n",
    "import numpy as np\n",
    "import pandas as pd"
   ]
  },
  {
   "cell_type": "code",
   "execution_count": null,
   "id": "5587846f",
   "metadata": {},
   "outputs": [],
   "source": [
    "service_account_key = 'service_account_key.json'\n",
    "credentials = ee.ServiceAccountCredentials('avanscoyoc@berkeley.edu', service_account_key)\n",
    "ee.Initialize(credentials)\n",
    "\n",
    "print(ee.String('Hello from the Earth Engine servers!').getInfo())"
   ]
  },
  {
   "cell_type": "markdown",
   "id": "d512792a",
   "metadata": {},
   "source": [
    "### Load dataset"
   ]
  },
  {
   "cell_type": "code",
   "execution_count": null,
   "id": "fc4c64d7",
   "metadata": {},
   "outputs": [],
   "source": [
    "# Load protected areas dataset\n",
    "protected_areas = ee.FeatureCollection(\"WCMC/WDPA/202106/polygons\")\n",
    "\n",
    "# Define filters\n",
    "marine_filter = ee.Filter.eq(\"MARINE\", \"0\")\n",
    "not_mpa_filter = ee.Filter.neq(\"DESIG_ENG\", \"Marine Protected Area\")\n",
    "status_filter = ee.Filter.inList(\"STATUS\", [\"Designated\", \"Established\", \"Inscribed\"])\n",
    "designation_filter = ee.Filter.neq(\"DESIG_ENG\", \"UNESCO-MAB Biosphere Reserve\")\n",
    "excluded_pids = [\"555655917\", \"555656005\", \"555656013\", \"555665477\", \"555656021\",\n",
    "                 \"555665485\", \"555556142\", \"187\", \"555703455\", \"555563456\", \"15894\"]\n",
    "area_filter = ee.Filter.gte(\"GIS_AREA\", 200)\n",
    "\n",
    "# Filter to exclude specific WDPA_PID values\n",
    "pids_filter = ee.Filter.inList(\"WDPA_PID\", excluded_pids).Not()\n",
    "\n",
    "# Combine all filters\n",
    "combined_filter = ee.Filter.And(\n",
    "    marine_filter,\n",
    "    not_mpa_filter,\n",
    "    status_filter,\n",
    "    designation_filter,\n",
    "    pids_filter,\n",
    "    area_filter\n",
    ")\n",
    "\n",
    "# Apply filters\n",
    "data = protected_areas.filter(combined_filter)\n",
    "\n",
    "# Get WDPA_PIDs\n",
    "wdpa_pids = data.aggregate_array(\"WDPA_PID\").getInfo()\n",
    "print(f\"Number of protected areas: {len(wdpa_pids)}\")"
   ]
  },
  {
   "cell_type": "markdown",
   "id": "70a3009e",
   "metadata": {},
   "source": [
    "### Set global constants"
   ]
  },
  {
   "cell_type": "code",
   "execution_count": null,
   "id": "841ffd87",
   "metadata": {},
   "outputs": [],
   "source": [
    "PROTECTED_AREAS = data\n",
    "WATER_MASK = ee.Image('JRC/GSW1_0/GlobalSurfaceWater')\n",
    "MODIS = ee.ImageCollection('MODIS/006/MOD09A1')\n",
    "BUFFER = 10000\n",
    "MAX_ERR = 1\n",
    "YEAR = 2010"
   ]
  },
  {
   "cell_type": "markdown",
   "id": "93bb3842",
   "metadata": {},
   "source": [
    "### Define functions"
   ]
  },
  {
   "cell_type": "code",
   "execution_count": null,
   "id": "538b231c",
   "metadata": {},
   "outputs": [],
   "source": [
    "def buffer_polygon(feat, buff, err):\n",
    "    \"\"\"Create buffer around polygon\"\"\"\n",
    "    feat = ee.Feature(feat)\n",
    "    out = feat.buffer(buff).geometry()  # 10km out\n",
    "    inn = feat.buffer(-buff).geometry()  # 10km in\n",
    "    aoi = out.difference(inn, err)\n",
    "    return aoi\n",
    "\n",
    "def mask_water(feat):\n",
    "    \"\"\"Mask water bodies from feature\"\"\"\n",
    "    water_no_holes = WATER_MASK.select('max_extent')\\\n",
    "        .focalMax(radius=30, units='meters', kernelType='square')\\\n",
    "        .focalMin(radius=30, units='meters', kernelType='square')\n",
    "    water_vect = water_no_holes.reduceToVectors(\n",
    "        reducer=ee.Reducer.countEvery(),\n",
    "        geometry=feat.buffer(1000),\n",
    "        scale=30,\n",
    "        maxPixels=1e10,\n",
    "        geometryType='polygon',\n",
    "        eightConnected=False)\n",
    "    geom = feat.difference(water_vect.geometry(), maxError=1)\n",
    "    return geom\n",
    "\n",
    "def filter_for_year(feat, year):\n",
    "    \"\"\"Filter images for specific year\"\"\"\n",
    "    start = ee.Date.fromYMD(year, 1, 1)\n",
    "    return ee.Filter.And(\n",
    "        ee.Filter.bounds(feat),\n",
    "        ee.Filter.date(start, start.advance(1, \"year\"))\n",
    "    )\n",
    "\n",
    "def add_indices_to_image(image):\n",
    "    \"\"\"Add vegetation indices to image\"\"\"\n",
    "    EVI = image.expression(\n",
    "        \"2.5 * ((NIR - RED) / (NIR + 6 * RED - 7.5 * BLUE + 1))\",\n",
    "        {\n",
    "            'NIR': image.select(\"sur_refl_b02\"),\n",
    "            'RED': image.select(\"sur_refl_b01\"),\n",
    "            'BLUE': image.select(\"sur_refl_b03\")\n",
    "        }\n",
    "    ).rename(\"EVI\")\n",
    "    \n",
    "    NDVI = image.expression(\n",
    "        \"(NIR - RED) / (NIR + RED)\",\n",
    "        {\n",
    "            'NIR': image.select(\"sur_refl_b02\"),\n",
    "            'RED': image.select(\"sur_refl_b01\")\n",
    "        }\n",
    "    ).rename(\"NDVI\")\n",
    "    \n",
    "    return image.addBands([EVI, NDVI])\n",
    "\n",
    "def get_gradient_magnitude(image):\n",
    "    \"\"\"Calculate gradient magnitude\"\"\"\n",
    "    gradient = image.gradient()\n",
    "    gradient_x = gradient.select('x')\n",
    "    gradient_y = gradient.select('y')\n",
    "    magnitude = gradient_x.pow(2).add(gradient_y.pow(2)).sqrt()\n",
    "    return magnitude"
   ]
  },
  {
   "cell_type": "code",
   "execution_count": null,
   "id": "47fd99d5",
   "metadata": {},
   "outputs": [],
   "source": [
    "# Define test geometry\n",
    "geometry = ee.Geometry.Polygon([\n",
    "    [\n",
    "        [-119.80738088038615, 38.53793770547406],\n",
    "        [-120.35120412257365, 38.64956590608609],\n",
    "        [-120.86206838038615, 38.51215270703278],\n",
    "        [-120.41162892726115, 38.05942162797243],\n",
    "        [-120.13697072413615, 38.24085287086409],\n",
    "        [-120.05457326319865, 37.98585693208372],\n",
    "        [-119.85681935694865, 38.01182937540273],\n",
    "        [-119.79639455226115, 38.11130517090483],\n",
    "        [-119.71399709132365, 38.119948848017394],\n",
    "        [-119.63709279444865, 38.1674707827119],\n",
    "        [-119.62061330226115, 38.2494811940204],\n",
    "        [-119.65357228663615, 38.32709000484806],\n",
    "        [-119.65906545069865, 38.38739502408541],\n",
    "        [-119.60962697413615, 38.46915718247208],\n",
    "        [-119.69751759913615, 38.49065815171371],\n",
    "        [-119.90076466944865, 38.3012296223024],\n",
    "        [-119.94470998194865, 38.3658632836034],\n",
    "        [-119.97217580226115, 38.41322465329759]\n",
    "    ]\n",
    "])"
   ]
  },
  {
   "cell_type": "code",
   "execution_count": null,
   "id": "37296aea",
   "metadata": {},
   "outputs": [],
   "source": [
    "# Get Serengeti National Park\n",
    "serengeti = data.filter(ee.Filter.eq('ORIG_NAME', 'Serengeti National Park')).first()\n",
    "serengeti_geometry = serengeti.geometry()\n",
    "\n",
    "# Create Map\n",
    "Map = geemap.Map()\n",
    "Map.centerObject(serengeti_geometry, 8)\n",
    "Map.addLayer(serengeti_geometry, {'color': 'red'}, 'Serengeti Geometry')\n",
    "Map"
   ]
  },
  {
   "cell_type": "code",
   "execution_count": null,
   "id": "303d91d5",
   "metadata": {},
   "outputs": [],
   "source": [
    "# Process Serengeti data\n",
    "aoi = buffer_polygon(serengeti_geometry, BUFFER, MAX_ERR)\n",
    "aoi = mask_water(aoi)\n",
    "modis_ic = MODIS.filter(filter_for_year(aoi, YEAR))\n",
    "band_names = modis_ic.first().bandNames()\n",
    "composite = modis_ic.reduce(ee.Reducer.median()).rename(band_names).clip(aoi)\n",
    "image = add_indices_to_image(composite)\n",
    "single_band = image.select(\"sur_refl_b01\")\n",
    "gradient = get_gradient_magnitude(single_band)\n",
    "\n",
    "# Normalize gradient\n",
    "max_val = gradient.reduce(ee.Reducer.max())\n",
    "normalized_gradient = gradient.divide(max_val)"
   ]
  },
  {
   "cell_type": "code",
   "execution_count": null,
   "id": "c6342a3e",
   "metadata": {},
   "outputs": [],
   "source": [
    "# Visualization\n",
    "vis_params = {\n",
    "    'min': -0.5,\n",
    "    'max': 1,\n",
    "    'palette': ['blue', 'white', 'green']\n",
    "}\n",
    "\n",
    "Map.centerObject(aoi, 8)\n",
    "Map.addLayer(single_band, vis_params, \"NDVI Layer\")\n",
    "Map"
   ]
  },
  {
   "cell_type": "code",
   "execution_count": null,
   "id": "d6daafae",
   "metadata": {},
   "outputs": [],
   "source": [
    "# Edge detection visualization\n",
    "threshold_value = 0.1\n",
    "edges = gradient.gt(threshold_value)\n",
    "\n",
    "# Apply Gaussian blur\n",
    "smoothed_gradient = gradient.focal_mean(radius=3, kernelType=\"circle\", units=\"pixels\")\n",
    "\n",
    "# Visualize edges\n",
    "vis_params = {\n",
    "    'min': 0,\n",
    "    'max': 1,\n",
    "    'palette': ['blue', 'white', 'red']\n",
    "}\n",
    "\n",
    "Map = geemap.Map()\n",
    "Map.centerObject(aoi, 10)\n",
    "Map.addLayer(gradient, vis_params)\n",
    "Map"
   ]
  },
  {
   "cell_type": "code",
   "execution_count": null,
   "id": "426843dd",
   "metadata": {},
   "outputs": [],
   "source": [
    "# Export task\n",
    "task = ee.batch.Export.image.toDrive(\n",
    "    image=edges,\n",
    "    description='Canny_Edges',\n",
    "    folder='earth_engine_outputs',\n",
    "    scale=30,\n",
    "    region=aoi\n",
    ")\n",
    "task.start()"
   ]
  }
 ],
 "metadata": {
  "kernelspec": {
   "display_name": "Python 3",
   "language": "python",
   "name": "python3"
  },
  "language_info": {
   "codemirror_mode": {
    "name": "ipython",
    "version": 3
   },
   "file_extension": ".py",
   "mimetype": "text/x-python",
   "name": "python",
   "nbconvert_exporter": "python",
   "pygments_lexer": "ipython3",
   "version": "3.9.22"
  }
 },
 "nbformat": 4,
 "nbformat_minor": 5
}
