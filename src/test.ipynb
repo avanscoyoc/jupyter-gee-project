{
 "cells": [
  {
   "cell_type": "code",
   "execution_count": 1,
   "id": "012ec7cb",
   "metadata": {},
   "outputs": [],
   "source": [
    "from utils import *\n",
    "from config import *\n",
    "import pandas as pd\n",
    "from datetime import datetime"
   ]
  },
  {
   "cell_type": "code",
   "execution_count": 2,
   "id": "4c736ff2",
   "metadata": {},
   "outputs": [
    {
     "data": {
      "text/html": [
       "\n",
       "            <style>\n",
       "                .geemap-dark {\n",
       "                    --jp-widgets-color: white;\n",
       "                    --jp-widgets-label-color: white;\n",
       "                    --jp-ui-font-color1: white;\n",
       "                    --jp-layout-color2: #454545;\n",
       "                    background-color: #383838;\n",
       "                }\n",
       "\n",
       "                .geemap-dark .jupyter-button {\n",
       "                    --jp-layout-color3: #383838;\n",
       "                }\n",
       "\n",
       "                .geemap-colab {\n",
       "                    background-color: var(--colab-primary-surface-color, white);\n",
       "                }\n",
       "\n",
       "                .geemap-colab .jupyter-button {\n",
       "                    --jp-layout-color3: var(--colab-primary-surface-color, white);\n",
       "                }\n",
       "            </style>\n",
       "            "
      ],
      "text/plain": [
       "<IPython.core.display.HTML object>"
      ]
     },
     "metadata": {},
     "output_type": "display_data"
    },
    {
     "name": "stdout",
     "output_type": "stream",
     "text": [
      "Hello from the Earth Engine servers!\n"
     ]
    }
   ],
   "source": [
    "import ee\n",
    "ee.Authenticate()\n",
    "ee.Initialize(project='dse-staff')\n",
    "print(ee.String('Hello from the Earth Engine servers!').getInfo())"
   ]
  },
  {
   "cell_type": "code",
   "execution_count": 3,
   "id": "ececed77",
   "metadata": {},
   "outputs": [
    {
     "data": {
      "text/html": [
       "\n",
       "            <style>\n",
       "                .geemap-dark {\n",
       "                    --jp-widgets-color: white;\n",
       "                    --jp-widgets-label-color: white;\n",
       "                    --jp-ui-font-color1: white;\n",
       "                    --jp-layout-color2: #454545;\n",
       "                    background-color: #383838;\n",
       "                }\n",
       "\n",
       "                .geemap-dark .jupyter-button {\n",
       "                    --jp-layout-color3: #383838;\n",
       "                }\n",
       "\n",
       "                .geemap-colab {\n",
       "                    background-color: var(--colab-primary-surface-color, white);\n",
       "                }\n",
       "\n",
       "                .geemap-colab .jupyter-button {\n",
       "                    --jp-layout-color3: var(--colab-primary-surface-color, white);\n",
       "                }\n",
       "            </style>\n",
       "            "
      ],
      "text/plain": [
       "<IPython.core.display.HTML object>"
      ]
     },
     "metadata": {},
     "output_type": "display_data"
    }
   ],
   "source": [
    "shp_path = '../data/global_wdpa_June2021/Global_wdpa_wInfo_June2021.shp'\n",
    "gdf = gpd.read_file(shp_path)"
   ]
  },
  {
   "cell_type": "code",
   "execution_count": 10,
   "id": "d807ba2d",
   "metadata": {},
   "outputs": [
    {
     "data": {
      "text/html": [
       "\n",
       "            <style>\n",
       "                .geemap-dark {\n",
       "                    --jp-widgets-color: white;\n",
       "                    --jp-widgets-label-color: white;\n",
       "                    --jp-ui-font-color1: white;\n",
       "                    --jp-layout-color2: #454545;\n",
       "                    background-color: #383838;\n",
       "                }\n",
       "\n",
       "                .geemap-dark .jupyter-button {\n",
       "                    --jp-layout-color3: #383838;\n",
       "                }\n",
       "\n",
       "                .geemap-colab {\n",
       "                    background-color: var(--colab-primary-surface-color, white);\n",
       "                }\n",
       "\n",
       "                .geemap-colab .jupyter-button {\n",
       "                    --jp-layout-color3: var(--colab-primary-surface-color, white);\n",
       "                }\n",
       "            </style>\n",
       "            "
      ],
      "text/plain": [
       "<IPython.core.display.HTML object>"
      ]
     },
     "metadata": {},
     "output_type": "display_data"
    },
    {
     "name": "stdout",
     "output_type": "stream",
     "text": [
      "['3', '6', '7', '8', '10', '11', '12', '15', '16', '20', '24', '30', '31', '33', '35']\n"
     ]
    }
   ],
   "source": [
    "wdpaids = gdf['WDPA_PID'].head(15).tolist()\n",
    "print(wdpaids)"
   ]
  },
  {
   "cell_type": "code",
   "execution_count": null,
   "id": "4146b932",
   "metadata": {},
   "outputs": [],
   "source": [
    "geo_ops = GeometryOperations()\n",
    "img_ops = ImageOperations()\n",
    "stats_ops = StatsOperations()\n",
    "viz = Visualization()\n",
    "feature_processor = FeatureProcessor(geo_ops, img_ops, stats_ops)\n",
    "exporter = ExportResults()"
   ]
  },
  {
   "cell_type": "code",
   "execution_count": null,
   "id": "4806f6d4",
   "metadata": {},
   "outputs": [],
   "source": [
    "pa = load_local_data('916')\n",
    "pa_geometry = pa.geometry()\n",
    "aoi1 = geo_ops.buffer_polygon(pa_geometry, 10000)\n",
    "aoi1 = geo_ops.mask_water(aoi1)\n",
    "aoi2 = geo_ops.buffer_polygon(pa_geometry, 1000)"
   ]
  },
  {
   "cell_type": "code",
   "execution_count": null,
   "id": "6bbdbe46",
   "metadata": {},
   "outputs": [],
   "source": [
    "# Process imagery and add indices\n",
    "modis_ic = img_ops.modis.filter(img_ops.filter_for_year(aoi1, 2010))\n",
    "band_names = modis_ic.first().bandNames()\n",
    "composite = modis_ic.reduce(ee.Reducer.median()).rename(band_names).clip(aoi1)\n",
    "image = img_ops.add_indices_to_image(composite)"
   ]
  },
  {
   "cell_type": "code",
   "execution_count": null,
   "id": "e4876d73",
   "metadata": {},
   "outputs": [],
   "source": [
    "single_band = image.select('EVI')\n",
    "gradient = img_ops.get_gradient_magnitude(single_band)"
   ]
  },
  {
   "cell_type": "code",
   "execution_count": null,
   "id": "b8a954ad",
   "metadata": {},
   "outputs": [],
   "source": [
    "boundary_pixels = gradient.clip(aoi2)"
   ]
  },
  {
   "cell_type": "code",
   "execution_count": null,
   "id": "f7047df2",
   "metadata": {},
   "outputs": [],
   "source": [
    "buffer_ct = gradient.reduceRegion(\n",
    "            reducer=ee.Reducer.count(),\n",
    "            geometry=aoi1,\n",
    "            scale=500,\n",
    "            maxPixels=1e10)\n",
    "\n",
    "boundary_ct = boundary_pixels.reduceRegion(\n",
    "            reducer=ee.Reducer.count(),\n",
    "            geometry=boundary_pixels.geometry(),\n",
    "            scale=500,\n",
    "            maxPixels=1e10)\n",
    "\n",
    "print('Buffer pixel count:', buffer_ct.getInfo())\n",
    "print('Boundary pixel count:', boundary_ct.getInfo())   "
   ]
  },
  {
   "cell_type": "code",
   "execution_count": 14,
   "id": "3f1b9f44",
   "metadata": {},
   "outputs": [
    {
     "data": {
      "text/html": [
       "\n",
       "            <style>\n",
       "                .geemap-dark {\n",
       "                    --jp-widgets-color: white;\n",
       "                    --jp-widgets-label-color: white;\n",
       "                    --jp-ui-font-color1: white;\n",
       "                    --jp-layout-color2: #454545;\n",
       "                    background-color: #383838;\n",
       "                }\n",
       "\n",
       "                .geemap-dark .jupyter-button {\n",
       "                    --jp-layout-color3: #383838;\n",
       "                }\n",
       "\n",
       "                .geemap-colab {\n",
       "                    background-color: var(--colab-primary-surface-color, white);\n",
       "                }\n",
       "\n",
       "                .geemap-colab .jupyter-button {\n",
       "                    --jp-layout-color3: var(--colab-primary-surface-color, white);\n",
       "                }\n",
       "            </style>\n",
       "            "
      ],
      "text/plain": [
       "<IPython.core.display.HTML object>"
      ]
     },
     "metadata": {},
     "output_type": "display_data"
    },
    {
     "data": {
      "application/vnd.jupyter.widget-view+json": {
       "model_id": "7596cb90130f4cf4b2f698b2e3838f9d",
       "version_major": 2,
       "version_minor": 0
      },
      "text/plain": [
       "Map(center=[-25.065945094873772, -58.137524103228756], controls=(WidgetControl(options=['position', 'transpare…"
      ]
     },
     "execution_count": 14,
     "metadata": {},
     "output_type": "execute_result"
    }
   ],
   "source": [
    "default_vis_params = {\n",
    "    'min': -0.5,\n",
    "    'max': 1,\n",
    "    'palette': ['black', 'gray','white']\n",
    "}\n",
    "\n",
    "\n",
    "pa = load_local_data('12')\n",
    "Map = geemap.Map()\n",
    "Map.add_basemap('HYBRID')\n",
    "Map.centerObject(pa.geometry(), 8)\n",
    "Map.addLayer(pa.geometry(), {'color': 'red'}, 'Buffer')\n",
    "#Map.addLayer(aoi2, {'color': 'blue'}, 'Boundary')\n",
    "#Map.addLayer(boundary_pixels, {'color': 'Green'}, 'New')\n",
    "Map"
   ]
  }
 ],
 "metadata": {
  "kernelspec": {
   "display_name": "Python 3",
   "language": "python",
   "name": "python3"
  },
  "language_info": {
   "codemirror_mode": {
    "name": "ipython",
    "version": 3
   },
   "file_extension": ".py",
   "mimetype": "text/x-python",
   "name": "python",
   "nbconvert_exporter": "python",
   "pygments_lexer": "ipython3",
   "version": "3.10.12"
  }
 },
 "nbformat": 4,
 "nbformat_minor": 5
}
