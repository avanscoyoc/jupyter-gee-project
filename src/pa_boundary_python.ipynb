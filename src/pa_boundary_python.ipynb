{
 "cells": [
  {
   "cell_type": "markdown",
   "id": "35d0a6c0",
   "metadata": {},
   "source": [
    "# Protected Area Boundary Change\n",
    "\n",
    "This notebook outlines the methodology used to measure at protected area boundaries via GEE. \n",
    "\n",
    "The notebook queries MODIS imagery and returns the gradient values of relevant bands as well as the vegetation indices NDVI and EVI. This code expects an annual time span and returns a geoTIFF for each band in each park for that year."
   ]
  },
  {
   "cell_type": "code",
   "execution_count": 1,
   "id": "e9def359",
   "metadata": {},
   "outputs": [],
   "source": [
    "import ee\n",
    "from utils import *\n",
    "from config import *\n",
    "import pandas as pd\n",
    "from datetime import datetime"
   ]
  },
  {
   "cell_type": "code",
   "execution_count": 2,
   "id": "5587846f",
   "metadata": {},
   "outputs": [
    {
     "data": {
      "text/html": [
       "\n",
       "            <style>\n",
       "                .geemap-dark {\n",
       "                    --jp-widgets-color: white;\n",
       "                    --jp-widgets-label-color: white;\n",
       "                    --jp-ui-font-color1: white;\n",
       "                    --jp-layout-color2: #454545;\n",
       "                    background-color: #383838;\n",
       "                }\n",
       "\n",
       "                .geemap-dark .jupyter-button {\n",
       "                    --jp-layout-color3: #383838;\n",
       "                }\n",
       "\n",
       "                .geemap-colab {\n",
       "                    background-color: var(--colab-primary-surface-color, white);\n",
       "                }\n",
       "\n",
       "                .geemap-colab .jupyter-button {\n",
       "                    --jp-layout-color3: var(--colab-primary-surface-color, white);\n",
       "                }\n",
       "            </style>\n",
       "            "
      ],
      "text/plain": [
       "<IPython.core.display.HTML object>"
      ]
     },
     "metadata": {},
     "output_type": "display_data"
    },
    {
     "name": "stdout",
     "output_type": "stream",
     "text": [
      "Hello from the Earth Engine servers!\n"
     ]
    }
   ],
   "source": [
    "service_account = 'jupyter-gee-project@ee-avs-dse.iam.gserviceaccount.com'\n",
    "key_path = '../service_account_key.json'\n",
    "\n",
    "credentials = ee.ServiceAccountCredentials(service_account, key_path)\n",
    "ee.Initialize(credentials)\n",
    "\n",
    "print(ee.String('Hello from the Earth Engine servers!').getInfo())"
   ]
  },
  {
   "cell_type": "markdown",
   "id": "b27dcb55",
   "metadata": {},
   "source": [
    "## Class Definitions"
   ]
  },
  {
   "cell_type": "code",
   "execution_count": 3,
   "id": "7c2c945c",
   "metadata": {},
   "outputs": [
    {
     "data": {
      "text/html": [
       "\n",
       "            <style>\n",
       "                .geemap-dark {\n",
       "                    --jp-widgets-color: white;\n",
       "                    --jp-widgets-label-color: white;\n",
       "                    --jp-ui-font-color1: white;\n",
       "                    --jp-layout-color2: #454545;\n",
       "                    background-color: #383838;\n",
       "                }\n",
       "\n",
       "                .geemap-dark .jupyter-button {\n",
       "                    --jp-layout-color3: #383838;\n",
       "                }\n",
       "\n",
       "                .geemap-colab {\n",
       "                    background-color: var(--colab-primary-surface-color, white);\n",
       "                }\n",
       "\n",
       "                .geemap-colab .jupyter-button {\n",
       "                    --jp-layout-color3: var(--colab-primary-surface-color, white);\n",
       "                }\n",
       "            </style>\n",
       "            "
      ],
      "text/plain": [
       "<IPython.core.display.HTML object>"
      ]
     },
     "metadata": {},
     "output_type": "display_data"
    }
   ],
   "source": [
    "def main(protected_area_name, year):\n",
    "    \"\"\"Main function to process protected area boundary analysis\"\"\"\n",
    "    # Initialize classes\n",
    "    geo_ops = GeometryOperations()\n",
    "    img_ops = ImageOperations()\n",
    "    stats_ops = StatsOperations()\n",
    "    viz = Visualization()\n",
    "    feature_processor = FeatureProcessor(geo_ops, img_ops, stats_ops)\n",
    "    exporter = ExportResults()\n",
    "\n",
    "    # Load and process protected area geometry\n",
    "    pa = load_local_data(protected_area_name)\n",
    "    pa_geometry = pa.geometry()\n",
    "    aoi = geo_ops.buffer_polygon(pa_geometry)\n",
    "    aoi = geo_ops.mask_water(aoi)\n",
    "    aoi_with_biome = geo_ops.get_biome(aoi)\n",
    "\n",
    "    # Process imagery and add indices\n",
    "    modis_ic = img_ops.modis.filter(img_ops.filter_for_year(aoi, year))\n",
    "    band_names = modis_ic.first().bandNames()\n",
    "    composite = modis_ic.reduce(ee.Reducer.median()).rename(band_names).clip(aoi)\n",
    "    image = img_ops.add_indices_to_image(composite)\n",
    "\n",
    "    # Process features and collect statistics\n",
    "    feature_info = feature_processor.collect_feature_info(pa, aoi_with_biome)\n",
    "    computed_stats = feature_processor.process_all_bands(image, pa_geometry)\n",
    "    all_stats = feature_processor.compile_statistics(feature_info, computed_stats, year)\n",
    "    \n",
    "    # Save results and create visualization\n",
    "    df, _ = exporter.save_statistics_to_csv(all_stats, protected_area_name, year)\n",
    "    first_band_stats = computed_stats[0]  # Use the last processed band for visualization\n",
    "    Map = viz.create_map(pa_geometry, first_band_stats['gradient'], first_band_stats['boundary_pixels'])\n",
    "    \n",
    "    return Map, df"
   ]
  },
  {
   "cell_type": "code",
   "execution_count": 4,
   "id": "a13805cb",
   "metadata": {},
   "outputs": [
    {
     "data": {
      "text/html": [
       "\n",
       "            <style>\n",
       "                .geemap-dark {\n",
       "                    --jp-widgets-color: white;\n",
       "                    --jp-widgets-label-color: white;\n",
       "                    --jp-ui-font-color1: white;\n",
       "                    --jp-layout-color2: #454545;\n",
       "                    background-color: #383838;\n",
       "                }\n",
       "\n",
       "                .geemap-dark .jupyter-button {\n",
       "                    --jp-layout-color3: #383838;\n",
       "                }\n",
       "\n",
       "                .geemap-colab {\n",
       "                    background-color: var(--colab-primary-surface-color, white);\n",
       "                }\n",
       "\n",
       "                .geemap-colab .jupyter-button {\n",
       "                    --jp-layout-color3: var(--colab-primary-surface-color, white);\n",
       "                }\n",
       "            </style>\n",
       "            "
      ],
      "text/plain": [
       "<IPython.core.display.HTML object>"
      ]
     },
     "metadata": {},
     "output_type": "display_data"
    },
    {
     "name": "stderr",
     "output_type": "stream",
     "text": [
      "/usr/local/lib/python3.10/dist-packages/ee/deprecation.py:207: DeprecationWarning: \n",
      "\n",
      "Attention required for JRC/GSW1_0/GlobalSurfaceWater! You are using a deprecated asset.\n",
      "To make sure your code keeps working, please update it.\n",
      "Learn more: https://developers.google.com/earth-engine/datasets/catalog/JRC_GSW1_0_GlobalSurfaceWater\n",
      "\n",
      "  warnings.warn(warning, category=DeprecationWarning)\n",
      "/usr/local/lib/python3.10/dist-packages/ee/deprecation.py:207: DeprecationWarning: \n",
      "\n",
      "Attention required for MODIS/006/MOD09A1! You are using a deprecated asset.\n",
      "To make sure your code keeps working, please update it.\n",
      "Learn more: https://developers.google.com/earth-engine/datasets/catalog/MODIS_006_MOD09A1\n",
      "\n",
      "  warnings.warn(warning, category=DeprecationWarning)\n"
     ]
    },
    {
     "name": "stdout",
     "output_type": "stream",
     "text": [
      "Results saved to results_916_2010_20250612_011259.csv\n"
     ]
    },
    {
     "data": {
      "text/html": [
       "<div>\n",
       "<style scoped>\n",
       "    .dataframe tbody tr th:only-of-type {\n",
       "        vertical-align: middle;\n",
       "    }\n",
       "\n",
       "    .dataframe tbody tr th {\n",
       "        vertical-align: top;\n",
       "    }\n",
       "\n",
       "    .dataframe thead th {\n",
       "        text-align: right;\n",
       "    }\n",
       "</style>\n",
       "<table border=\"1\" class=\"dataframe\">\n",
       "  <thead>\n",
       "    <tr style=\"text-align: right;\">\n",
       "      <th></th>\n",
       "      <th>WDPA_PID</th>\n",
       "      <th>ORIG_NAME</th>\n",
       "      <th>BIOME_NAME</th>\n",
       "      <th>GIS_AREA</th>\n",
       "      <th>band_name</th>\n",
       "      <th>year</th>\n",
       "      <th>boundary_x_mean</th>\n",
       "      <th>boundary_x_stdDev</th>\n",
       "      <th>boundary_x_sum</th>\n",
       "      <th>buffer_x_mean</th>\n",
       "      <th>buffer_x_stdDev</th>\n",
       "      <th>buffer_x_sum</th>\n",
       "    </tr>\n",
       "  </thead>\n",
       "  <tbody>\n",
       "    <tr>\n",
       "      <th>0</th>\n",
       "      <td>916</td>\n",
       "      <td>Serengeti National Park</td>\n",
       "      <td>Tropical &amp; Subtropical Grasslands, Savannas &amp; ...</td>\n",
       "      <td>13123.0503012899</td>\n",
       "      <td>sur_refl_b01</td>\n",
       "      <td>2010</td>\n",
       "      <td>0.090834</td>\n",
       "      <td>0.072125</td>\n",
       "      <td>261.699499</td>\n",
       "      <td>0.090834</td>\n",
       "      <td>0.072125</td>\n",
       "      <td>261.699499</td>\n",
       "    </tr>\n",
       "    <tr>\n",
       "      <th>1</th>\n",
       "      <td>916</td>\n",
       "      <td>Serengeti National Park</td>\n",
       "      <td>Tropical &amp; Subtropical Grasslands, Savannas &amp; ...</td>\n",
       "      <td>13123.0503012899</td>\n",
       "      <td>sur_refl_b02</td>\n",
       "      <td>2010</td>\n",
       "      <td>0.159655</td>\n",
       "      <td>0.113046</td>\n",
       "      <td>459.978873</td>\n",
       "      <td>0.159655</td>\n",
       "      <td>0.113046</td>\n",
       "      <td>459.978873</td>\n",
       "    </tr>\n",
       "    <tr>\n",
       "      <th>2</th>\n",
       "      <td>916</td>\n",
       "      <td>Serengeti National Park</td>\n",
       "      <td>Tropical &amp; Subtropical Grasslands, Savannas &amp; ...</td>\n",
       "      <td>13123.0503012899</td>\n",
       "      <td>sur_refl_b03</td>\n",
       "      <td>2010</td>\n",
       "      <td>0.045173</td>\n",
       "      <td>0.037031</td>\n",
       "      <td>130.148115</td>\n",
       "      <td>0.045173</td>\n",
       "      <td>0.037031</td>\n",
       "      <td>130.148115</td>\n",
       "    </tr>\n",
       "    <tr>\n",
       "      <th>3</th>\n",
       "      <td>916</td>\n",
       "      <td>Serengeti National Park</td>\n",
       "      <td>Tropical &amp; Subtropical Grasslands, Savannas &amp; ...</td>\n",
       "      <td>13123.0503012899</td>\n",
       "      <td>EVI</td>\n",
       "      <td>2010</td>\n",
       "      <td>0.000110</td>\n",
       "      <td>0.000084</td>\n",
       "      <td>0.318072</td>\n",
       "      <td>0.000110</td>\n",
       "      <td>0.000084</td>\n",
       "      <td>0.318072</td>\n",
       "    </tr>\n",
       "    <tr>\n",
       "      <th>4</th>\n",
       "      <td>916</td>\n",
       "      <td>Serengeti National Park</td>\n",
       "      <td>Tropical &amp; Subtropical Grasslands, Savannas &amp; ...</td>\n",
       "      <td>13123.0503012899</td>\n",
       "      <td>NDVI</td>\n",
       "      <td>2010</td>\n",
       "      <td>0.000042</td>\n",
       "      <td>0.000032</td>\n",
       "      <td>0.120636</td>\n",
       "      <td>0.000042</td>\n",
       "      <td>0.000032</td>\n",
       "      <td>0.120636</td>\n",
       "    </tr>\n",
       "  </tbody>\n",
       "</table>\n",
       "</div>"
      ],
      "text/plain": [
       "  WDPA_PID                ORIG_NAME  \\\n",
       "0      916  Serengeti National Park   \n",
       "1      916  Serengeti National Park   \n",
       "2      916  Serengeti National Park   \n",
       "3      916  Serengeti National Park   \n",
       "4      916  Serengeti National Park   \n",
       "\n",
       "                                          BIOME_NAME          GIS_AREA  \\\n",
       "0  Tropical & Subtropical Grasslands, Savannas & ...  13123.0503012899   \n",
       "1  Tropical & Subtropical Grasslands, Savannas & ...  13123.0503012899   \n",
       "2  Tropical & Subtropical Grasslands, Savannas & ...  13123.0503012899   \n",
       "3  Tropical & Subtropical Grasslands, Savannas & ...  13123.0503012899   \n",
       "4  Tropical & Subtropical Grasslands, Savannas & ...  13123.0503012899   \n",
       "\n",
       "      band_name  year  boundary_x_mean  boundary_x_stdDev  boundary_x_sum  \\\n",
       "0  sur_refl_b01  2010         0.090834           0.072125      261.699499   \n",
       "1  sur_refl_b02  2010         0.159655           0.113046      459.978873   \n",
       "2  sur_refl_b03  2010         0.045173           0.037031      130.148115   \n",
       "3           EVI  2010         0.000110           0.000084        0.318072   \n",
       "4          NDVI  2010         0.000042           0.000032        0.120636   \n",
       "\n",
       "   buffer_x_mean  buffer_x_stdDev  buffer_x_sum  \n",
       "0       0.090834         0.072125    261.699499  \n",
       "1       0.159655         0.113046    459.978873  \n",
       "2       0.045173         0.037031    130.148115  \n",
       "3       0.000110         0.000084      0.318072  \n",
       "4       0.000042         0.000032      0.120636  "
      ]
     },
     "metadata": {},
     "output_type": "display_data"
    },
    {
     "data": {
      "application/vnd.jupyter.widget-view+json": {
       "model_id": "7413c80bf6334e0bbb7dbbe197fda033",
       "version_major": 2,
       "version_minor": 0
      },
      "text/plain": [
       "Map(center=[-2.33326594708425, 34.78445454288309], controls=(WidgetControl(options=['position', 'transparent_b…"
      ]
     },
     "execution_count": 4,
     "metadata": {},
     "output_type": "execute_result"
    }
   ],
   "source": [
    "Map, results_df = main(\"916\", 2010)\n",
    "display(results_df.head())\n",
    "Map"
   ]
  },
  {
   "cell_type": "code",
   "execution_count": 5,
   "id": "2c45aeaf",
   "metadata": {},
   "outputs": [
    {
     "data": {
      "text/html": [
       "\n",
       "            <style>\n",
       "                .geemap-dark {\n",
       "                    --jp-widgets-color: white;\n",
       "                    --jp-widgets-label-color: white;\n",
       "                    --jp-ui-font-color1: white;\n",
       "                    --jp-layout-color2: #454545;\n",
       "                    background-color: #383838;\n",
       "                }\n",
       "\n",
       "                .geemap-dark .jupyter-button {\n",
       "                    --jp-layout-color3: #383838;\n",
       "                }\n",
       "\n",
       "                .geemap-colab {\n",
       "                    background-color: var(--colab-primary-surface-color, white);\n",
       "                }\n",
       "\n",
       "                .geemap-colab .jupyter-button {\n",
       "                    --jp-layout-color3: var(--colab-primary-surface-color, white);\n",
       "                }\n",
       "            </style>\n",
       "            "
      ],
      "text/plain": [
       "<IPython.core.display.HTML object>"
      ]
     },
     "metadata": {},
     "output_type": "display_data"
    },
    {
     "name": "stdout",
     "output_type": "stream",
     "text": [
      "1. Successfully loaded protected area\n",
      "2. Created base map\n"
     ]
    },
    {
     "data": {
      "application/vnd.jupyter.widget-view+json": {
       "model_id": "5bfb7c1af6cc4285b9fc72eac9ab9bb9",
       "version_major": 2,
       "version_minor": 0
      },
      "text/plain": [
       "Map(center=[36.46793434725051, -117.13877499999978], controls=(WidgetControl(options=['position', 'transparent…"
      ]
     },
     "metadata": {},
     "output_type": "display_data"
    },
    {
     "name": "stdout",
     "output_type": "stream",
     "text": [
      "3. Map displayed successfully\n"
     ]
    }
   ],
   "source": [
    "try:\n",
    "    # Load and verify geometry\n",
    "    pa = load_local_data(\"367731\")\n",
    "    pa2 = load_protected_area(\"367731\")\n",
    "    print(\"1. Successfully loaded protected area\")\n",
    "    \n",
    "    # Create map with debug prints\n",
    "    import geemap\n",
    "    Map = geemap.Map()\n",
    "    print(\"2. Created base map\")\n",
    "    \n",
    "    # Add basemap and geometry with error checking\n",
    "    try:\n",
    "        Map.add_basemap('HYBRID')\n",
    "        Map.addLayer(\n",
    "            ee.FeatureCollection([pa]), \n",
    "            {'color': 'red', 'fillColor': '#ff000033', 'width': 2},\n",
    "            'Protected Area'\n",
    "        )\n",
    "        Map.addLayer(\n",
    "            ee.FeatureCollection([pa2]), \n",
    "            {'color': 'blue', 'fillColor': '#ff000033', 'width': 2},\n",
    "            'Protected Area2'\n",
    "        )\n",
    "        bounds = pa.geometry().bounds()\n",
    "        Map.centerObject(bounds, zoom=8)\n",
    "        display(Map)\n",
    "        print(\"3. Map displayed successfully\")\n",
    "        \n",
    "    except Exception as e:\n",
    "        print(f\"Map visualization error: {e}\")\n",
    "        \n",
    "except Exception as e:\n",
    "    print(f\"Error: {e}\")\n",
    "    if 'pa' in locals():\n",
    "        print(\"\\nDebug info:\")\n",
    "        print(f\"Feature type: {type(pa)}\")\n",
    "        print(f\"Properties: {pa.propertyNames().getInfo()}\")\n"
   ]
  },
  {
   "cell_type": "code",
   "execution_count": 6,
   "id": "2b82effe",
   "metadata": {},
   "outputs": [
    {
     "data": {
      "text/html": [
       "\n",
       "            <style>\n",
       "                .geemap-dark {\n",
       "                    --jp-widgets-color: white;\n",
       "                    --jp-widgets-label-color: white;\n",
       "                    --jp-ui-font-color1: white;\n",
       "                    --jp-layout-color2: #454545;\n",
       "                    background-color: #383838;\n",
       "                }\n",
       "\n",
       "                .geemap-dark .jupyter-button {\n",
       "                    --jp-layout-color3: #383838;\n",
       "                }\n",
       "\n",
       "                .geemap-colab {\n",
       "                    background-color: var(--colab-primary-surface-color, white);\n",
       "                }\n",
       "\n",
       "                .geemap-colab .jupyter-button {\n",
       "                    --jp-layout-color3: var(--colab-primary-surface-color, white);\n",
       "                }\n",
       "            </style>\n",
       "            "
      ],
      "text/plain": [
       "<IPython.core.display.HTML object>"
      ]
     },
     "metadata": {},
     "output_type": "display_data"
    },
    {
     "name": "stdout",
     "output_type": "stream",
     "text": [
      "Total number of unique WDPA_PIDs: 6952\n",
      "\n",
      "Sample of protected areas:\n",
      "WDPA_PID                   NAME\n",
      "       3 Laguna de los Pozuelos\n",
      "       6          Los Glaciares\n",
      "       7                  Lanín\n",
      "       8            Los Alerces\n",
      "      10              Calilegua\n"
     ]
    }
   ],
   "source": [
    "try:\n",
    "    # Read shapefile \n",
    "    shp_path = '../data/global_wdpa_June2021/Global_wdpa_wInfo_June2021.shp'\n",
    "    gdf = gpd.read_file(shp_path)\n",
    "    \n",
    "    # Get unique WDPA_PIDs and count\n",
    "    unique_pids = gdf['WDPA_PID'].unique()\n",
    "    print(f\"Total number of unique WDPA_PIDs: {len(unique_pids)}\")\n",
    "    \n",
    "    # Show first few PIDs and their park names\n",
    "    print(\"\\nSample of protected areas:\")\n",
    "    sample_df = gdf[['WDPA_PID', 'NAME']].head()\n",
    "    print(sample_df.to_string(index=False))\n",
    "    \n",
    "except Exception as e:\n",
    "    print(f\"Error reading shapefile: {e}\")"
   ]
  },
  {
   "cell_type": "markdown",
   "id": "b13201eb",
   "metadata": {},
   "source": [
    "-add write out for each step, with identifier for each park\n",
    "-ray to run in parallel in python\n",
    "-use glance to check usage"
   ]
  }
 ],
 "metadata": {
  "kernelspec": {
   "display_name": "Python 3",
   "language": "python",
   "name": "python3"
  },
  "language_info": {
   "codemirror_mode": {
    "name": "ipython",
    "version": 3
   },
   "file_extension": ".py",
   "mimetype": "text/x-python",
   "name": "python",
   "nbconvert_exporter": "python",
   "pygments_lexer": "ipython3",
   "version": "3.10.12"
  }
 },
 "nbformat": 4,
 "nbformat_minor": 5
}
