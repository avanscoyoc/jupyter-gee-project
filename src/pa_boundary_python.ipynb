{
 "cells": [
  {
   "cell_type": "markdown",
   "id": "35d0a6c0",
   "metadata": {},
   "source": [
    "# Protected Area Boundary Change\n",
    "\n",
    "This notebook outlines the methodology used to measure at protected area boundaries via GEE. \n",
    "\n",
    "The notebook queries MODIS imagery and returns the gradient values of relevant bands as well as the vegetation indices NDVI and EVI. This code expects an annual time span and returns a geoTIFF for each band in each park for that year."
   ]
  },
  {
   "cell_type": "code",
   "execution_count": null,
   "id": "e9def359",
   "metadata": {},
   "outputs": [],
   "source": [
    "from utils import *\n",
    "from config import *\n",
    "import pandas as pd\n",
    "from datetime import datetime"
   ]
  },
  {
   "cell_type": "code",
   "execution_count": null,
   "id": "444f8a37",
   "metadata": {},
   "outputs": [],
   "source": [
    "import ee\n",
    "ee.Authenticate()\n",
    "ee.Initialize(project='dse-staff')\n",
    "print(ee.String('Hello from the Earth Engine servers!').getInfo())"
   ]
  },
  {
   "cell_type": "markdown",
   "id": "b27dcb55",
   "metadata": {},
   "source": [
    "## Class Definitions"
   ]
  },
  {
   "cell_type": "code",
   "execution_count": null,
   "id": "7c2c945c",
   "metadata": {},
   "outputs": [],
   "source": [
    "def main(wdpaid, year, show_map=False, band_name=None):\n",
    "    \"\"\"Main function to process protected area boundary analysis\"\"\"\n",
    "    # Initialize classes\n",
    "    geo_ops = GeometryOperations()\n",
    "    img_ops = ImageOperations()\n",
    "    stats_ops = StatsOperations()\n",
    "    viz = Visualization()\n",
    "    feature_processor = FeatureProcessor(geo_ops, img_ops, stats_ops)\n",
    "    exporter = ExportResults()\n",
    "\n",
    "    # Load and process protected area geometry\n",
    "    pa = load_local_data(wdpaid)\n",
    "    pa_geometry = pa.geometry()\n",
    "    aoi = geo_ops.buffer_polygon(pa_geometry)\n",
    "    aoi = geo_ops.mask_water(aoi)\n",
    "    aoi_with_biome = geo_ops.get_biome(aoi)\n",
    "\n",
    "    # Process imagery and add indices\n",
    "    modis_ic = img_ops.modis.filter(img_ops.filter_for_year(aoi, year))\n",
    "    band_names = modis_ic.first().bandNames()\n",
    "    composite = modis_ic.reduce(ee.Reducer.median()).rename(band_names).clip(aoi)\n",
    "    image = img_ops.add_indices_to_image(composite)\n",
    "\n",
    "    # Process features and collect statistics\n",
    "    feature_info = feature_processor.collect_feature_info(pa, aoi_with_biome)\n",
    "    computed_stats = feature_processor.process_all_bands(image, pa_geometry, aoi)\n",
    "    all_stats = feature_processor.compile_statistics(feature_info, computed_stats, year)\n",
    "    \n",
    "    # Save results\n",
    "    df = pd.DataFrame(all_stats)\n",
    "    exporter.save_df_to_gcs(df, 'dse-staff', wdpaid, year)\n",
    "\n",
    "    # Visualization\n",
    "    if show_map:\n",
    "        band_stats = next(cs for cs in computed_stats if cs[\"band_name\"] == band_name)\n",
    "        Map = viz.create_map(pa_geometry, band_stats['buffer_pixels'], band_stats['boundary_pixels'])\n",
    "\n",
    "    return print(\"Analysis \")"
   ]
  },
  {
   "cell_type": "code",
   "execution_count": null,
   "id": "a13805cb",
   "metadata": {},
   "outputs": [],
   "source": [
    "#Map = main(\"916\", 2010) #show_map=True, band_name=\"EVI\")\n",
    "#Map"
   ]
  },
  {
   "cell_type": "code",
   "execution_count": null,
   "id": "abed3f05",
   "metadata": {},
   "outputs": [],
   "source": [
    "import concurrent.futures\n",
    "\n",
    "def run_main_for_years(wdpaid, start_year, n_years, show_map=False, band_name=None, max_workers=4):\n",
    "    \"\"\"\n",
    "    Runs main() in parallel for a sequence of years.\n",
    "    Args:\n",
    "        wdpaid: Protected area ID\n",
    "        start_year: First year (int)\n",
    "        n_years: Number of years to run (int)\n",
    "        show_map: Whether to show map (default False)\n",
    "        band_name: Band name for visualization (default None)\n",
    "        max_workers: Number of parallel workers\n",
    "    Returns:\n",
    "        List of results from main()\n",
    "    \"\"\"\n",
    "    years = [start_year + i for i in range(n_years)]\n",
    "    results = []\n",
    "    with concurrent.futures.ThreadPoolExecutor(max_workers=max_workers) as executor:\n",
    "        future_to_year = {\n",
    "            executor.submit(main, wdpaid, year, show_map, band_name): year for year in years\n",
    "        }\n",
    "        for future in concurrent.futures.as_completed(future_to_year):\n",
    "            year = future_to_year[future]\n",
    "            try:\n",
    "                result = future.result()\n",
    "                results.append((year, result))\n",
    "            except Exception as exc:\n",
    "                print(f\"Year {year} generated an exception: {exc}\")\n",
    "    # Sort results by year\n",
    "    results.sort(key=lambda x: x[0])\n",
    "    return results"
   ]
  },
  {
   "cell_type": "code",
   "execution_count": null,
   "id": "4d565575",
   "metadata": {},
   "outputs": [],
   "source": [
    "run_main_for_years(\"916\", 2001, 10), max_workers=10)"
   ]
  },
  {
   "cell_type": "markdown",
   "id": "b13201eb",
   "metadata": {},
   "source": [
    "-add write out for each step, with identifier for each park\n",
    "-ray to run in parallel in python\n",
    "-use glance to check usage"
   ]
  }
 ],
 "metadata": {
  "kernelspec": {
   "display_name": "Python 3",
   "language": "python",
   "name": "python3"
  },
  "language_info": {
   "codemirror_mode": {
    "name": "ipython",
    "version": 3
   },
   "file_extension": ".py",
   "mimetype": "text/x-python",
   "name": "python",
   "nbconvert_exporter": "python",
   "pygments_lexer": "ipython3",
   "version": "3.10.12"
  }
 },
 "nbformat": 4,
 "nbformat_minor": 5
}
