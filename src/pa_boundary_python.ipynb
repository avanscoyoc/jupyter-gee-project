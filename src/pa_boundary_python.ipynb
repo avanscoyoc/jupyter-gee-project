{
 "cells": [
  {
   "cell_type": "markdown",
   "id": "35d0a6c0",
   "metadata": {},
   "source": [
    "# Protected Area Boundary Change\n",
    "\n",
    "This notebook outlines the methodology used to measure at protected area boundaries via GEE. \n",
    "\n",
    "The notebook queries MODIS imagery and returns the gradient values of relevant bands as well as the vegetation indices NDVI and EVI. This code expects an annual time span and returns a geoTIFF for each band in each park for that year."
   ]
  },
  {
   "cell_type": "code",
   "execution_count": 1,
   "id": "e9def359",
   "metadata": {},
   "outputs": [],
   "source": [
    "from utils import *\n",
    "from config import *\n",
    "import pandas as pd\n",
    "from datetime import datetime"
   ]
  },
  {
   "cell_type": "code",
   "execution_count": 2,
   "id": "444f8a37",
   "metadata": {},
   "outputs": [
    {
     "data": {
      "text/html": [
       "\n",
       "            <style>\n",
       "                .geemap-dark {\n",
       "                    --jp-widgets-color: white;\n",
       "                    --jp-widgets-label-color: white;\n",
       "                    --jp-ui-font-color1: white;\n",
       "                    --jp-layout-color2: #454545;\n",
       "                    background-color: #383838;\n",
       "                }\n",
       "\n",
       "                .geemap-dark .jupyter-button {\n",
       "                    --jp-layout-color3: #383838;\n",
       "                }\n",
       "\n",
       "                .geemap-colab {\n",
       "                    background-color: var(--colab-primary-surface-color, white);\n",
       "                }\n",
       "\n",
       "                .geemap-colab .jupyter-button {\n",
       "                    --jp-layout-color3: var(--colab-primary-surface-color, white);\n",
       "                }\n",
       "            </style>\n",
       "            "
      ],
      "text/plain": [
       "<IPython.core.display.HTML object>"
      ]
     },
     "metadata": {},
     "output_type": "display_data"
    },
    {
     "name": "stdout",
     "output_type": "stream",
     "text": [
      "Hello from the Earth Engine servers!\n"
     ]
    }
   ],
   "source": [
    "import ee\n",
    "ee.Authenticate()\n",
    "ee.Initialize(project='dse-staff')\n",
    "print(ee.String('Hello from the Earth Engine servers!').getInfo())"
   ]
  },
  {
   "cell_type": "markdown",
   "id": "b27dcb55",
   "metadata": {},
   "source": [
    "## Class Definitions"
   ]
  },
  {
   "cell_type": "code",
   "execution_count": 3,
   "id": "7c2c945c",
   "metadata": {},
   "outputs": [
    {
     "data": {
      "text/html": [
       "\n",
       "            <style>\n",
       "                .geemap-dark {\n",
       "                    --jp-widgets-color: white;\n",
       "                    --jp-widgets-label-color: white;\n",
       "                    --jp-ui-font-color1: white;\n",
       "                    --jp-layout-color2: #454545;\n",
       "                    background-color: #383838;\n",
       "                }\n",
       "\n",
       "                .geemap-dark .jupyter-button {\n",
       "                    --jp-layout-color3: #383838;\n",
       "                }\n",
       "\n",
       "                .geemap-colab {\n",
       "                    background-color: var(--colab-primary-surface-color, white);\n",
       "                }\n",
       "\n",
       "                .geemap-colab .jupyter-button {\n",
       "                    --jp-layout-color3: var(--colab-primary-surface-color, white);\n",
       "                }\n",
       "            </style>\n",
       "            "
      ],
      "text/plain": [
       "<IPython.core.display.HTML object>"
      ]
     },
     "metadata": {},
     "output_type": "display_data"
    }
   ],
   "source": [
    "def main(wdpaid, year, show_map=False, band_name=None):\n",
    "    \"\"\"Main function to process protected area boundary analysis\"\"\"\n",
    "    # Initialize classes\n",
    "    geo_ops = GeometryOperations()\n",
    "    img_ops = ImageOperations()\n",
    "    stats_ops = StatsOperations()\n",
    "    viz = Visualization()\n",
    "    feature_processor = FeatureProcessor(geo_ops, img_ops, stats_ops)\n",
    "    exporter = ExportResults()\n",
    "\n",
    "    # Load and process protected area geometry\n",
    "    pa = load_local_data(wdpaid)\n",
    "    pa_geometry = pa.geometry()\n",
    "    aoi = geo_ops.buffer_polygon(pa_geometry)\n",
    "    aoi = geo_ops.mask_water(aoi)\n",
    "    aoi_with_biome = geo_ops.get_biome(aoi)\n",
    "\n",
    "    # Process imagery and add indices\n",
    "    modis_ic = img_ops.modis.filter(img_ops.filter_for_year(aoi, year))\n",
    "    band_names = modis_ic.first().bandNames()\n",
    "    composite = modis_ic.reduce(ee.Reducer.median()).rename(band_names).clip(aoi)\n",
    "    image = img_ops.add_indices_to_image(composite)\n",
    "\n",
    "    # Process features and collect statistics\n",
    "    feature_info = feature_processor.collect_feature_info(pa, aoi_with_biome)\n",
    "    computed_stats = feature_processor.process_all_bands(image, pa_geometry, aoi)\n",
    "    all_stats = feature_processor.compile_statistics(feature_info, computed_stats, year)\n",
    "    \n",
    "    # Save results\n",
    "    df = pd.DataFrame(all_stats)\n",
    "    exporter.save_df_to_gcs(df, 'dse-staff', wdpaid, year)\n",
    "\n",
    "    # Visualization\n",
    "    if show_map:\n",
    "        band_stats = next(cs for cs in computed_stats if cs[\"band_name\"] == band_name)\n",
    "        Map = viz.create_map(pa_geometry, band_stats['buffer_pixels'], band_stats['boundary_pixels'])\n",
    "\n",
    "    return print(\"Analysis complete for WDPA ID:\", wdpaid, \"for the year:\", year)"
   ]
  },
  {
   "cell_type": "code",
   "execution_count": 4,
   "id": "a13805cb",
   "metadata": {},
   "outputs": [
    {
     "data": {
      "text/html": [
       "\n",
       "            <style>\n",
       "                .geemap-dark {\n",
       "                    --jp-widgets-color: white;\n",
       "                    --jp-widgets-label-color: white;\n",
       "                    --jp-ui-font-color1: white;\n",
       "                    --jp-layout-color2: #454545;\n",
       "                    background-color: #383838;\n",
       "                }\n",
       "\n",
       "                .geemap-dark .jupyter-button {\n",
       "                    --jp-layout-color3: #383838;\n",
       "                }\n",
       "\n",
       "                .geemap-colab {\n",
       "                    background-color: var(--colab-primary-surface-color, white);\n",
       "                }\n",
       "\n",
       "                .geemap-colab .jupyter-button {\n",
       "                    --jp-layout-color3: var(--colab-primary-surface-color, white);\n",
       "                }\n",
       "            </style>\n",
       "            "
      ],
      "text/plain": [
       "<IPython.core.display.HTML object>"
      ]
     },
     "metadata": {},
     "output_type": "display_data"
    }
   ],
   "source": [
    "#Map = main(\"916\", 2010) #show_map=True, band_name=\"EVI\")\n",
    "#Map"
   ]
  },
  {
   "cell_type": "code",
   "execution_count": 5,
   "id": "abed3f05",
   "metadata": {},
   "outputs": [
    {
     "data": {
      "text/html": [
       "\n",
       "            <style>\n",
       "                .geemap-dark {\n",
       "                    --jp-widgets-color: white;\n",
       "                    --jp-widgets-label-color: white;\n",
       "                    --jp-ui-font-color1: white;\n",
       "                    --jp-layout-color2: #454545;\n",
       "                    background-color: #383838;\n",
       "                }\n",
       "\n",
       "                .geemap-dark .jupyter-button {\n",
       "                    --jp-layout-color3: #383838;\n",
       "                }\n",
       "\n",
       "                .geemap-colab {\n",
       "                    background-color: var(--colab-primary-surface-color, white);\n",
       "                }\n",
       "\n",
       "                .geemap-colab .jupyter-button {\n",
       "                    --jp-layout-color3: var(--colab-primary-surface-color, white);\n",
       "                }\n",
       "            </style>\n",
       "            "
      ],
      "text/plain": [
       "<IPython.core.display.HTML object>"
      ]
     },
     "metadata": {},
     "output_type": "display_data"
    }
   ],
   "source": [
    "import concurrent.futures\n",
    "\n",
    "def run_main_for_years(wdpaid, start_year, n_years, show_map=False, band_name=None, max_workers=4):\n",
    "    \"\"\"\n",
    "    Runs main() in parallel for a sequence of years.\n",
    "    Prints completion messages as each run finishes.\n",
    "    \"\"\"\n",
    "    years = [start_year + i for i in range(n_years)]\n",
    "    with concurrent.futures.ThreadPoolExecutor(max_workers=max_workers) as executor:\n",
    "        future_to_year = {\n",
    "            executor.submit(main, wdpaid, year, show_map, band_name): year for year in years\n",
    "        }\n",
    "        for future in concurrent.futures.as_completed(future_to_year):\n",
    "            year = future_to_year[future]\n",
    "            try:\n",
    "                future.result()  # main() already prints its own completion message\n",
    "            except Exception as exc:\n",
    "                print(f\"Year {year} generated an exception: {exc}\")"
   ]
  },
  {
   "cell_type": "code",
   "execution_count": 6,
   "id": "4d565575",
   "metadata": {},
   "outputs": [
    {
     "data": {
      "text/html": [
       "\n",
       "            <style>\n",
       "                .geemap-dark {\n",
       "                    --jp-widgets-color: white;\n",
       "                    --jp-widgets-label-color: white;\n",
       "                    --jp-ui-font-color1: white;\n",
       "                    --jp-layout-color2: #454545;\n",
       "                    background-color: #383838;\n",
       "                }\n",
       "\n",
       "                .geemap-dark .jupyter-button {\n",
       "                    --jp-layout-color3: #383838;\n",
       "                }\n",
       "\n",
       "                .geemap-colab {\n",
       "                    background-color: var(--colab-primary-surface-color, white);\n",
       "                }\n",
       "\n",
       "                .geemap-colab .jupyter-button {\n",
       "                    --jp-layout-color3: var(--colab-primary-surface-color, white);\n",
       "                }\n",
       "            </style>\n",
       "            "
      ],
      "text/plain": [
       "<IPython.core.display.HTML object>"
      ]
     },
     "metadata": {},
     "output_type": "display_data"
    },
    {
     "name": "stderr",
     "output_type": "stream",
     "text": [
      "/usr/local/lib/python3.10/dist-packages/ee/deprecation.py:207: DeprecationWarning: \n",
      "\n",
      "Attention required for MODIS/006/MOD09A1! You are using a deprecated asset.\n",
      "To make sure your code keeps working, please update it.\n",
      "Learn more: https://developers.google.com/earth-engine/datasets/catalog/MODIS_006_MOD09A1\n",
      "\n",
      "  warnings.warn(warning, category=DeprecationWarning)\n",
      "/usr/local/lib/python3.10/dist-packages/ee/deprecation.py:207: DeprecationWarning: \n",
      "\n",
      "Attention required for JRC/GSW1_0/GlobalSurfaceWater! You are using a deprecated asset.\n",
      "To make sure your code keeps working, please update it.\n",
      "Learn more: https://developers.google.com/earth-engine/datasets/catalog/JRC_GSW1_0_GlobalSurfaceWater\n",
      "\n",
      "  warnings.warn(warning, category=DeprecationWarning)\n",
      "/usr/local/lib/python3.10/dist-packages/google/auth/_default.py:76: UserWarning: Your application has authenticated using end user credentials from Google Cloud SDK without a quota project. You might receive a \"quota exceeded\" or \"API not enabled\" error. See the following page for troubleshooting: https://cloud.google.com/docs/authentication/adc-troubleshooting/user-creds. \n",
      "  warnings.warn(_CLOUD_SDK_CREDENTIALS_WARNING)\n"
     ]
    },
    {
     "name": "stdout",
     "output_type": "stream",
     "text": [
      "Uploaded to: gs://dse-staff/protected_areas/tables/_916_2003_20250624_235320.csv\n",
      "Analysis complete for WDPA ID: 916 for the year: 2003\n"
     ]
    },
    {
     "name": "stderr",
     "output_type": "stream",
     "text": [
      "/usr/local/lib/python3.10/dist-packages/google/auth/_default.py:76: UserWarning: Your application has authenticated using end user credentials from Google Cloud SDK without a quota project. You might receive a \"quota exceeded\" or \"API not enabled\" error. See the following page for troubleshooting: https://cloud.google.com/docs/authentication/adc-troubleshooting/user-creds. \n",
      "  warnings.warn(_CLOUD_SDK_CREDENTIALS_WARNING)\n"
     ]
    },
    {
     "name": "stdout",
     "output_type": "stream",
     "text": [
      "Uploaded to: gs://dse-staff/protected_areas/tables/_916_2001_20250624_235320.csv\n",
      "Analysis complete for WDPA ID: 916 for the year: 2001\n"
     ]
    },
    {
     "name": "stderr",
     "output_type": "stream",
     "text": [
      "/usr/local/lib/python3.10/dist-packages/google/auth/_default.py:76: UserWarning: Your application has authenticated using end user credentials from Google Cloud SDK without a quota project. You might receive a \"quota exceeded\" or \"API not enabled\" error. See the following page for troubleshooting: https://cloud.google.com/docs/authentication/adc-troubleshooting/user-creds. \n",
      "  warnings.warn(_CLOUD_SDK_CREDENTIALS_WARNING)\n"
     ]
    },
    {
     "name": "stdout",
     "output_type": "stream",
     "text": [
      "Uploaded to: gs://dse-staff/protected_areas/tables/_916_2002_20250624_235320.csv\n",
      "Analysis complete for WDPA ID: 916 for the year: 2002\n"
     ]
    }
   ],
   "source": [
    "run_main_for_years(\"916\", 2001, 3, max_workers=4)"
   ]
  },
  {
   "cell_type": "markdown",
   "id": "b13201eb",
   "metadata": {},
   "source": [
    "-add write out for each step, with identifier for each park\n",
    "-ray to run in parallel in python\n",
    "-use glance to check usage"
   ]
  }
 ],
 "metadata": {
  "kernelspec": {
   "display_name": "Python 3",
   "language": "python",
   "name": "python3"
  },
  "language_info": {
   "codemirror_mode": {
    "name": "ipython",
    "version": 3
   },
   "file_extension": ".py",
   "mimetype": "text/x-python",
   "name": "python",
   "nbconvert_exporter": "python",
   "pygments_lexer": "ipython3",
   "version": "3.10.12"
  }
 },
 "nbformat": 4,
 "nbformat_minor": 5
}
