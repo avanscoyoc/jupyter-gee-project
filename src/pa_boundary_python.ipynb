{
 "cells": [
  {
   "cell_type": "markdown",
   "id": "35d0a6c0",
   "metadata": {},
   "source": [
    "# Protected Area Boundary Change\n",
    "\n",
    "This notebook outlines the methodology used to measure at protected area boundaries via GEE. \n",
    "\n",
    "The notebook queries MODIS imagery and returns the gradient values of relevant bands as well as the vegetation indices NDVI and EVI. This code expects an annual time span and returns a geoTIFF for each band in each park for that year."
   ]
  },
  {
   "cell_type": "code",
   "execution_count": 1,
   "id": "e9def359",
   "metadata": {},
   "outputs": [],
   "source": [
    "import ee\n",
    "from utils import GeometryOperations, ImageOperations, StatsOperations, Visualization\n",
    "from config import *\n",
    "import pandas as pd\n",
    "from datetime import datetime"
   ]
  },
  {
   "cell_type": "code",
   "execution_count": 2,
   "id": "5587846f",
   "metadata": {},
   "outputs": [
    {
     "data": {
      "text/html": [
       "\n",
       "            <style>\n",
       "                .geemap-dark {\n",
       "                    --jp-widgets-color: white;\n",
       "                    --jp-widgets-label-color: white;\n",
       "                    --jp-ui-font-color1: white;\n",
       "                    --jp-layout-color2: #454545;\n",
       "                    background-color: #383838;\n",
       "                }\n",
       "\n",
       "                .geemap-dark .jupyter-button {\n",
       "                    --jp-layout-color3: #383838;\n",
       "                }\n",
       "\n",
       "                .geemap-colab {\n",
       "                    background-color: var(--colab-primary-surface-color, white);\n",
       "                }\n",
       "\n",
       "                .geemap-colab .jupyter-button {\n",
       "                    --jp-layout-color3: var(--colab-primary-surface-color, white);\n",
       "                }\n",
       "            </style>\n",
       "            "
      ],
      "text/plain": [
       "<IPython.core.display.HTML object>"
      ]
     },
     "metadata": {},
     "output_type": "display_data"
    },
    {
     "name": "stdout",
     "output_type": "stream",
     "text": [
      "Hello from the Earth Engine servers!\n"
     ]
    }
   ],
   "source": [
    "service_account = 'jupyter-gee-project@ee-avs-dse.iam.gserviceaccount.com'\n",
    "key_path = '../service_account_key.json'\n",
    "\n",
    "credentials = ee.ServiceAccountCredentials(service_account, key_path)\n",
    "ee.Initialize(credentials)\n",
    "\n",
    "print(ee.String('Hello from the Earth Engine servers!').getInfo())"
   ]
  },
  {
   "cell_type": "markdown",
   "id": "b27dcb55",
   "metadata": {},
   "source": [
    "## Class Definitions"
   ]
  },
  {
   "cell_type": "code",
   "execution_count": 3,
   "id": "7c2c945c",
   "metadata": {},
   "outputs": [
    {
     "data": {
      "text/html": [
       "\n",
       "            <style>\n",
       "                .geemap-dark {\n",
       "                    --jp-widgets-color: white;\n",
       "                    --jp-widgets-label-color: white;\n",
       "                    --jp-ui-font-color1: white;\n",
       "                    --jp-layout-color2: #454545;\n",
       "                    background-color: #383838;\n",
       "                }\n",
       "\n",
       "                .geemap-dark .jupyter-button {\n",
       "                    --jp-layout-color3: #383838;\n",
       "                }\n",
       "\n",
       "                .geemap-colab {\n",
       "                    background-color: var(--colab-primary-surface-color, white);\n",
       "                }\n",
       "\n",
       "                .geemap-colab .jupyter-button {\n",
       "                    --jp-layout-color3: var(--colab-primary-surface-color, white);\n",
       "                }\n",
       "            </style>\n",
       "            "
      ],
      "text/plain": [
       "<IPython.core.display.HTML object>"
      ]
     },
     "metadata": {},
     "output_type": "display_data"
    }
   ],
   "source": [
    "def main(protected_area_name, year):\n",
    "    \"\"\"Main function to process protected area boundary analysis\"\"\"\n",
    "    # Initialize classes\n",
    "    geo_ops = GeometryOperations()\n",
    "    img_ops = ImageOperations()\n",
    "    stats_ops = StatsOperations()\n",
    "    viz = Visualization()\n",
    "\n",
    "    # Load protected area\n",
    "    pa = load_protected_area(protected_area_name)\n",
    "    pa_geometry = pa.geometry()\n",
    "\n",
    "    # Process geometry\n",
    "    aoi = geo_ops.buffer_polygon(pa_geometry)\n",
    "    aoi = geo_ops.mask_water(aoi)\n",
    "\n",
    "    # Process imagery\n",
    "    modis_ic = img_ops.modis.filter(img_ops.filter_for_year(aoi, year))\n",
    "    band_names = modis_ic.first().bandNames()\n",
    "    composite = modis_ic.reduce(ee.Reducer.median()).rename(band_names).clip(aoi)\n",
    "    \n",
    "    # Add indices and calculate gradient\n",
    "    image = img_ops.add_indices_to_image(composite)\n",
    "    \n",
    "    # Process each band and collect statistics\n",
    "    all_stats = []\n",
    "    bands_to_process = ['sur_refl_b01', 'sur_refl_b02', 'sur_refl_b03', 'EVI', 'NDVI']\n",
    "    \n",
    "    for band_name in bands_to_process:\n",
    "        single_band = image.select(band_name)\n",
    "        gradient = img_ops.get_gradient_magnitude(single_band)\n",
    "\n",
    "        # Create select pixels that intersect boundary \n",
    "        boundary_pixels = geo_ops.get_pixels_boundary(gradient, pa_geometry, scale=500)\n",
    "        boundary_pixels = boundary_pixels.clip(pa_geometry.buffer(500))\n",
    "        \n",
    "        # Get statistics for both boundary and buffer\n",
    "        boundary_stats = stats_ops.calculate_gradient_statistics(boundary_pixels, name='boundary')\n",
    "        buffer_stats = stats_ops.calculate_gradient_statistics(boundary_pixels, name='buffer')\n",
    "        \n",
    "        # Combine stats with feature information\n",
    "        row_stats = {\n",
    "            'WDPA_PID': pa.get('WDPA_PID').getInfo(),\n",
    "            'ORIG_NAME': pa.get('ORIG_NAME').getInfo(),\n",
    "            'GIS_AREA': pa.get('GIS_AREA').getInfo(),\n",
    "            'band_name': band_name,\n",
    "            'year': year,\n",
    "            **boundary_stats,\n",
    "            **buffer_stats\n",
    "        }\n",
    "        all_stats.append(row_stats)\n",
    "    \n",
    "    # Create DataFrame and save to CSV\n",
    "    df = pd.DataFrame(all_stats)\n",
    "    timestamp = datetime.now().strftime('%Y%m%d_%H%M%S')\n",
    "    output_file = f'results_{protected_area_name.replace(\" \", \"_\")}_{year}_{timestamp}.csv'\n",
    "    df.to_csv(output_file, index=False)\n",
    "    print(f'Results saved to {output_file}')\n",
    "    \n",
    "    # Return visualization of last processed band\n",
    "    Map = viz.create_map(pa_geometry, gradient, boundary_pixels)\n",
    "    return Map, df"
   ]
  },
  {
   "cell_type": "code",
   "execution_count": 4,
   "id": "a13805cb",
   "metadata": {},
   "outputs": [
    {
     "data": {
      "text/html": [
       "\n",
       "            <style>\n",
       "                .geemap-dark {\n",
       "                    --jp-widgets-color: white;\n",
       "                    --jp-widgets-label-color: white;\n",
       "                    --jp-ui-font-color1: white;\n",
       "                    --jp-layout-color2: #454545;\n",
       "                    background-color: #383838;\n",
       "                }\n",
       "\n",
       "                .geemap-dark .jupyter-button {\n",
       "                    --jp-layout-color3: #383838;\n",
       "                }\n",
       "\n",
       "                .geemap-colab {\n",
       "                    background-color: var(--colab-primary-surface-color, white);\n",
       "                }\n",
       "\n",
       "                .geemap-colab .jupyter-button {\n",
       "                    --jp-layout-color3: var(--colab-primary-surface-color, white);\n",
       "                }\n",
       "            </style>\n",
       "            "
      ],
      "text/plain": [
       "<IPython.core.display.HTML object>"
      ]
     },
     "metadata": {},
     "output_type": "display_data"
    },
    {
     "name": "stderr",
     "output_type": "stream",
     "text": [
      "/usr/local/lib/python3.9/site-packages/ee/deprecation.py:207: DeprecationWarning: \n",
      "\n",
      "Attention required for JRC/GSW1_0/GlobalSurfaceWater! You are using a deprecated asset.\n",
      "To make sure your code keeps working, please update it.\n",
      "Learn more: https://developers.google.com/earth-engine/datasets/catalog/JRC_GSW1_0_GlobalSurfaceWater\n",
      "\n",
      "  warnings.warn(warning, category=DeprecationWarning)\n",
      "/usr/local/lib/python3.9/site-packages/ee/deprecation.py:207: DeprecationWarning: \n",
      "\n",
      "Attention required for MODIS/006/MOD09A1! You are using a deprecated asset.\n",
      "To make sure your code keeps working, please update it.\n",
      "Learn more: https://developers.google.com/earth-engine/datasets/catalog/MODIS_006_MOD09A1\n",
      "\n",
      "  warnings.warn(warning, category=DeprecationWarning)\n"
     ]
    },
    {
     "name": "stdout",
     "output_type": "stream",
     "text": [
      "Results saved to results_Serengeti_National_Park_2010_20250610_005216.csv\n"
     ]
    },
    {
     "data": {
      "text/html": [
       "<div>\n",
       "<style scoped>\n",
       "    .dataframe tbody tr th:only-of-type {\n",
       "        vertical-align: middle;\n",
       "    }\n",
       "\n",
       "    .dataframe tbody tr th {\n",
       "        vertical-align: top;\n",
       "    }\n",
       "\n",
       "    .dataframe thead th {\n",
       "        text-align: right;\n",
       "    }\n",
       "</style>\n",
       "<table border=\"1\" class=\"dataframe\">\n",
       "  <thead>\n",
       "    <tr style=\"text-align: right;\">\n",
       "      <th></th>\n",
       "      <th>WDPA_PID</th>\n",
       "      <th>ORIG_NAME</th>\n",
       "      <th>GIS_AREA</th>\n",
       "      <th>band_name</th>\n",
       "      <th>year</th>\n",
       "      <th>boundary_mean</th>\n",
       "      <th>boundary_stddev</th>\n",
       "      <th>boundary_area</th>\n",
       "      <th>buffer_mean</th>\n",
       "      <th>buffer_stddev</th>\n",
       "      <th>buffer_area</th>\n",
       "    </tr>\n",
       "  </thead>\n",
       "  <tbody>\n",
       "    <tr>\n",
       "      <th>0</th>\n",
       "      <td>916</td>\n",
       "      <td>Serengeti National Park</td>\n",
       "      <td>13123.050301</td>\n",
       "      <td>sur_refl_b01</td>\n",
       "      <td>2010</td>\n",
       "      <td>0.090834</td>\n",
       "      <td>0.072736</td>\n",
       "      <td>6.784019e+08</td>\n",
       "      <td>0.090834</td>\n",
       "      <td>0.072736</td>\n",
       "      <td>6.784019e+08</td>\n",
       "    </tr>\n",
       "    <tr>\n",
       "      <th>1</th>\n",
       "      <td>916</td>\n",
       "      <td>Serengeti National Park</td>\n",
       "      <td>13123.050301</td>\n",
       "      <td>sur_refl_b02</td>\n",
       "      <td>2010</td>\n",
       "      <td>0.159656</td>\n",
       "      <td>0.111650</td>\n",
       "      <td>6.784019e+08</td>\n",
       "      <td>0.159656</td>\n",
       "      <td>0.111650</td>\n",
       "      <td>6.784019e+08</td>\n",
       "    </tr>\n",
       "    <tr>\n",
       "      <th>2</th>\n",
       "      <td>916</td>\n",
       "      <td>Serengeti National Park</td>\n",
       "      <td>13123.050301</td>\n",
       "      <td>sur_refl_b03</td>\n",
       "      <td>2010</td>\n",
       "      <td>0.045173</td>\n",
       "      <td>0.037308</td>\n",
       "      <td>6.784019e+08</td>\n",
       "      <td>0.045173</td>\n",
       "      <td>0.037308</td>\n",
       "      <td>6.784019e+08</td>\n",
       "    </tr>\n",
       "    <tr>\n",
       "      <th>3</th>\n",
       "      <td>916</td>\n",
       "      <td>Serengeti National Park</td>\n",
       "      <td>13123.050301</td>\n",
       "      <td>EVI</td>\n",
       "      <td>2010</td>\n",
       "      <td>0.000110</td>\n",
       "      <td>0.000084</td>\n",
       "      <td>6.784019e+08</td>\n",
       "      <td>0.000110</td>\n",
       "      <td>0.000084</td>\n",
       "      <td>6.784019e+08</td>\n",
       "    </tr>\n",
       "    <tr>\n",
       "      <th>4</th>\n",
       "      <td>916</td>\n",
       "      <td>Serengeti National Park</td>\n",
       "      <td>13123.050301</td>\n",
       "      <td>NDVI</td>\n",
       "      <td>2010</td>\n",
       "      <td>0.000042</td>\n",
       "      <td>0.000032</td>\n",
       "      <td>6.784019e+08</td>\n",
       "      <td>0.000042</td>\n",
       "      <td>0.000032</td>\n",
       "      <td>6.784019e+08</td>\n",
       "    </tr>\n",
       "  </tbody>\n",
       "</table>\n",
       "</div>"
      ],
      "text/plain": [
       "  WDPA_PID                ORIG_NAME      GIS_AREA     band_name  year  \\\n",
       "0      916  Serengeti National Park  13123.050301  sur_refl_b01  2010   \n",
       "1      916  Serengeti National Park  13123.050301  sur_refl_b02  2010   \n",
       "2      916  Serengeti National Park  13123.050301  sur_refl_b03  2010   \n",
       "3      916  Serengeti National Park  13123.050301           EVI  2010   \n",
       "4      916  Serengeti National Park  13123.050301          NDVI  2010   \n",
       "\n",
       "   boundary_mean  boundary_stddev  boundary_area  buffer_mean  buffer_stddev  \\\n",
       "0       0.090834         0.072736   6.784019e+08     0.090834       0.072736   \n",
       "1       0.159656         0.111650   6.784019e+08     0.159656       0.111650   \n",
       "2       0.045173         0.037308   6.784019e+08     0.045173       0.037308   \n",
       "3       0.000110         0.000084   6.784019e+08     0.000110       0.000084   \n",
       "4       0.000042         0.000032   6.784019e+08     0.000042       0.000032   \n",
       "\n",
       "    buffer_area  \n",
       "0  6.784019e+08  \n",
       "1  6.784019e+08  \n",
       "2  6.784019e+08  \n",
       "3  6.784019e+08  \n",
       "4  6.784019e+08  "
      ]
     },
     "metadata": {},
     "output_type": "display_data"
    },
    {
     "data": {
      "application/vnd.jupyter.widget-view+json": {
       "model_id": "d4999cfc16ab4267aab57189b227380b",
       "version_major": 2,
       "version_minor": 0
      },
      "text/plain": [
       "Map(center=[-2.3332666874595325, 34.78445430188864], controls=(WidgetControl(options=['position', 'transparent…"
      ]
     },
     "execution_count": 4,
     "metadata": {},
     "output_type": "execute_result"
    }
   ],
   "source": [
    "Map, results_df = main(\"Serengeti National Park\", 2010)\n",
    "display(results_df.head())\n",
    "Map"
   ]
  },
  {
   "cell_type": "markdown",
   "id": "b13201eb",
   "metadata": {},
   "source": [
    "-add write out for each step, with identifier for each park\n",
    "-ray to run in parallel in python\n",
    "-use glance to check usage"
   ]
  }
 ],
 "metadata": {
  "kernelspec": {
   "display_name": "Python 3",
   "language": "python",
   "name": "python3"
  },
  "language_info": {
   "codemirror_mode": {
    "name": "ipython",
    "version": 3
   },
   "file_extension": ".py",
   "mimetype": "text/x-python",
   "name": "python",
   "nbconvert_exporter": "python",
   "pygments_lexer": "ipython3",
   "version": "3.9.22"
  }
 },
 "nbformat": 4,
 "nbformat_minor": 5
}
