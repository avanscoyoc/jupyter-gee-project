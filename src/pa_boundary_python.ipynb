{
 "cells": [
  {
   "cell_type": "markdown",
   "id": "35d0a6c0",
   "metadata": {},
   "source": [
    "# Protected Area Boundary Change\n",
    "\n",
    "This notebook outlines the methodology used to measure at protected area boundaries via GEE. \n",
    "\n",
    "The notebook queries MODIS imagery and returns the gradient values of relevant bands as well as the vegetation indices NDVI and EVI. This code expects an annual time span and returns a geoTIFF for each band in each park for that year."
   ]
  },
  {
   "cell_type": "code",
   "execution_count": 1,
   "id": "e9def359",
   "metadata": {},
   "outputs": [],
   "source": [
    "import ee\n",
    "from utils import GeometryOperations, ImageOperations, Visualization\n",
    "from config import *"
   ]
  },
  {
   "cell_type": "code",
   "execution_count": 2,
   "id": "5587846f",
   "metadata": {},
   "outputs": [
    {
     "data": {
      "text/html": [
       "\n",
       "            <style>\n",
       "                .geemap-dark {\n",
       "                    --jp-widgets-color: white;\n",
       "                    --jp-widgets-label-color: white;\n",
       "                    --jp-ui-font-color1: white;\n",
       "                    --jp-layout-color2: #454545;\n",
       "                    background-color: #383838;\n",
       "                }\n",
       "\n",
       "                .geemap-dark .jupyter-button {\n",
       "                    --jp-layout-color3: #383838;\n",
       "                }\n",
       "\n",
       "                .geemap-colab {\n",
       "                    background-color: var(--colab-primary-surface-color, white);\n",
       "                }\n",
       "\n",
       "                .geemap-colab .jupyter-button {\n",
       "                    --jp-layout-color3: var(--colab-primary-surface-color, white);\n",
       "                }\n",
       "            </style>\n",
       "            "
      ],
      "text/plain": [
       "<IPython.core.display.HTML object>"
      ]
     },
     "metadata": {},
     "output_type": "display_data"
    },
    {
     "name": "stdout",
     "output_type": "stream",
     "text": [
      "Hello from the Earth Engine servers!\n"
     ]
    }
   ],
   "source": [
    "service_account = 'jupyter-gee-project@ee-avs-dse.iam.gserviceaccount.com'\n",
    "key_path = '../service_account_key.json'\n",
    "\n",
    "credentials = ee.ServiceAccountCredentials(service_account, key_path)\n",
    "ee.Initialize(credentials)\n",
    "\n",
    "print(ee.String('Hello from the Earth Engine servers!').getInfo())"
   ]
  },
  {
   "cell_type": "markdown",
   "id": "b27dcb55",
   "metadata": {},
   "source": [
    "## Class Definitions"
   ]
  },
  {
   "cell_type": "code",
   "execution_count": 3,
   "id": "7c2c945c",
   "metadata": {},
   "outputs": [
    {
     "data": {
      "text/html": [
       "\n",
       "            <style>\n",
       "                .geemap-dark {\n",
       "                    --jp-widgets-color: white;\n",
       "                    --jp-widgets-label-color: white;\n",
       "                    --jp-ui-font-color1: white;\n",
       "                    --jp-layout-color2: #454545;\n",
       "                    background-color: #383838;\n",
       "                }\n",
       "\n",
       "                .geemap-dark .jupyter-button {\n",
       "                    --jp-layout-color3: #383838;\n",
       "                }\n",
       "\n",
       "                .geemap-colab {\n",
       "                    background-color: var(--colab-primary-surface-color, white);\n",
       "                }\n",
       "\n",
       "                .geemap-colab .jupyter-button {\n",
       "                    --jp-layout-color3: var(--colab-primary-surface-color, white);\n",
       "                }\n",
       "            </style>\n",
       "            "
      ],
      "text/plain": [
       "<IPython.core.display.HTML object>"
      ]
     },
     "metadata": {},
     "output_type": "display_data"
    }
   ],
   "source": [
    "def main(protected_area_name, year):\n",
    "    \"\"\"Main function to process protected area boundary analysis\"\"\"\n",
    "    # Initialize classes\n",
    "    geo_ops = GeometryOperations()\n",
    "    img_ops = ImageOperations()\n",
    "    viz = Visualization()\n",
    "\n",
    "    # Load protected area\n",
    "    pa_geometry = load_protected_area(protected_area_name).geometry()\n",
    "\n",
    "    # Process geometry\n",
    "    aoi = geo_ops.buffer_polygon(pa_geometry)\n",
    "    aoi = geo_ops.mask_water(aoi)\n",
    "\n",
    "    # Process imagery\n",
    "    modis_ic = img_ops.modis.filter(img_ops.filter_for_year(aoi, year))\n",
    "    band_names = modis_ic.first().bandNames()\n",
    "    composite = modis_ic.reduce(ee.Reducer.median()).rename(band_names).clip(aoi)\n",
    "    \n",
    "    # Add indices and calculate gradient\n",
    "    image = img_ops.add_indices_to_image(composite)\n",
    "    single_band = image.select(\"sur_refl_b03\")\n",
    "    gradient = img_ops.get_gradient_magnitude(single_band)\n",
    "\n",
    "    # Create select pixels that intersect boundary \n",
    "    boundary_pixels = geo_ops.get_pixels_boundary(gradient, pa_geometry, scale=500)\n",
    "    \n",
    "    # Visualize\n",
    "    Map = viz.create_map(pa_geometry, gradient, boundary_pixels)\n",
    "    \n",
    "    return Map"
   ]
  },
  {
   "cell_type": "code",
   "execution_count": 4,
   "id": "a13805cb",
   "metadata": {},
   "outputs": [
    {
     "data": {
      "text/html": [
       "\n",
       "            <style>\n",
       "                .geemap-dark {\n",
       "                    --jp-widgets-color: white;\n",
       "                    --jp-widgets-label-color: white;\n",
       "                    --jp-ui-font-color1: white;\n",
       "                    --jp-layout-color2: #454545;\n",
       "                    background-color: #383838;\n",
       "                }\n",
       "\n",
       "                .geemap-dark .jupyter-button {\n",
       "                    --jp-layout-color3: #383838;\n",
       "                }\n",
       "\n",
       "                .geemap-colab {\n",
       "                    background-color: var(--colab-primary-surface-color, white);\n",
       "                }\n",
       "\n",
       "                .geemap-colab .jupyter-button {\n",
       "                    --jp-layout-color3: var(--colab-primary-surface-color, white);\n",
       "                }\n",
       "            </style>\n",
       "            "
      ],
      "text/plain": [
       "<IPython.core.display.HTML object>"
      ]
     },
     "metadata": {},
     "output_type": "display_data"
    },
    {
     "name": "stderr",
     "output_type": "stream",
     "text": [
      "/usr/local/lib/python3.9/site-packages/ee/deprecation.py:207: DeprecationWarning: \n",
      "\n",
      "Attention required for JRC/GSW1_0/GlobalSurfaceWater! You are using a deprecated asset.\n",
      "To make sure your code keeps working, please update it.\n",
      "Learn more: https://developers.google.com/earth-engine/datasets/catalog/JRC_GSW1_0_GlobalSurfaceWater\n",
      "\n",
      "  warnings.warn(warning, category=DeprecationWarning)\n",
      "/usr/local/lib/python3.9/site-packages/ee/deprecation.py:207: DeprecationWarning: \n",
      "\n",
      "Attention required for MODIS/006/MOD09A1! You are using a deprecated asset.\n",
      "To make sure your code keeps working, please update it.\n",
      "Learn more: https://developers.google.com/earth-engine/datasets/catalog/MODIS_006_MOD09A1\n",
      "\n",
      "  warnings.warn(warning, category=DeprecationWarning)\n"
     ]
    },
    {
     "data": {
      "application/vnd.jupyter.widget-view+json": {
       "model_id": "f2d2b4089c89447eae64830799bc9de1",
       "version_major": 2,
       "version_minor": 0
      },
      "text/plain": [
       "Map(center=[-2.3332666874595325, 34.78445430188864], controls=(WidgetControl(options=['position', 'transparent…"
      ]
     },
     "execution_count": 4,
     "metadata": {},
     "output_type": "execute_result"
    }
   ],
   "source": [
    "Map = main(\"Serengeti National Park\", 2010)\n",
    "Map"
   ]
  }
 ],
 "metadata": {
  "kernelspec": {
   "display_name": "Python 3",
   "language": "python",
   "name": "python3"
  },
  "language_info": {
   "codemirror_mode": {
    "name": "ipython",
    "version": 3
   },
   "file_extension": ".py",
   "mimetype": "text/x-python",
   "name": "python",
   "nbconvert_exporter": "python",
   "pygments_lexer": "ipython3",
   "version": "3.9.22"
  }
 },
 "nbformat": 4,
 "nbformat_minor": 5
}
